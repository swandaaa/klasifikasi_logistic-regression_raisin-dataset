{
  "nbformat": 4,
  "nbformat_minor": 0,
  "metadata": {
    "colab": {
      "provenance": []
    },
    "kernelspec": {
      "name": "python3",
      "display_name": "Python 3"
    },
    "language_info": {
      "name": "python"
    }
  },
  "cells": [
    {
      "cell_type": "markdown",
      "source": [
        "# **Klasifikasi Varietas Kismis Menggunakan Model Logistic Regression**"
      ],
      "metadata": {
        "id": "4kFi-feh2Abs"
      }
    },
    {
      "cell_type": "markdown",
      "source": [
        "## **Business Understanding**"
      ],
      "metadata": {
        "id": "noAccz4v2Fxj"
      }
    },
    {
      "cell_type": "markdown",
      "source": [
        "### **Determine Business Objective (Menentukan Objek Bisnis)**"
      ],
      "metadata": {
        "id": "TZ3-hf282WMa"
      }
    },
    {
      "cell_type": "markdown",
      "source": [
        "#### **Background**"
      ],
      "metadata": {
        "id": "gt3vgm-S4fwK"
      }
    },
    {
      "cell_type": "markdown",
      "source": [
        "Kismis sebagai produk makanan khas Turki, memiliki peran penting dalam produksi kismis global. Penilaian kualitas kismis saat ini memerlukan waktu dan dapat tidak konsisten. Penelitian ini bertujuan untuk memanfaatkan ekstraksi fitur morfologis dari dataset kismis untuk mengembangkan model Logistic Regression (LR) yang dapat mengklasifikasikan varietas Kecimen dan Besni."
      ],
      "metadata": {
        "id": "-ero8xoCyx1a"
      }
    },
    {
      "cell_type": "markdown",
      "source": [
        "#### **Business Objectives**"
      ],
      "metadata": {
        "id": "etY-Kxnb4iU8"
      }
    },
    {
      "cell_type": "markdown",
      "source": [
        "1.   Membangun model Logistic Regression untuk mengklasifikasikan raisin berdasarkan fitur morfologis.\n",
        "  *   Model Logistic Regression  dipilih karena sederhana dan dapat memberikan hasil yang baik.\n",
        "  *   Fokus pada efisiensi dan kecepatan evaluasi kualitas raisin.\n",
        "2.   Menyediakan solusi evaluasi kualitas raisin yang cepat dan konsisten.\n",
        "  *   Meningkatkan kecepatan dan konsistensi dalam menilai kualitas raisin.\n",
        "3.   Eksplorasi potensi penerapan model pada produk-produk lain di Turki.\n",
        "  *   Memaksimalkan hasil dan manfaat model pada produk-produk serupa.\n"
      ],
      "metadata": {
        "id": "kpJIY-DozA7r"
      }
    },
    {
      "cell_type": "markdown",
      "source": [
        "#### **Business Success Criteria**"
      ],
      "metadata": {
        "id": "dahPt94D4lMj"
      }
    },
    {
      "cell_type": "markdown",
      "source": [
        "*   Kemampuan model atau analisis untuk membedakan dengan baik antara varietas Kecimen dan Besni berdasarkan 7 fitur morfologi yang diekstrak.\n",
        "*   Minimal 80% akurasi dalam mengklasifikasikan varietas raisin.\n",
        "*   Reduksi waktu penilaian kualitas raisin dari metode tradisional.\n",
        "*   Model dapat diadaptasi untuk produk-produk serupa dengan tingkat akurasi minimal 80%.\n",
        "\n"
      ],
      "metadata": {
        "id": "3IabJHqk0ILC"
      }
    },
    {
      "cell_type": "markdown",
      "source": [
        "### **Asses Situation**"
      ],
      "metadata": {
        "id": "VENTQNmo2eFq"
      }
    },
    {
      "cell_type": "markdown",
      "source": [
        "#### **Inventory of Resources**"
      ],
      "metadata": {
        "id": "1hIofrMG4rsC"
      }
    },
    {
      "cell_type": "markdown",
      "source": [
        "1.   **Personel**\n",
        "  *   Independen, menggabungkan peran sebagai data analyst, ahli bisnis, dan dukungan teknis.\n",
        "2.   **Data**\n",
        "  *   Terdapat 900 butir kismis, dengan 450 butir dari varietas Kecimen dan 450 dari varietas Besni.\n",
        "  *   Data gambar telah mengalami tahap pra-pemrosesan dan ekstraksi fitur, menghasilkan 7 fitur morfologi.\n",
        "3.   **Sumber Daya Komputasi**\n",
        "  *   Google Colab digunakan sebagai platform untuk menjalankan algoritma data mining.\n",
        "  * Scikit-learn library digunakan untuk eksekusi algoritma.\n",
        "4.   **Perangkat Lunak**\n",
        "    *   Antarmuka pengguna diimplementasikan menggunakan Streamlit"
      ],
      "metadata": {
        "id": "Wt-sGuH76S6-"
      }
    },
    {
      "cell_type": "markdown",
      "source": [
        "#### **Requirements, Assumptions & Constraints**"
      ],
      "metadata": {
        "id": "TrGnbPqV4uvw"
      }
    },
    {
      "cell_type": "markdown",
      "source": [
        "1.   **Persyaratan Proyek**\n",
        "  *   \n",
        "2.   **Asumsi Proyek**\n",
        "  *   \n",
        "3.    **Kendala Proyek**\n",
        "  *   "
      ],
      "metadata": {
        "id": "z1YYF45B70Kw"
      }
    },
    {
      "cell_type": "markdown",
      "source": [
        "#### **Risks and Contingencies**"
      ],
      "metadata": {
        "id": "jPd3g7Hl4zBq"
      }
    },
    {
      "cell_type": "markdown",
      "source": [
        "1.   **Risiko Proyek**\n",
        "  *   Kualitas data yang rendah atau tidak sesuai.\n",
        "2.   **Kontinjensi**\n",
        "  *   Pengembangan rencana untuk mengatasi risiko kualitas data dengan Data cleaning dan preprocessing tambahan."
      ],
      "metadata": {
        "id": "zV2cbwN273F6"
      }
    },
    {
      "cell_type": "markdown",
      "source": [
        "#### Terminology"
      ],
      "metadata": {
        "id": "n2fAcNWu44Fh"
      }
    },
    {
      "cell_type": "markdown",
      "source": [
        "1.   **Glosarium Istilah Bisnis**\n",
        "  *   Varietas Kecimen dan Besni: Jenis kismis yang tumbuh di Turki.\n",
        "  *   Morfologi: Karakteristik fisik dan bentuk dari gambar raisin.\n",
        "  *   Proses pra-pemrosesan: Tahapan awal dalam persiapan data untuk analisis.\n",
        "  *   Evaluasi kualitas: Proses penilaian untuk menilai sejauh mana hasil analisis atau model memenuhi standar atau kriteria tertentu, melibatkan aspek seperti akurasi, relevansi, dan keberhasilan terhadap tujuan bisnis.\n",
        "2.   **Glosarium Istilah Data Mining**\n",
        "  *   Ekstraksi Fitur Morfologi: Proses mengidentifikasi dan mengekstrak fitur-fitur penting dari gambar raisin.\n",
        "  *   Algoritma Data Mining: Metode matematis dan statistik untuk menghasilkan model dari dataset.\n",
        "  *   Evaluasi Model: Proses penilaian terhadap kinerja model data mining, mencakup pengukuran akurasi, presisi, recall, dan metrik lainnya untuk menentukan sejauh mana model dapat diandalkan dan efektif dalam menyelesaikan tugas yang dihadapi."
      ],
      "metadata": {
        "id": "K2ychDEJ75m9"
      }
    },
    {
      "cell_type": "markdown",
      "source": [
        "#### **Costs and Benefits**"
      ],
      "metadata": {
        "id": "adlFVQ-z46Pp"
      }
    },
    {
      "cell_type": "markdown",
      "source": [
        "**Analisis Biaya-Manfaat**\n",
        "  *   **Biaya proyek**: Terbatas pada upaya manusia, pelatihan, dan pemeliharaan.\n",
        "  *   **Manfaat bisnis**: Diukur dari potensi peningkatan efisiensi produksi, evaluasi kualitas raisin, dan potensi penggunaan model pada produk serupa."
      ],
      "metadata": {
        "id": "yz8jv_tA78PD"
      }
    },
    {
      "cell_type": "markdown",
      "source": [
        "### **Determine Data Mining Goals**"
      ],
      "metadata": {
        "id": "ymN7Jh0G2otF"
      }
    },
    {
      "cell_type": "markdown",
      "source": [
        "#### **Data Mining Goals**"
      ],
      "metadata": {
        "id": "HzbSc79b5ED3"
      }
    },
    {
      "cell_type": "markdown",
      "source": [
        "*   Menganalisis dataset raisin untuk mengidentifikasi perbedaan morfologi antara varietas Kecimen dan Besni.\n",
        "*   Membangun model data mining yang dapat memprediksi varietas kismis berdasarkan fitur morfologi.\n",
        "*   Mengembangkan model Logistic Regression untuk mengklasifikasikan varietas raisin berdasarkan fitur morfologis.\n",
        "*   Mengevaluasi performa model berdasarkan kriteria keberhasilan teknis.\n",
        "\n"
      ],
      "metadata": {
        "id": "b_wIpzqf-1zV"
      }
    },
    {
      "cell_type": "markdown",
      "source": [
        "#### **Data Mining Success Criteria**"
      ],
      "metadata": {
        "id": "zNBNh06w5Hbq"
      }
    },
    {
      "cell_type": "markdown",
      "source": [
        "*   Akurasi prediksi model data mining mencapai akurasi minimal 80%.\n",
        "*   Kemampuan model untuk mengidentifikasi dan memahami perbedaan morfologi yang signifikan.\n",
        "*   Keterpenuhan persyaratan teknis dan jadwal penyelesaian proyek."
      ],
      "metadata": {
        "id": "r1tGbq-g_Alf"
      }
    },
    {
      "cell_type": "markdown",
      "source": [
        "### **Produce Project Plan**\n"
      ],
      "metadata": {
        "id": "yttOqX4a2vYW"
      }
    },
    {
      "cell_type": "markdown",
      "source": [
        "#### **Project Plan**"
      ],
      "metadata": {
        "id": "yI0Fo5tx5LRy"
      }
    },
    {
      "cell_type": "markdown",
      "source": [
        "#### **Initial Assessment of Tools, and Techniques**\n"
      ],
      "metadata": {
        "id": "KyUTIW8b5PRS"
      }
    },
    {
      "cell_type": "markdown",
      "source": [
        "*   Memilih Python sebagai bahasa pemrograman utama.\n",
        "*   Menggunakan scikit-learn library untuk implementasi Logistic Regression.\n",
        "\n"
      ],
      "metadata": {
        "id": "Oj6GMPBI_1Ec"
      }
    },
    {
      "cell_type": "markdown",
      "source": [
        "## **Data Understanding**"
      ],
      "metadata": {
        "id": "xiyUF_7W2JHT"
      }
    },
    {
      "cell_type": "markdown",
      "source": [
        "### **Collect Initial Data**"
      ],
      "metadata": {
        "id": "SVSD55hh25gB"
      }
    },
    {
      "cell_type": "code",
      "source": [
        "from google.colab import drive\n",
        "drive.mount('/content/drive')"
      ],
      "metadata": {
        "colab": {
          "base_uri": "https://localhost:8080/"
        },
        "id": "U4Y2viqdfiLf",
        "outputId": "c81bc785-ccf7-41df-f6d5-103261e69faa"
      },
      "execution_count": null,
      "outputs": [
        {
          "output_type": "stream",
          "name": "stdout",
          "text": [
            "Mounted at /content/drive\n"
          ]
        }
      ]
    },
    {
      "cell_type": "code",
      "source": [
        "import pandas as pd\n",
        "import matplotlib.pyplot as plt\n",
        "import seaborn as sns\n",
        "import numpy as np"
      ],
      "metadata": {
        "id": "aabPbB3sfi5X"
      },
      "execution_count": null,
      "outputs": []
    },
    {
      "cell_type": "code",
      "source": [
        "# Baca dataset ke dalam DataFrame\n",
        "data = pd.read_excel('/content/drive/MyDrive/psd/raisin/Raisin_Dataset.xlsx')"
      ],
      "metadata": {
        "id": "ZYdhfbpufkXY"
      },
      "execution_count": null,
      "outputs": []
    },
    {
      "cell_type": "markdown",
      "source": [
        "#### **Initial Data Collection Report**"
      ],
      "metadata": {
        "id": "H-AQnI_m5kES"
      }
    },
    {
      "cell_type": "markdown",
      "source": [
        "\n",
        "*   **Sumber data**: Dataset raisin diperoleh dari sumber penelitian yang melakukan ekstraksi fitur morfologi terhadap foto 900 butir kismis (450 dari varietas Kecimen dan 450 dari varietas Besni) dengan melakukan image processing.\n",
        "*   **Lokasi dataset**: Turki.\n",
        "*   **Metode perolehan data**: Pengunduhan dataset dari UCI Machine Learning (https://archive.ics.uci.edu/dataset/850/raisin).\n",
        "*   **Masalah yang dihadapi**: Tidak ada masalah yang dihadapi selama perolehan data."
      ],
      "metadata": {
        "id": "X8m5ZSq_EFaa"
      }
    },
    {
      "cell_type": "markdown",
      "source": [
        "### **Describe Data**"
      ],
      "metadata": {
        "id": "HtSvueh426Kq"
      }
    },
    {
      "cell_type": "markdown",
      "source": [
        "Raisin dataset diperoleh dari hasil Computer Vision System (CVS) dari gambar varietas kismis Kecimen dan Besni yang tumbuh di Turki. Sebanyak 900 butir kismis digunakan, dimana terdapat 450 butir dari setiap varietas tersebut. Gambar-gambar ini telah menjalani berbagai tahap pra-pemrosesan dan ekstraksi fitur yang menghasilkan 7 fitur morfologi."
      ],
      "metadata": {
        "id": "OPCdDFfCnlXU"
      }
    },
    {
      "cell_type": "markdown",
      "source": [
        "#### **Data Description Report**"
      ],
      "metadata": {
        "id": "rujEkBdj5pYC"
      }
    },
    {
      "cell_type": "markdown",
      "source": [
        "*   Total 900 baris (450 Kecimen, 450 Besni), dengan 7 kolom atribut morfologis.\n",
        "*   Atribut meliputi Area, Perimeter, MajorAxisLength, MinorAxisLength, Eccentricity, ConvexArea, dan Extent.\n",
        "*   Data berupa nilai numerik yang mencerminkan atribut morfologis."
      ],
      "metadata": {
        "id": "na4zRsWeEBaj"
      }
    },
    {
      "cell_type": "markdown",
      "source": [
        "### **Explore Data**"
      ],
      "metadata": {
        "id": "wXjcpq9t28dJ"
      }
    },
    {
      "cell_type": "code",
      "source": [
        "# Loop melalui setiap kolom dan membuat histogram untuk kolom numerik\n",
        "for column in data.columns:\n",
        "    if data[column].dtype != 'O':  # Filter kolom numerik\n",
        "        plt.subplot(2, 2, 1)  # Ganti angka ini sesuai kebutuhan\n",
        "        plt.hist(data[column], bins=20, edgecolor='black')\n",
        "        plt.title(f'Histogram of {column}')\n",
        "        plt.tight_layout()\n",
        "        plt.show()\n",
        "        print(\"\")"
      ],
      "metadata": {
        "colab": {
          "base_uri": "https://localhost:8080/",
          "height": 1000
        },
        "id": "hTfM2aJrgCTr",
        "outputId": "2f2aabd4-e439-45a1-fbc6-226a663fe5cf"
      },
      "execution_count": null,
      "outputs": [
        {
          "output_type": "display_data",
          "data": {
            "text/plain": [
              "<Figure size 640x480 with 1 Axes>"
            ],
            "image/png": "[encoded data removed]"
          },
          "metadata": {}
        },
        {
          "output_type": "stream",
          "name": "stdout",
          "text": [
            "\n"
          ]
        },
        {
          "output_type": "display_data",
          "data": {
            "text/plain": [
              "<Figure size 640x480 with 1 Axes>"
            ],
            "image/png": "[encoded data removed]"
          },
          "metadata": {}
        },
        {
          "output_type": "stream",
          "name": "stdout",
          "text": [
            "\n"
          ]
        },
        {
          "output_type": "display_data",
          "data": {
            "text/plain": [
              "<Figure size 640x480 with 1 Axes>"
            ],
            "image/png": "[encoded data removed]"
          },
          "metadata": {}
        },
        {
          "output_type": "stream",
          "name": "stdout",
          "text": [
            "\n"
          ]
        },
        {
          "output_type": "display_data",
          "data": {
            "text/plain": [
              "<Figure size 640x480 with 1 Axes>"
            ],
            "image/png": "[encoded data removed]"
          },
          "metadata": {}
        },
        {
          "output_type": "stream",
          "name": "stdout",
          "text": [
            "\n"
          ]
        },
        {
          "output_type": "display_data",
          "data": {
            "text/plain": [
              "<Figure size 640x480 with 1 Axes>"
            ],
            "image/png": "[encoded data removed]"
          },
          "metadata": {}
        },
        {
          "output_type": "stream",
          "name": "stdout",
          "text": [
            "\n"
          ]
        },
        {
          "output_type": "display_data",
          "data": {
            "text/plain": [
              "<Figure size 640x480 with 1 Axes>"
            ],
            "image/png": "[encoded data removed]"
          },
          "metadata": {}
        },
        {
          "output_type": "stream",
          "name": "stdout",
          "text": [
            "\n"
          ]
        },
        {
          "output_type": "display_data",
          "data": {
            "text/plain": [
              "<Figure size 640x480 with 1 Axes>"
            ],
            "image/png": "[encoded data removed]"
          },
          "metadata": {}
        },
        {
          "output_type": "stream",
          "name": "stdout",
          "text": [
            "\n"
          ]
        }
      ]
    },
    {
      "cell_type": "markdown",
      "source": [
        "#### **Data Exploration Report**"
      ],
      "metadata": {
        "id": "0H2Z8CZN5sNw"
      }
    },
    {
      "cell_type": "markdown",
      "source": [
        "### **Verify Data Quality**"
      ],
      "metadata": {
        "id": "ilVb8e_Q3BGa"
      }
    },
    {
      "cell_type": "code",
      "source": [
        "data.info()"
      ],
      "metadata": {
        "colab": {
          "base_uri": "https://localhost:8080/"
        },
        "id": "6L4_yieF3jAK",
        "outputId": "ddf1e103-cd6b-4cc4-886c-6d790df6c579"
      },
      "execution_count": null,
      "outputs": [
        {
          "output_type": "stream",
          "name": "stdout",
          "text": [
            "<class 'pandas.core.frame.DataFrame'>\n",
            "RangeIndex: 900 entries, 0 to 899\n",
            "Data columns (total 8 columns):\n",
            " #   Column           Non-Null Count  Dtype  \n",
            "---  ------           --------------  -----  \n",
            " 0   Area             900 non-null    int64  \n",
            " 1   MajorAxisLength  900 non-null    float64\n",
            " 2   MinorAxisLength  900 non-null    float64\n",
            " 3   Eccentricity     900 non-null    float64\n",
            " 4   ConvexArea       900 non-null    int64  \n",
            " 5   Extent           900 non-null    float64\n",
            " 6   Perimeter        900 non-null    float64\n",
            " 7   Class            900 non-null    object \n",
            "dtypes: float64(5), int64(2), object(1)\n",
            "memory usage: 56.4+ KB\n"
          ]
        }
      ]
    },
    {
      "cell_type": "markdown",
      "source": [
        "#### **Missing Values**"
      ],
      "metadata": {
        "id": "2GHpggtDgH4R"
      }
    },
    {
      "cell_type": "code",
      "source": [
        "# Mengecek missing value pada suatu kolom\n",
        "koloms = ['Area','MajorAxisLength','MinorAxisLength','Eccentricity','ConvexArea','Extent','Perimeter']\n",
        "for kolom in koloms:\n",
        "  if data[kolom].isnull().any():\n",
        "      print(f'Terdapat missing value pada kolom {kolom}')\n",
        "      # Menampilkan baris yang memiliki missing value\n",
        "      baris_missing = data[data[kolom].isnull()].index\n",
        "      print(f'Baris yang memiliki missing value: {baris_missing}')\n",
        "  else:\n",
        "      print(f'Tidak terdapat missing value pada kolom {kolom}')"
      ],
      "metadata": {
        "colab": {
          "base_uri": "https://localhost:8080/"
        },
        "id": "U8__-jF5gFyS",
        "outputId": "9d1ae909-da13-48b5-af89-d98ad4cc6959"
      },
      "execution_count": null,
      "outputs": [
        {
          "output_type": "stream",
          "name": "stdout",
          "text": [
            "Tidak terdapat missing value pada kolom Area\n",
            "Tidak terdapat missing value pada kolom MajorAxisLength\n",
            "Tidak terdapat missing value pada kolom MinorAxisLength\n",
            "Tidak terdapat missing value pada kolom Eccentricity\n",
            "Tidak terdapat missing value pada kolom ConvexArea\n",
            "Tidak terdapat missing value pada kolom Extent\n",
            "Tidak terdapat missing value pada kolom Perimeter\n"
          ]
        }
      ]
    },
    {
      "cell_type": "markdown",
      "source": [
        "#### **Outliers**"
      ],
      "metadata": {
        "id": "yGz_0OnyggHy"
      }
    },
    {
      "cell_type": "code",
      "source": [
        "# Loop melalui setiap kolom dan membuat box plot untuk kolom numerik\n",
        "for column in data.columns:\n",
        "    if data[column].dtype != 'O':  # Filter kolom numerik\n",
        "        plt.subplot(2, 2, 1)  # Ganti angka ini sesuai kebutuhan\n",
        "        sns.boxplot(x=data[column])\n",
        "        plt.title(f'Boxplot of {column}')\n",
        "        plt.tight_layout()\n",
        "        plt.show()"
      ],
      "metadata": {
        "colab": {
          "base_uri": "https://localhost:8080/",
          "height": 1000
        },
        "id": "KELogBsoghj8",
        "outputId": "21293ffc-feae-4daa-d070-c818a40c3ebc"
      },
      "execution_count": null,
      "outputs": [
        {
          "output_type": "display_data",
          "data": {
            "text/plain": [
              "<Figure size 640x480 with 1 Axes>"
            ],
            "image/png": "[encoded data removed]"
          },
          "metadata": {}
        },
        {
          "output_type": "display_data",
          "data": {
            "text/plain": [
              "<Figure size 640x480 with 1 Axes>"
            ],
            "image/png": "[encoded data removed]"
          },
          "metadata": {}
        },
        {
          "output_type": "display_data",
          "data": {
            "text/plain": [
              "<Figure size 640x480 with 1 Axes>"
            ],
            "image/png": "[encoded data removed]"
          },
          "metadata": {}
        },
        {
          "output_type": "display_data",
          "data": {
            "text/plain": [
              "<Figure size 640x480 with 1 Axes>"
            ],
            "image/png": "[encoded data removed]"
          },
          "metadata": {}
        },
        {
          "output_type": "display_data",
          "data": {
            "text/plain": [
              "<Figure size 640x480 with 1 Axes>"
            ],
            "image/png": "[encoded data removed]"
          },
          "metadata": {}
        },
        {
          "output_type": "display_data",
          "data": {
            "text/plain": [
              "<Figure size 640x480 with 1 Axes>"
            ],
            "image/png": "[encoded data removed]"
          },
          "metadata": {}
        },
        {
          "output_type": "display_data",
          "data": {
            "text/plain": [
              "<Figure size 640x480 with 1 Axes>"
            ],
            "image/png": "[encoded data removed]"
          },
          "metadata": {}
        }
      ]
    },
    {
      "cell_type": "code",
      "source": [
        "import pandas as pd\n",
        "import numpy as np\n",
        "from scipy.stats import zscore\n",
        "\n",
        "# Menentukan kolom yang akan diperiksa\n",
        "columns_to_check = ['Area', 'MajorAxisLength', 'MinorAxisLength', 'Eccentricity', 'ConvexArea', 'Extent', 'Perimeter']\n",
        "\n",
        "# Menghitung Z-Scores hanya untuk kolom-kolom yang diinginkan\n",
        "z_scores = zscore(data[columns_to_check])\n",
        "\n",
        "# Menentukan threshold Z-Score (misalnya, 3)\n",
        "threshold = 3\n",
        "\n",
        "# Mendeteksi outlier\n",
        "outliers = (np.abs(z_scores) > threshold).any(axis=1)\n",
        "\n",
        "# Menampilkan informasi tentang outlier\n",
        "outlier_info = {\n",
        "    'values': data[outliers].values.tolist(),\n",
        "    'indices': data[outliers].index.tolist(),\n",
        "    'total': sum(outliers)\n",
        "}\n",
        "\n",
        "print(f\"Outliers:\")\n",
        "print(f\"Indices: {outlier_info['indices']}\")\n",
        "print(f\"Values: {outlier_info['values']}\")\n",
        "print(f\"Total outliers: {outlier_info['total']}\")\n"
      ],
      "metadata": {
        "colab": {
          "base_uri": "https://localhost:8080/"
        },
        "id": "m7cwMB9XgkO4",
        "outputId": "5186e859-a5db-47f5-f124-4eb615d17641"
      },
      "execution_count": null,
      "outputs": [
        {
          "output_type": "stream",
          "name": "stdout",
          "text": [
            "Outliers:\n",
            "Indices: [13, 23, 34, 43, 85, 106, 156, 192, 197, 235, 251, 253, 290, 316, 356, 459, 483, 487, 490, 498, 506, 507, 536, 552, 579, 580, 581, 616, 668, 682, 694, 708, 769, 802, 804, 812, 829, 836, 866, 880]\n",
            "Values: [[76792, 338.8575454, 291.3592017, 0.510583813, 78842, 0.772322237, 1042.77, 'Kecimen'], [61251, 301.5077895, 273.6599414, 0.419753707, 64732, 0.643595671, 971.769, 'Kecimen'], [46427, 253.8420284, 235.9068241, 0.369212459, 48275, 0.684219059, 844.312, 'Kecimen'], [92384, 368.4062138, 320.7145792, 0.492086934, 93772, 0.749006827, 1135.662, 'Kecimen'], [180898, 843.9566534, 323.1905688, 0.923770364, 221396, 0.454188929, 2253.557, 'Kecimen'], [48945, 269.3704112, 239.1621656, 0.460121209, 51456, 0.711244478, 872.289, 'Kecimen'], [45962, 251.1333844, 235.3680757, 0.348729642, 47173, 0.742280362, 810.195, 'Kecimen'], [37569, 232.4278475, 208.1520065, 0.44495009, 38874, 0.794371379, 734.102, 'Kecimen'], [86545, 350.1278744, 315.7195205, 0.432307345, 87512, 0.785886818, 1070.062, 'Kecimen'], [39716, 243.0382802, 210.1140569, 0.502579995, 40598, 0.779432833, 737.468, 'Kecimen'], [45598, 259.8962651, 225.6562198, 0.496118267, 47266, 0.741286253, 813.276, 'Kecimen'], [39439, 246.7636115, 212.635393, 0.507423663, 42795, 0.646827284, 793.005, 'Kecimen'], [136340, 722.8539172, 311.3413551, 0.902489762, 176818, 0.529774048, 2098.263, 'Kecimen'], [55746, 280.3131243, 254.6003304, 0.418381972, 56989, 0.730654294, 875.659, 'Kecimen'], [58460, 290.7535562, 258.3843539, 0.458544698, 60254, 0.774756149, 908.357, 'Kecimen'], [83107, 507.3808994, 233.1538498, 0.8881652, 93706, 0.491002009, 1367.331, 'Besni'], [92188, 374.7201638, 324.3025616, 0.500990716, 95920, 0.747599585, 1190.813, 'Besni'], [210923, 984.0454912, 367.2795321, 0.927737116, 278217, 0.507352075, 2697.753, 'Besni'], [171256, 531.3732054, 412.3828168, 0.630646744, 174277, 0.70191488, 1559.214, 'Besni'], [116406, 612.665318, 251.8328267, 0.911615194, 125638, 0.526259635, 1480.951, 'Besni'], [182160, 997.2919406, 271.8723954, 0.96212444, 221527, 0.379856115, 2303.69, 'Besni'], [208264, 675.0983445, 395.5792906, 0.810341407, 212813, 0.771748314, 1755.167, 'Besni'], [81604, 528.5858925, 204.7395131, 0.921939284, 87172, 0.491460095, 1299.386, 'Besni'], [204864, 596.6398018, 440.4971275, 0.674476207, 209457, 0.751009036, 1726.246, 'Besni'], [130868, 613.1726145, 273.1819147, 0.895270971, 134139, 0.536784249, 1513.352, 'Besni'], [206720, 713.4725493, 373.6425439, 0.851905369, 210114, 0.780576219, 1866.091, 'Besni'], [205497, 632.7276067, 414.1883255, 0.755968807, 209486, 0.76928865, 1736.839, 'Besni'], [199015, 615.4172359, 413.9274732, 0.740009433, 201464, 0.768569796, 1687.866, 'Besni'], [206689, 746.145341, 355.3006855, 0.879346962, 212569, 0.745808887, 1876.028, 'Besni'], [106923, 591.1158376, 234.8233464, 0.917708543, 111428, 0.522278775, 1425.109, 'Besni'], [172783, 820.724022, 352.1936798, 0.903244833, 219952, 0.496936979, 2289.889, 'Besni'], [222915, 731.5594062, 389.9466998, 0.84609325, 227170, 0.770542973, 1876.307, 'Besni'], [195281, 609.8297259, 408.5356188, 0.742435528, 197426, 0.769656124, 1639.103, 'Besni'], [71502, 490.4334789, 189.4429399, 0.922383026, 75157, 0.500546035, 1182.852, 'Besni'], [223075, 694.2475503, 411.810369, 0.805073466, 225916, 0.764940471, 1812.569, 'Besni'], [235047, 772.956877, 388.201507, 0.864734549, 239093, 0.711672732, 1942.05, 'Besni'], [127292, 639.8506348, 258.3819447, 0.914840211, 129101, 0.534714521, 1496.062, 'Besni'], [181126, 949.6626718, 293.386698, 0.951082244, 225592, 0.414153748, 2352.029, 'Besni'], [225043, 740.0037432, 390.3008576, 0.849597917, 229195, 0.744187354, 1853.893, 'Besni'], [218459, 571.2892031, 492.2752785, 0.507431838, 228259, 0.731973651, 1947.46, 'Besni']]\n",
            "Total outliers: 40\n"
          ]
        }
      ]
    },
    {
      "cell_type": "markdown",
      "source": [
        "#### **Balance Data**"
      ],
      "metadata": {
        "id": "EPUAaCu-gmtI"
      }
    },
    {
      "cell_type": "code",
      "source": [
        "# Menghitung jumlah data per kelas pada kolom target\n",
        "class_counts = data['Class'].value_counts()\n",
        "\n",
        "# Menampilkan hasil\n",
        "print(class_counts)"
      ],
      "metadata": {
        "colab": {
          "base_uri": "https://localhost:8080/"
        },
        "id": "VJMZnb0vgoZo",
        "outputId": "b09a90a3-5efb-48e5-e9a4-a1649c8ea059"
      },
      "execution_count": null,
      "outputs": [
        {
          "output_type": "stream",
          "name": "stdout",
          "text": [
            "Kecimen    450\n",
            "Besni      450\n",
            "Name: Class, dtype: int64\n"
          ]
        }
      ]
    },
    {
      "cell_type": "code",
      "source": [
        "import matplotlib.pyplot as plt\n",
        "\n",
        "# Menampilkan bar plot jumlah data per kelas\n",
        "plt.figure(figsize=(8, 6))\n",
        "class_counts.plot(kind='bar', color='skyblue')\n",
        "plt.title('Jumlah Data per Kelas')\n",
        "plt.xlabel('Kelas')\n",
        "plt.ylabel('Jumlah Data')\n",
        "plt.show()"
      ],
      "metadata": {
        "colab": {
          "base_uri": "https://localhost:8080/",
          "height": 609
        },
        "id": "xkR-hCs9gr2y",
        "outputId": "101b6771-c240-4e88-db3b-bd0535e29823"
      },
      "execution_count": null,
      "outputs": [
        {
          "output_type": "display_data",
          "data": {
            "text/plain": [
              "<Figure size 800x600 with 1 Axes>"
            ],
            "image/png": "[encoded data removed]"
          },
          "metadata": {}
        }
      ]
    },
    {
      "cell_type": "markdown",
      "source": [
        "#### **Data Quality Report**"
      ],
      "metadata": {
        "id": "pL7IdJGr5wmB"
      }
    },
    {
      "cell_type": "markdown",
      "source": [
        "*   Data lengkap: Data mencakup 900 butir kismis.\n",
        "*   Missing values: Tidak ada nilai yang hilang dalam data.\n",
        "*   Outliers: Terdapat 40 baris outlier dalam data.\n",
        "*   Balance Data: Jumlah data setiap varietas sama besar sebanyak 450 data."
      ],
      "metadata": {
        "id": "ydf87fQNEa5T"
      }
    },
    {
      "cell_type": "markdown",
      "source": [
        "## Data Preparation"
      ],
      "metadata": {
        "id": "afYoSBNr2L3a"
      }
    },
    {
      "cell_type": "markdown",
      "source": [
        "#### **Dataset**"
      ],
      "metadata": {
        "id": "x4j7vhJ06QGz"
      }
    },
    {
      "cell_type": "markdown",
      "source": [
        "Dataset yang dihasilkan oleh fase persiapan data telah melalui serangkaian langkah pemahaman untuk digunakan dalam pemodelan menggunakan Logistic Regression."
      ],
      "metadata": {
        "id": "GyqoOvT6E3dM"
      }
    },
    {
      "cell_type": "markdown",
      "source": [
        "#### **Dataset Description**"
      ],
      "metadata": {
        "id": "mniMyZBg6TxB"
      }
    },
    {
      "cell_type": "markdown",
      "source": [
        "1. Area: Memberikan jumlah piksel dalam batas kismis.\n",
        "2. Keliling: Mengukur lingkungan dengan menghitung jarak antara batas kismis dan piksel di sekitarnya.\n",
        "3. Panjang Sumbu Utama: Memberikan panjang sumbu utama, yaitu garis terpanjang yang dapat digambar di atas kismis.\n",
        "4. Panjang Sumbu Minor: Memberikan panjang sumbu kecil, yaitu garis terpendek yang dapat digambar di atas kismis.\n",
        "5. Eksentrisitas: Memberikan ukuran eksentrisitas elips, yang memiliki momen yang sama dengan kismis.\n",
        "6. Luas Cembung: Memberikan jumlah piksel dari cangkang cembung terkecil dari wilayah yang dibentuk oleh kismis.\n",
        "7. Keluasan: Memberikan rasio wilayah yang dibentuk oleh kismis terhadap total piksel dalam kotak pembatas.\n",
        "8. Kelas: Kismis Kecimen dan Besni.\n",
        "\n",
        "### **Tipe Data fitur**:\n",
        "\n",
        "1. **Area**: Rasio (Ratio) - Data ini memiliki titik nol yang bermakna (karena area tidak dapat negatif), dan perbandingan antara dua nilai area memiliki arti yang jelas.\n",
        "\n",
        "2. **Keliling**: Rasio (Ratio) - Seperti area, keliling juga memiliki titik nol yang bermakna, dan perbandingan antara dua nilai keliling memiliki arti yang jelas.\n",
        "\n",
        "3. **Panjang Sumbu Utama**: Rasio (Ratio) - Panjang sumbu utama memiliki titik nol yang bermakna, dan perbandingan antara dua nilai panjang sumbu utama memiliki arti yang jelas.\n",
        "\n",
        "4. **Panjang Sumbu Minor**: Rasio (Ratio) - Panjang sumbu minor memiliki titik nol yang bermakna, dan perbandingan antara dua nilai panjang sumbu minor memiliki arti yang jelas.\n",
        "\n",
        "5. **Eksentrisitas**: Interval - Eksentrisitas memiliki rentang tertentu (biasanya antara 0 dan 1), tetapi tidak memiliki titik nol yang bermakna. Ini dianggap sebagai data interval karena dapat diukur dan diurutkan, tetapi perbandingan nilai mungkin tidak selalu bermakna.\n",
        "\n",
        "6. **Luas Cembung**: Rasio (Ratio) - Seperti area, luas cembung memiliki titik nol yang bermakna, dan perbandingan antara dua nilai luas cembung memiliki arti yang jelas.\n",
        "\n",
        "7. **Keluasan**: Rasio (Ratio) - Seperti area, keluasan memiliki titik nol yang bermakna, dan perbandingan antara dua nilai keluasan memiliki arti yang jelas.\n",
        "\n",
        "8. **Kelas**: Nominal - Kelas adalah data kategorikal tanpa tingkat ordinalitas atau urutan yang dapat diatribusikan ke kategori tersebut.\n",
        "\n",
        "\n",
        "*   Rasio: Area, Keliling, Panjang Sumbu Utama, Panjang Sumbu Minor, Luas Cembung, Keluasan\n",
        "*  Interval: Eksentrisitas\n",
        "*  Nominal: Kelas"
      ],
      "metadata": {
        "id": "1GHr3VmJnpOd"
      }
    },
    {
      "cell_type": "markdown",
      "source": [
        "### **Select Data**"
      ],
      "metadata": {
        "id": "buv9SjEY3DZS"
      }
    },
    {
      "cell_type": "code",
      "source": [
        "# Pisahkan data menjadi fitur (X) dan label (y)\n",
        "X = data.drop('Class', axis=1)\n",
        "y = data['Class']"
      ],
      "metadata": {
        "id": "vDfKiC1Bgx6h"
      },
      "execution_count": null,
      "outputs": []
    },
    {
      "cell_type": "markdown",
      "source": [
        "#### **Pemilihan Fitur (Feature Selection) - Information Gain**"
      ],
      "metadata": {
        "id": "X1ZByzVJg1s3"
      }
    },
    {
      "cell_type": "code",
      "source": [
        "import pandas as pd\n",
        "from sklearn.feature_selection import mutual_info_classif\n",
        "import matplotlib.pyplot as plt\n",
        "%matplotlib inline\n",
        "\n",
        "# Menghitung mutual information\n",
        "importances = mutual_info_classif(X, y)\n",
        "\n",
        "# Membuat Series dari hasil perhitungan mutual information\n",
        "feat_importances = pd.Series(importances, index=X.columns)\n",
        "\n",
        "# Plot bar chart\n",
        "feat_importances.plot(kind='barh', color='teal')\n",
        "plt.xlabel('Mutual Information')\n",
        "plt.show()"
      ],
      "metadata": {
        "colab": {
          "base_uri": "https://localhost:8080/",
          "height": 449
        },
        "id": "I5QzKx6Yg7kY",
        "outputId": "7f6c89e0-4753-4495-84ad-d53c5ee276dc"
      },
      "execution_count": null,
      "outputs": [
        {
          "output_type": "display_data",
          "data": {
            "text/plain": [
              "<Figure size 640x480 with 1 Axes>"
            ],
            "image/png": "[encoded data removed]"
          },
          "metadata": {}
        }
      ]
    },
    {
      "cell_type": "code",
      "source": [
        "for i, feature in enumerate(X.columns):\n",
        "  print(f\"Mutual Information for {feature}: {importances[i]}\")"
      ],
      "metadata": {
        "colab": {
          "base_uri": "https://localhost:8080/"
        },
        "id": "nVeLZmCqhBQw",
        "outputId": "49a8d968-9431-4c8d-ab28-13c4b600589b"
      },
      "execution_count": null,
      "outputs": [
        {
          "output_type": "stream",
          "name": "stdout",
          "text": [
            "Mutual Information for Area: 0.2779525852508964\n",
            "Mutual Information for MajorAxisLength: 0.34834107401237\n",
            "Mutual Information for MinorAxisLength: 0.13486920234749755\n",
            "Mutual Information for Eccentricity: 0.12911725093005044\n",
            "Mutual Information for ConvexArea: 0.2975680307534163\n",
            "Mutual Information for Extent: 0.029344123584051918\n",
            "Mutual Information for Perimeter: 0.3585072377567762\n"
          ]
        }
      ]
    },
    {
      "cell_type": "code",
      "source": [
        "data_dropExtent = data.drop('Extent', axis=1)\n",
        "data_dropEccent = data_dropExtent.drop('Eccentricity', axis=1)\n",
        "data_dropMinor = data_dropEccent.drop('MinorAxisLength', axis=1)"
      ],
      "metadata": {
        "id": "JRE1kY2thDko"
      },
      "execution_count": null,
      "outputs": []
    },
    {
      "cell_type": "code",
      "source": [
        "data_dropExtent.info()"
      ],
      "metadata": {
        "colab": {
          "base_uri": "https://localhost:8080/"
        },
        "id": "Ka-705vmhKbo",
        "outputId": "0dc11a9e-fd8e-424f-a204-ec93434f15b9"
      },
      "execution_count": null,
      "outputs": [
        {
          "output_type": "stream",
          "name": "stdout",
          "text": [
            "<class 'pandas.core.frame.DataFrame'>\n",
            "RangeIndex: 900 entries, 0 to 899\n",
            "Data columns (total 7 columns):\n",
            " #   Column           Non-Null Count  Dtype  \n",
            "---  ------           --------------  -----  \n",
            " 0   Area             900 non-null    int64  \n",
            " 1   MajorAxisLength  900 non-null    float64\n",
            " 2   MinorAxisLength  900 non-null    float64\n",
            " 3   Eccentricity     900 non-null    float64\n",
            " 4   ConvexArea       900 non-null    int64  \n",
            " 5   Perimeter        900 non-null    float64\n",
            " 6   Class            900 non-null    object \n",
            "dtypes: float64(4), int64(2), object(1)\n",
            "memory usage: 49.3+ KB\n"
          ]
        }
      ]
    },
    {
      "cell_type": "code",
      "source": [
        "data_dropEccent.info()"
      ],
      "metadata": {
        "colab": {
          "base_uri": "https://localhost:8080/"
        },
        "id": "ENWr5lC4hL67",
        "outputId": "72221c98-afd4-4534-f7fa-44dfe3337194"
      },
      "execution_count": null,
      "outputs": [
        {
          "output_type": "stream",
          "name": "stdout",
          "text": [
            "<class 'pandas.core.frame.DataFrame'>\n",
            "RangeIndex: 900 entries, 0 to 899\n",
            "Data columns (total 6 columns):\n",
            " #   Column           Non-Null Count  Dtype  \n",
            "---  ------           --------------  -----  \n",
            " 0   Area             900 non-null    int64  \n",
            " 1   MajorAxisLength  900 non-null    float64\n",
            " 2   MinorAxisLength  900 non-null    float64\n",
            " 3   ConvexArea       900 non-null    int64  \n",
            " 4   Perimeter        900 non-null    float64\n",
            " 5   Class            900 non-null    object \n",
            "dtypes: float64(3), int64(2), object(1)\n",
            "memory usage: 42.3+ KB\n"
          ]
        }
      ]
    },
    {
      "cell_type": "code",
      "source": [
        "data_dropMinor.info()"
      ],
      "metadata": {
        "colab": {
          "base_uri": "https://localhost:8080/"
        },
        "id": "qHN7Em84hNlQ",
        "outputId": "307dc9c5-e3bb-475d-c398-dd120f9b1d9a"
      },
      "execution_count": null,
      "outputs": [
        {
          "output_type": "stream",
          "name": "stdout",
          "text": [
            "<class 'pandas.core.frame.DataFrame'>\n",
            "RangeIndex: 900 entries, 0 to 899\n",
            "Data columns (total 5 columns):\n",
            " #   Column           Non-Null Count  Dtype  \n",
            "---  ------           --------------  -----  \n",
            " 0   Area             900 non-null    int64  \n",
            " 1   MajorAxisLength  900 non-null    float64\n",
            " 2   ConvexArea       900 non-null    int64  \n",
            " 3   Perimeter        900 non-null    float64\n",
            " 4   Class            900 non-null    object \n",
            "dtypes: float64(2), int64(2), object(1)\n",
            "memory usage: 35.3+ KB\n"
          ]
        }
      ]
    },
    {
      "cell_type": "markdown",
      "source": [
        "#### **Rationale for Inclusion/Exclusion**"
      ],
      "metadata": {
        "id": "csQtNrD56aK1"
      }
    },
    {
      "cell_type": "markdown",
      "source": [
        "*   Inklusi: Seluruh dataset raisin termasuk karena relevan dengan tujuan data mining dan memiliki kualitas yang baik.\n",
        "Dipilih semua atribut morfologis yang relevan untuk klasifikasi raisin (Area, Perimeter, MajorAxisLength, MinorAxisLength, Eccentricity, ConvexArea, Extent).\n",
        "*   Eksklusi: Tidak ada eksklusi data karena dataset lengkap dan relevan. Tidak ada data yang dihapus; hanya beberapa nilai yang hilang diatasi dengan pengisian nilai rata-rata."
      ],
      "metadata": {
        "id": "Ln6_NwsMFO4b"
      }
    },
    {
      "cell_type": "markdown",
      "source": [
        "### **Clean Data**"
      ],
      "metadata": {
        "id": "NpXwGISQ3Fkg"
      }
    },
    {
      "cell_type": "markdown",
      "source": [
        "#### **Mengatasi Outlier**"
      ],
      "metadata": {
        "id": "GR7VuIjjhQ8i"
      }
    },
    {
      "cell_type": "markdown",
      "source": [
        "##### **Menghapus Outlier**"
      ],
      "metadata": {
        "id": "afB_-N4Vho84"
      }
    },
    {
      "cell_type": "code",
      "source": [
        "# Menghapus baris yang mengandung outlier\n",
        "data_dropOutlier = data[~outliers]\n",
        "data_dropExtent_dropOutlier = data_dropExtent[~outliers]\n",
        "data_dropEccent_dropOutlier = data_dropEccent[~outliers]\n",
        "data_dropMinor_dropOutlier = data_dropMinor[~outliers]"
      ],
      "metadata": {
        "id": "gQA7k2S5hQcI"
      },
      "execution_count": null,
      "outputs": []
    },
    {
      "cell_type": "code",
      "source": [
        "# Menghitung jumlah data per kelas pada kolom target\n",
        "class_counts = data_dropOutlier['Class'].value_counts()\n",
        "\n",
        "# Menampilkan hasil\n",
        "print(class_counts)"
      ],
      "metadata": {
        "colab": {
          "base_uri": "https://localhost:8080/"
        },
        "id": "YDI9pxOwhtEy",
        "outputId": "49c8cecd-8b19-48b1-aba5-fe2a46447d3e"
      },
      "execution_count": null,
      "outputs": [
        {
          "output_type": "stream",
          "name": "stdout",
          "text": [
            "Kecimen    435\n",
            "Besni      425\n",
            "Name: Class, dtype: int64\n"
          ]
        }
      ]
    },
    {
      "cell_type": "code",
      "source": [
        "# Menghitung jumlah data per kelas pada kolom target\n",
        "class_counts = data_dropExtent_dropOutlier['Class'].value_counts()\n",
        "\n",
        "# Menampilkan hasil\n",
        "print(class_counts)"
      ],
      "metadata": {
        "colab": {
          "base_uri": "https://localhost:8080/"
        },
        "id": "rNyZyuM6hvUh",
        "outputId": "fe515e9d-0032-4391-da2c-9233729a18dd"
      },
      "execution_count": null,
      "outputs": [
        {
          "output_type": "stream",
          "name": "stdout",
          "text": [
            "Kecimen    435\n",
            "Besni      425\n",
            "Name: Class, dtype: int64\n"
          ]
        }
      ]
    },
    {
      "cell_type": "code",
      "source": [
        "# Menghitung jumlah data per kelas pada kolom target\n",
        "class_counts = data_dropExtent_dropOutlier['Class'].value_counts()\n",
        "\n",
        "# Menampilkan hasil\n",
        "print(class_counts)"
      ],
      "metadata": {
        "colab": {
          "base_uri": "https://localhost:8080/"
        },
        "id": "7xm7JCQUhw2I",
        "outputId": "410fb311-58ca-42e5-d176-2b5b00ad53b3"
      },
      "execution_count": null,
      "outputs": [
        {
          "output_type": "stream",
          "name": "stdout",
          "text": [
            "Kecimen    435\n",
            "Besni      425\n",
            "Name: Class, dtype: int64\n"
          ]
        }
      ]
    },
    {
      "cell_type": "code",
      "source": [
        "# Menghitung jumlah data per kelas pada kolom target\n",
        "class_counts = data_dropEccent_dropOutlier['Class'].value_counts()\n",
        "\n",
        "# Menampilkan hasil\n",
        "print(class_counts)"
      ],
      "metadata": {
        "colab": {
          "base_uri": "https://localhost:8080/"
        },
        "id": "IeArmxRbhyYb",
        "outputId": "8b2fe024-06ad-4103-a594-f3f67f71bc90"
      },
      "execution_count": null,
      "outputs": [
        {
          "output_type": "stream",
          "name": "stdout",
          "text": [
            "Kecimen    435\n",
            "Besni      425\n",
            "Name: Class, dtype: int64\n"
          ]
        }
      ]
    },
    {
      "cell_type": "code",
      "source": [
        "# Menghitung jumlah data per kelas pada kolom target\n",
        "class_counts = data_dropMinor_dropOutlier['Class'].value_counts()\n",
        "\n",
        "# Menampilkan hasil\n",
        "print(class_counts)"
      ],
      "metadata": {
        "colab": {
          "base_uri": "https://localhost:8080/"
        },
        "id": "vTGpqWilhzrk",
        "outputId": "d8476e69-5108-4070-c094-49bd38583a37"
      },
      "execution_count": null,
      "outputs": [
        {
          "output_type": "stream",
          "name": "stdout",
          "text": [
            "Kecimen    435\n",
            "Besni      425\n",
            "Name: Class, dtype: int64\n"
          ]
        }
      ]
    },
    {
      "cell_type": "code",
      "source": [
        "# Pisahkan data menjadi fitur (X) dan label (y)\n",
        "X_dropOutlier = data_dropOutlier.drop('Class', axis=1)\n",
        "y_dropOutlier = data_dropOutlier['Class']"
      ],
      "metadata": {
        "id": "5fgai-Tkh1QM"
      },
      "execution_count": null,
      "outputs": []
    },
    {
      "cell_type": "code",
      "source": [
        "# Pisahkan data menjadi fitur (X) dan label (y)\n",
        "X_dropExtent_dropOutlier = data_dropExtent_dropOutlier.drop('Class', axis=1)\n",
        "y_dropExtent_dropOutlier = data_dropExtent_dropOutlier['Class']"
      ],
      "metadata": {
        "id": "i4cjYoKZh264"
      },
      "execution_count": null,
      "outputs": []
    },
    {
      "cell_type": "code",
      "source": [
        "# Pisahkan data menjadi fitur (X) dan label (y)\n",
        "X_dropEccent_dropOutlier = data_dropEccent_dropOutlier.drop('Class', axis=1)\n",
        "y_dropEccent_dropOutlier = data_dropEccent_dropOutlier['Class']"
      ],
      "metadata": {
        "id": "jXKRQPzZh4QB"
      },
      "execution_count": null,
      "outputs": []
    },
    {
      "cell_type": "code",
      "source": [
        "# Pisahkan data menjadi fitur (X) dan label (y)\n",
        "X_dropMinor_dropOutlier = data_dropMinor_dropOutlier.drop('Class', axis=1)\n",
        "y_dropMinor_dropOutlier = data_dropMinor_dropOutlier['Class']"
      ],
      "metadata": {
        "id": "oMbaZdsXh5b4"
      },
      "execution_count": null,
      "outputs": []
    },
    {
      "cell_type": "markdown",
      "source": [
        "##### **Mengganti Outlier Dengan Nilai Median**"
      ],
      "metadata": {
        "id": "cL5MCNnxh7MI"
      }
    },
    {
      "cell_type": "code",
      "source": [
        "data_revalueOutlier = data\n",
        "columns = (data_revalueOutlier.drop('Class', axis=1)).columns\n",
        "# Menggantikan nilai outlier dengan median\n",
        "for column in columns:\n",
        "    median_value = data[column].median()\n",
        "    data_revalueOutlier.loc[outliers, column] = median_value"
      ],
      "metadata": {
        "id": "mmsP8Rz3h_qM"
      },
      "execution_count": null,
      "outputs": []
    },
    {
      "cell_type": "code",
      "source": [
        "data_dropExtent_revalueOutlier = data_dropExtent\n",
        "columns = (data_dropExtent_revalueOutlier.drop('Class', axis=1)).columns\n",
        "# Menggantikan nilai outlier dengan median\n",
        "for column in columns:\n",
        "    median_value = data[column].median()\n",
        "    data_dropExtent_revalueOutlier.loc[outliers, column] = median_value"
      ],
      "metadata": {
        "id": "cmNj0fb7iBBb"
      },
      "execution_count": null,
      "outputs": []
    },
    {
      "cell_type": "code",
      "source": [
        "data_dropEccent_revalueOutlier = data_dropEccent\n",
        "columns = (data_dropEccent_revalueOutlier.drop('Class', axis=1)).columns\n",
        "# Menggantikan nilai outlier dengan median\n",
        "for column in columns:\n",
        "    median_value = data[column].median()\n",
        "    data_dropEccent_revalueOutlier.loc[outliers, column] = median_value"
      ],
      "metadata": {
        "id": "bbKM75lyiCpg"
      },
      "execution_count": null,
      "outputs": []
    },
    {
      "cell_type": "code",
      "source": [
        "data_dropMinor_revalueOutlier = data_dropMinor\n",
        "columns = (data_dropMinor_revalueOutlier.drop('Class', axis=1)).columns\n",
        "# Menggantikan nilai outlier dengan median\n",
        "for column in columns:\n",
        "    median_value = data[column].median()\n",
        "    data_dropMinor_revalueOutlier.loc[outliers, column] = median_value"
      ],
      "metadata": {
        "id": "cyZRyQvJiEAW"
      },
      "execution_count": null,
      "outputs": []
    },
    {
      "cell_type": "code",
      "source": [
        "# Menghitung jumlah data per kelas pada kolom target\n",
        "class_counts = data_revalueOutlier['Class'].value_counts()\n",
        "\n",
        "# Menampilkan hasil\n",
        "print(class_counts)"
      ],
      "metadata": {
        "colab": {
          "base_uri": "https://localhost:8080/"
        },
        "id": "LsxdfitriFNu",
        "outputId": "cd52c50a-d1e9-4465-871e-ca116ddc579a"
      },
      "execution_count": null,
      "outputs": [
        {
          "output_type": "stream",
          "name": "stdout",
          "text": [
            "Kecimen    450\n",
            "Besni      450\n",
            "Name: Class, dtype: int64\n"
          ]
        }
      ]
    },
    {
      "cell_type": "code",
      "source": [
        "# Menghitung jumlah data per kelas pada kolom target\n",
        "class_counts = data_dropExtent_revalueOutlier['Class'].value_counts()\n",
        "\n",
        "# Menampilkan hasil\n",
        "print(class_counts)"
      ],
      "metadata": {
        "colab": {
          "base_uri": "https://localhost:8080/"
        },
        "id": "dSz5Y9jTiHXJ",
        "outputId": "ce66d3d7-2570-4e08-9dde-f6162f510405"
      },
      "execution_count": null,
      "outputs": [
        {
          "output_type": "stream",
          "name": "stdout",
          "text": [
            "Kecimen    450\n",
            "Besni      450\n",
            "Name: Class, dtype: int64\n"
          ]
        }
      ]
    },
    {
      "cell_type": "code",
      "source": [
        "# Menghitung jumlah data per kelas pada kolom target\n",
        "class_counts = data_dropEccent_revalueOutlier['Class'].value_counts()\n",
        "\n",
        "# Menampilkan hasil\n",
        "print(class_counts)"
      ],
      "metadata": {
        "colab": {
          "base_uri": "https://localhost:8080/"
        },
        "id": "Pekzr3gjiI23",
        "outputId": "64f3b3ca-d374-4ceb-c494-c96193464465"
      },
      "execution_count": null,
      "outputs": [
        {
          "output_type": "stream",
          "name": "stdout",
          "text": [
            "Kecimen    450\n",
            "Besni      450\n",
            "Name: Class, dtype: int64\n"
          ]
        }
      ]
    },
    {
      "cell_type": "code",
      "source": [
        "# Menghitung jumlah data per kelas pada kolom target\n",
        "class_counts = data_dropMinor_revalueOutlier['Class'].value_counts()\n",
        "\n",
        "# Menampilkan hasil\n",
        "print(class_counts)"
      ],
      "metadata": {
        "colab": {
          "base_uri": "https://localhost:8080/"
        },
        "id": "-W6RnzBiiKfO",
        "outputId": "2084bf6a-73ec-47fe-e9ba-ba04952410cd"
      },
      "execution_count": null,
      "outputs": [
        {
          "output_type": "stream",
          "name": "stdout",
          "text": [
            "Kecimen    450\n",
            "Besni      450\n",
            "Name: Class, dtype: int64\n"
          ]
        }
      ]
    },
    {
      "cell_type": "code",
      "source": [
        "# Pisahkan data menjadi fitur (X) dan label (y)\n",
        "X_revalueOutlier = data_revalueOutlier.drop('Class', axis=1)\n",
        "y_revalueOutlier = data_revalueOutlier['Class']"
      ],
      "metadata": {
        "id": "cttGA9OmiNKm"
      },
      "execution_count": null,
      "outputs": []
    },
    {
      "cell_type": "code",
      "source": [
        "# Pisahkan data menjadi fitur (X) dan label (y)\n",
        "X_dropExtent_revalueOutlier = data_dropExtent_revalueOutlier.drop('Class', axis=1)\n",
        "y_dropExtent_revalueOutlier = data_dropExtent_revalueOutlier['Class']"
      ],
      "metadata": {
        "id": "mN5fAwGHiOy3"
      },
      "execution_count": null,
      "outputs": []
    },
    {
      "cell_type": "code",
      "source": [
        "# Pisahkan data menjadi fitur (X) dan label (y)\n",
        "X_dropEccent_revalueOutlier = data_dropEccent_revalueOutlier.drop('Class', axis=1)\n",
        "y_dropEccent_revalueOutlier = data_dropEccent_revalueOutlier['Class']"
      ],
      "metadata": {
        "id": "XqGopUeAiQF3"
      },
      "execution_count": null,
      "outputs": []
    },
    {
      "cell_type": "code",
      "source": [
        "# Pisahkan data menjadi fitur (X) dan label (y)\n",
        "X_dropMinor_revalueOutlier = data_dropMinor_revalueOutlier.drop('Class', axis=1)\n",
        "y_dropMinor_revalueOutlier = data_dropMinor_revalueOutlier['Class']"
      ],
      "metadata": {
        "id": "mtpbMqT_iRTf"
      },
      "execution_count": null,
      "outputs": []
    },
    {
      "cell_type": "markdown",
      "source": [
        "#### **Data Cleaning Report**"
      ],
      "metadata": {
        "id": "LVEgvbL-6d6O"
      }
    },
    {
      "cell_type": "markdown",
      "source": [
        "*   Pembersihan data melibatkan penanganan masalah kualitas data yang diidentifikasi sebelumnya.\n",
        "*   Tidak ada nilai yang hilang, dan data cukup bersih; oleh karena itu, tindakan pembersihan minimal diperlukan.\n",
        "*   Normalisasi nilai-nilai atribut untuk memastikan konsistensi interpretasi.\n",
        "Pengisian nilai rata-rata untuk mengatasi nilai yang hilang.\n",
        "*   Dampak Potensial: Meningkatkan kualitas data dan mengurangi potensi distorsi hasil akibat ketidakseimbangan atau nilai yang hilang.\n"
      ],
      "metadata": {
        "id": "y_twxeQ-FbBa"
      }
    },
    {
      "cell_type": "markdown",
      "source": [
        "### **Construct Data**"
      ],
      "metadata": {
        "id": "IKaXbe_B3Heo"
      }
    },
    {
      "cell_type": "markdown",
      "source": [
        "#### **Derived Attributes**"
      ],
      "metadata": {
        "id": "B-i6lp4h6lGm"
      }
    },
    {
      "cell_type": "markdown",
      "source": [
        "Tidak ada atribut turunan yang dibangun dalam fase ini karena fitur morfologi awal sudah cukup untuk analisis."
      ],
      "metadata": {
        "id": "-3pNCSvjFj7-"
      }
    },
    {
      "cell_type": "markdown",
      "source": [
        "#### **Generated Records**"
      ],
      "metadata": {
        "id": "wytXtit26n8-"
      }
    },
    {
      "cell_type": "markdown",
      "source": [
        "Tidak ada rekaman sepenuhnya baru yang dibuat dalam fase ini karena data awal cukup representatif."
      ],
      "metadata": {
        "id": "HH1v93aBFl8a"
      }
    },
    {
      "cell_type": "markdown",
      "source": [
        "### **Integrate Data**"
      ],
      "metadata": {
        "id": "gcVgs_4b3JTw"
      }
    },
    {
      "cell_type": "markdown",
      "source": [
        "#### **Merged Data**"
      ],
      "metadata": {
        "id": "s6OB0WDv6q82"
      }
    },
    {
      "cell_type": "markdown",
      "source": [
        "Data raisin tidak memerlukan penggabungan dari beberapa tabel atau rekaman karena dataset raisin awal sudah mencakup informasi yang dibutuhkan. Oleh karena itu, tahap ini tidak diperlukan."
      ],
      "metadata": {
        "id": "Ka2BiEhuGFra"
      }
    },
    {
      "cell_type": "markdown",
      "source": [
        "### **Format Data**"
      ],
      "metadata": {
        "id": "IfRtZauZ3Lfy"
      }
    },
    {
      "cell_type": "markdown",
      "source": [
        "#### **Normalisasi Z-score**"
      ],
      "metadata": {
        "id": "a-oZBaXViViY"
      }
    },
    {
      "cell_type": "markdown",
      "source": [
        "**Rumus Normalisasi menggunakan StandardScaler:**\n",
        "\n",
        "$[ X_{\\text{normalized}} = \\frac{X - \\mu}{\\sigma} ]$\n",
        "\n",
        "**Keterangan:**\n",
        "- $X_{\\text{normalized}}$ : Data yang telah dinormalisasi\n",
        "- $X$ : Data asli\n",
        "- $\\mu$ : Rata-rata dari \\(X\\)\n",
        "- $\\sigma$ : Deviasi standar dari \\(X\\)\n"
      ],
      "metadata": {
        "id": "3ZCgaGTaYiTv"
      }
    },
    {
      "cell_type": "code",
      "source": [
        "from sklearn.preprocessing import StandardScaler\n",
        "# Normalisasi Z-Score\n",
        "scaler_standard_dO = StandardScaler()\n",
        "scaler_standard_dEx_dO = StandardScaler()\n",
        "scaler_standard_dEc_dO = StandardScaler()\n",
        "scaler_standard_dMi_dO = StandardScaler()\n",
        "\n",
        "scaler_standard_rO = StandardScaler()\n",
        "scaler_standard_dEx_rO = StandardScaler()\n",
        "scaler_standard_dEc_rO = StandardScaler()\n",
        "scaler_standard_dMi_rO = StandardScaler()"
      ],
      "metadata": {
        "id": "Yd6-P7BciYgC"
      },
      "execution_count": null,
      "outputs": []
    },
    {
      "cell_type": "markdown",
      "source": [
        "##### **Menggunakan Data Tanpa Outlier dengan menghapus outlier tersebut**"
      ],
      "metadata": {
        "id": "ZMzgJj96idXX"
      }
    },
    {
      "cell_type": "code",
      "source": [
        "X_dropOutlier_standard_normalized = scaler_standard_dO.fit_transform(X_dropOutlier)\n",
        "X_dropExtent_dropOutlier_standard_normalized= scaler_standard_dEx_dO.fit_transform(X_dropExtent_dropOutlier)\n",
        "X_dropEccent_dropOutlier_standard_normalized= scaler_standard_dEc_dO.fit_transform(X_dropEccent_dropOutlier)\n",
        "X_dropMinor_dropOutlier_standard_normalized= scaler_standard_dMi_dO.fit_transform(X_dropMinor_dropOutlier)"
      ],
      "metadata": {
        "id": "YdL2_iiViiYU"
      },
      "execution_count": null,
      "outputs": []
    },
    {
      "cell_type": "markdown",
      "source": [
        "##### **Menggunakan Data tanpa outlier dengan mengganti nilai outlier menjadi median**"
      ],
      "metadata": {
        "id": "adSdFI-KigIo"
      }
    },
    {
      "cell_type": "code",
      "source": [
        "X_revalueOutlier_standard_normalized = scaler_standard_rO.fit_transform(X_revalueOutlier)\n",
        "X_dropExtent_revalueOutlier_standard_normalized= scaler_standard_dEx_rO.fit_transform(X_dropExtent_revalueOutlier)\n",
        "X_dropEccent_revalueOutlier_standard_normalized= scaler_standard_dEc_rO.fit_transform(X_dropEccent_revalueOutlier)\n",
        "X_dropMinor_revalueOutlier_standard_normalized= scaler_standard_dMi_rO.fit_transform(X_dropMinor_revalueOutlier)"
      ],
      "metadata": {
        "id": "UFb-7H8Hiog-"
      },
      "execution_count": null,
      "outputs": []
    },
    {
      "cell_type": "markdown",
      "source": [
        "#### **Normalisai Minmax**"
      ],
      "metadata": {
        "id": "o7lFg3aSisNB"
      }
    },
    {
      "cell_type": "code",
      "source": [
        "from sklearn.preprocessing import MinMaxScaler\n",
        "# Normalisasi Minmax\n",
        "\n",
        "scaler_minmax_dO = MinMaxScaler()\n",
        "scaler_minmax_dEx_dO = MinMaxScaler()\n",
        "scaler_minmax_dEc_dO = MinMaxScaler()\n",
        "scaler_minmax_dMi_dO = MinMaxScaler()\n",
        "\n",
        "scaler_minmax_rO = MinMaxScaler()\n",
        "scaler_minmax_dEx_rO = MinMaxScaler()\n",
        "scaler_minmax_dEc_rO = MinMaxScaler()\n",
        "scaler_minmax_dMi_rO = MinMaxScaler()"
      ],
      "metadata": {
        "id": "fWevTDeXiuUs"
      },
      "execution_count": null,
      "outputs": []
    },
    {
      "cell_type": "markdown",
      "source": [
        "##### **Menggunakan Data Tanpa Outlier dengan menghapus outlier tersebut**"
      ],
      "metadata": {
        "id": "Wyqe7aIGixAE"
      }
    },
    {
      "cell_type": "code",
      "source": [
        "X_dropOutlier_minmax_normalized = scaler_minmax_dO.fit_transform(X_dropOutlier)\n",
        "X_dropExtent_dropOutlier_minmax_normalized= scaler_minmax_dEx_dO.fit_transform(X_dropExtent_dropOutlier)\n",
        "X_dropEccent_dropOutlier_minmax_normalized= scaler_minmax_dEc_dO.fit_transform(X_dropEccent_dropOutlier)\n",
        "X_dropMinor_dropOutlier_minmax_normalized= scaler_minmax_dMi_dO.fit_transform(X_dropMinor_dropOutlier)"
      ],
      "metadata": {
        "id": "BK-KNRGVi0f1"
      },
      "execution_count": null,
      "outputs": []
    },
    {
      "cell_type": "markdown",
      "source": [
        "##### **Menggunakan Data tanpa outlier dengan mengganti nilai outlier menjadi median**"
      ],
      "metadata": {
        "id": "I6PpkeNqi024"
      }
    },
    {
      "cell_type": "code",
      "source": [
        "X_revalueOutlier_minmax_normalized = scaler_minmax_rO.fit_transform(X_revalueOutlier)\n",
        "X_dropExtent_revalueOutlier_minmax_normalized= scaler_minmax_dEx_rO.fit_transform(X_dropExtent_revalueOutlier)\n",
        "X_dropEccent_revalueOutlier_minmax_normalized= scaler_minmax_dEc_rO.fit_transform(X_dropEccent_revalueOutlier)\n",
        "X_dropMinor_revalueOutlier_minmax_normalized= scaler_minmax_dMi_rO.fit_transform(X_dropMinor_revalueOutlier)"
      ],
      "metadata": {
        "id": "1e0wCaHFi1Nk"
      },
      "execution_count": null,
      "outputs": []
    },
    {
      "cell_type": "markdown",
      "source": [
        "#### **Reformatted Data**"
      ],
      "metadata": {
        "id": "QqVgsxzp6uVm"
      }
    },
    {
      "cell_type": "markdown",
      "source": [
        "Tidak ada perubahan format data yang diperlukan karena struktur dataset sudah sesuai dengan kebutuhan pemodelan."
      ],
      "metadata": {
        "id": "WFBefrPoGIwP"
      }
    },
    {
      "cell_type": "markdown",
      "source": [
        "## **Modeling**"
      ],
      "metadata": {
        "id": "pE6ngOiJ2OeS"
      }
    },
    {
      "cell_type": "markdown",
      "source": [
        "### **Select Modeling Techniques**"
      ],
      "metadata": {
        "id": "IbyhMDGN3Q2w"
      }
    },
    {
      "cell_type": "markdown",
      "source": [
        "#### **Modeling Technique**"
      ],
      "metadata": {
        "id": "N-ZC1gaF63Sv"
      }
    },
    {
      "cell_type": "markdown",
      "source": [
        "Pemilihan teknik pemodelan yang sesuai adalah menggunakan algoritma Logistic Regression untuk klasifikasi varietas kismis."
      ],
      "metadata": {
        "id": "pWz6MrdOGZx1"
      }
    },
    {
      "cell_type": "markdown",
      "source": [
        "#### **Modeling Assumptions**"
      ],
      "metadata": {
        "id": "XZ8b2vLn65vq"
      }
    },
    {
      "cell_type": "markdown",
      "source": [
        "### **Generate Test Design**"
      ],
      "metadata": {
        "id": "dAB0160s4BNr"
      }
    },
    {
      "cell_type": "markdown",
      "source": [
        "Dataset akan dibagi menjadi dua bagian: set pelatihan (80% dari data) dan set uji (20% dari data). Model akan dilatih pada set pelatihan dan diuji pada set uji untuk mengevaluasi kinerja dan generalisasi."
      ],
      "metadata": {
        "id": "dXJAHDOyGiJ6"
      }
    },
    {
      "cell_type": "code",
      "source": [
        "from sklearn.model_selection import train_test_split"
      ],
      "metadata": {
        "id": "Z99iF74VjCcZ"
      },
      "execution_count": null,
      "outputs": []
    },
    {
      "cell_type": "markdown",
      "source": [
        "#### **Z-score**"
      ],
      "metadata": {
        "id": "ypDDnbtpjD8U"
      }
    },
    {
      "cell_type": "code",
      "source": [
        "# Pisahkan data menjadi set pelatihan dan set pengujian\n",
        "X_dO_std_train, X_dO_std_test, y_dO_std_train, y_dO_std_test = train_test_split(X_dropOutlier_standard_normalized, y_dropOutlier, test_size=0.2, random_state=42)\n",
        "X_dEx_dO_std_train, X_dEx_dO_std_test, y_dEx_dO_std_train, y_dEx_dO_std_test = train_test_split(X_dropExtent_dropOutlier_standard_normalized, y_dropExtent_dropOutlier, test_size=0.2, random_state=42)\n",
        "X_dEc_dO_std_train, X_dEc_dO_std_test, y_dEc_dO_std_train, y_dEc_dO_std_test = train_test_split(X_dropEccent_dropOutlier_standard_normalized, y_dropEccent_dropOutlier, test_size=0.2, random_state=42)\n",
        "X_dMi_dO_std_train, X_dMi_dO_std_test, y_dMi_dO_std_train, y_dMi_dO_std_test = train_test_split(X_dropMinor_dropOutlier_standard_normalized, y_dropMinor_dropOutlier, test_size=0.2, random_state=42)"
      ],
      "metadata": {
        "id": "ftF1HdsYjFt5"
      },
      "execution_count": null,
      "outputs": []
    },
    {
      "cell_type": "code",
      "source": [
        "# Pisahkan data menjadi set pelatihan dan set pengujian\n",
        "X_rO_std_train, X_rO_std_test, y_rO_std_train, y_rO_std_test = train_test_split(X_revalueOutlier_standard_normalized, y_revalueOutlier, test_size=0.2, random_state=42)\n",
        "X_dEx_rO_std_train, X_dEx_rO_std_test, y_dEx_rO_std_train, y_dEx_rO_std_test = train_test_split(X_dropExtent_revalueOutlier_standard_normalized, y_dropExtent_revalueOutlier, test_size=0.2, random_state=42)\n",
        "X_dEc_rO_std_train, X_dEc_rO_std_test, y_dEc_rO_std_train, y_dEc_rO_std_test = train_test_split(X_dropEccent_revalueOutlier_standard_normalized, y_dropEccent_revalueOutlier, test_size=0.2, random_state=42)\n",
        "X_dMi_rO_std_train, X_dMi_rO_std_test, y_dMi_rO_std_train, y_dMi_rO_std_test = train_test_split(X_dropMinor_revalueOutlier_standard_normalized, y_dropMinor_revalueOutlier, test_size=0.2, random_state=42)"
      ],
      "metadata": {
        "id": "e7GpoKnPjJ3h"
      },
      "execution_count": null,
      "outputs": []
    },
    {
      "cell_type": "markdown",
      "source": [
        "#### **Minmax**"
      ],
      "metadata": {
        "id": "WZZgoclJjGCQ"
      }
    },
    {
      "cell_type": "code",
      "source": [
        "# Pisahkan data menjadi set pelatihan dan set pengujian\n",
        "X_dO_mmx_train, X_dO_mmx_test, y_dO_mmx_train, y_dO_mmx_test = train_test_split(X_dropOutlier_minmax_normalized, y_dropOutlier, test_size=0.2, random_state=42)\n",
        "X_dEx_dO_mmx_train, X_dEx_dO_mmx_test, y_dEx_dO_mmx_train, y_dEx_dO_mmx_test = train_test_split(X_dropExtent_dropOutlier_minmax_normalized, y_dropExtent_dropOutlier, test_size=0.2, random_state=42)\n",
        "X_dEc_dO_mmx_train, X_dEc_dO_mmx_test, y_dEc_dO_mmx_train, y_dEc_dO_mmx_test = train_test_split(X_dropEccent_dropOutlier_minmax_normalized, y_dropEccent_dropOutlier, test_size=0.2, random_state=42)\n",
        "X_dMi_dO_mmx_train, X_dMi_dO_mmx_test, y_dMi_dO_mmx_train, y_dMi_dO_mmx_test = train_test_split(X_dropMinor_dropOutlier_minmax_normalized, y_dropMinor_dropOutlier, test_size=0.2, random_state=42)"
      ],
      "metadata": {
        "id": "ZOe4G2UTjIAw"
      },
      "execution_count": null,
      "outputs": []
    },
    {
      "cell_type": "code",
      "source": [
        "# Pisahkan data menjadi set pelatihan dan set pengujian\n",
        "X_rO_mmx_train, X_rO_mmx_test, y_rO_mmx_train, y_rO_mmx_test = train_test_split(X_revalueOutlier_minmax_normalized, y_revalueOutlier, test_size=0.2, random_state=42)\n",
        "X_dEx_rO_mmx_train, X_dEx_rO_mmx_test, y_dEx_rO_mmx_train, y_dEx_rO_mmx_test = train_test_split(X_dropExtent_revalueOutlier_minmax_normalized, y_dropExtent_revalueOutlier, test_size=0.2, random_state=42)\n",
        "X_dEc_rO_mmx_train, X_dEc_rO_mmx_test, y_dEc_rO_mmx_train, y_dEc_rO_mmx_test = train_test_split(X_dropEccent_revalueOutlier_minmax_normalized, y_dropEccent_revalueOutlier, test_size=0.2, random_state=42)\n",
        "X_dMi_rO_mmx_train, X_dMi_rO_mmx_test, y_dMi_rO_mmx_train, y_dMi_rO_mmx_test = train_test_split(X_dropMinor_revalueOutlier_minmax_normalized, y_dropMinor_revalueOutlier, test_size=0.2, random_state=42)"
      ],
      "metadata": {
        "id": "Dg-I1d2-jM_v"
      },
      "execution_count": null,
      "outputs": []
    },
    {
      "cell_type": "markdown",
      "source": [
        "#### **Test Design**"
      ],
      "metadata": {
        "id": "cfj2XSxF684I"
      }
    },
    {
      "cell_type": "markdown",
      "source": [
        "### **Build Model**"
      ],
      "metadata": {
        "id": "xSR-aD7Y4DbS"
      }
    },
    {
      "cell_type": "code",
      "source": [
        "from sklearn.linear_model import LogisticRegression\n",
        "from sklearn.metrics import accuracy_score"
      ],
      "metadata": {
        "id": "mxe5zhwUjY-i"
      },
      "execution_count": null,
      "outputs": []
    },
    {
      "cell_type": "markdown",
      "source": [
        "#### **Parameter Settings**"
      ],
      "metadata": {
        "id": "wk5w3b-T6_sK"
      }
    },
    {
      "cell_type": "markdown",
      "source": [
        "#### **Models**"
      ],
      "metadata": {
        "id": "x9x1ajH57Czt"
      }
    },
    {
      "cell_type": "markdown",
      "source": [
        "##### **Menggunakan Data Yang Telah Dibuang Outliernya**"
      ],
      "metadata": {
        "id": "9TvF4uscjdvW"
      }
    },
    {
      "cell_type": "markdown",
      "source": [
        "###### **Z-Score**"
      ],
      "metadata": {
        "id": "WVV039Iaj-dq"
      }
    },
    {
      "cell_type": "code",
      "source": [
        "# Membuat model Regresi Logistik\n",
        "LR_dO_std = LogisticRegression()\n",
        "\n",
        "# Melatih model\n",
        "LR_dO_std.fit(X_dO_std_train, y_dO_std_train)\n",
        "\n",
        "# Melakukan prediksi\n",
        "y_dO_std_pred = LR_dO_std.predict(X_dO_std_test)\n",
        "\n",
        "# Evaluasi model\n",
        "accuracy = accuracy_score(y_dO_std_test, y_dO_std_pred)\n",
        "print(f'Akurasi: {accuracy}')"
      ],
      "metadata": {
        "colab": {
          "base_uri": "https://localhost:8080/"
        },
        "id": "Kwd0cW9_j15A",
        "outputId": "e0486e20-cd30-43fa-b152-6b20db454e3e"
      },
      "execution_count": null,
      "outputs": [
        {
          "output_type": "stream",
          "name": "stdout",
          "text": [
            "Akurasi: 0.813953488372093\n"
          ]
        }
      ]
    },
    {
      "cell_type": "code",
      "source": [
        "# Membuat model Regresi Logistik\n",
        "LR_dEx_dO_std = LogisticRegression()\n",
        "\n",
        "# Melatih model\n",
        "LR_dEx_dO_std.fit(X_dEx_dO_std_train, y_dEx_dO_std_train)\n",
        "\n",
        "# Melakukan prediksi\n",
        "y_dEx_dO_std_pred = LR_dEx_dO_std.predict(X_dEx_dO_std_test)\n",
        "\n",
        "# Evaluasi model\n",
        "accuracy = accuracy_score(y_dEx_dO_std_test, y_dEx_dO_std_pred)\n",
        "print(f'Akurasi: {accuracy}')"
      ],
      "metadata": {
        "colab": {
          "base_uri": "https://localhost:8080/"
        },
        "id": "OWz3h5_okA6P",
        "outputId": "dd865ddc-481f-4c64-f0ee-2e2167d2442f"
      },
      "execution_count": null,
      "outputs": [
        {
          "output_type": "stream",
          "name": "stdout",
          "text": [
            "Akurasi: 0.8081395348837209\n"
          ]
        }
      ]
    },
    {
      "cell_type": "code",
      "source": [
        "# Membuat model Regresi Logistik\n",
        "LR_dEc_dO_std = LogisticRegression()\n",
        "\n",
        "# Melatih model\n",
        "LR_dEc_dO_std.fit(X_dEc_dO_std_train, y_dEc_dO_std_train)\n",
        "\n",
        "# Melakukan prediksi\n",
        "y_dEc_dO_std_pred = LR_dEc_dO_std.predict(X_dEc_dO_std_test)\n",
        "\n",
        "# Evaluasi model\n",
        "accuracy = accuracy_score(y_dEc_dO_std_test, y_dEc_dO_std_pred)\n",
        "print(f'Akurasi: {accuracy}')"
      ],
      "metadata": {
        "colab": {
          "base_uri": "https://localhost:8080/"
        },
        "id": "Gjz3ahMskEnb",
        "outputId": "e5b3ce7b-c5c5-411e-e848-72026a6e6ba6"
      },
      "execution_count": null,
      "outputs": [
        {
          "output_type": "stream",
          "name": "stdout",
          "text": [
            "Akurasi: 0.8081395348837209\n"
          ]
        }
      ]
    },
    {
      "cell_type": "code",
      "source": [
        "# Membuat model Regresi Logistik\n",
        "LR_dMi_dO_std = LogisticRegression()\n",
        "\n",
        "# Melatih model\n",
        "LR_dMi_dO_std.fit(X_dMi_dO_std_train, y_dMi_dO_std_train)\n",
        "\n",
        "# Melakukan prediksi\n",
        "y_dMi_dO_std_pred = LR_dMi_dO_std.predict(X_dMi_dO_std_test)\n",
        "\n",
        "# Evaluasi model\n",
        "accuracy = accuracy_score(y_dMi_dO_std_test, y_dMi_dO_std_pred)\n",
        "print(f'Akurasi: {accuracy}')"
      ],
      "metadata": {
        "colab": {
          "base_uri": "https://localhost:8080/"
        },
        "id": "M8IFKBjvko9S",
        "outputId": "f9a00369-03f7-4e68-f13e-de542771402d"
      },
      "execution_count": null,
      "outputs": [
        {
          "output_type": "stream",
          "name": "stdout",
          "text": [
            "Akurasi: 0.8023255813953488\n"
          ]
        }
      ]
    },
    {
      "cell_type": "markdown",
      "source": [],
      "metadata": {
        "id": "FkxTLknrk27G"
      }
    },
    {
      "cell_type": "code",
      "source": [
        "# Membuat model Regresi Logistik\n",
        "LR_rO_std = LogisticRegression()\n",
        "\n",
        "# Melatih model\n",
        "LR_rO_std.fit(X_rO_std_train, y_rO_std_train)\n",
        "\n",
        "# Melakukan prediksi\n",
        "y_rO_std_pred = LR_rO_std.predict(X_rO_std_test)\n",
        "\n",
        "# Evaluasi model\n",
        "accuracy = accuracy_score(y_rO_std_test, y_rO_std_pred)\n",
        "print(f'Akurasi: {accuracy}')"
      ],
      "metadata": {
        "colab": {
          "base_uri": "https://localhost:8080/"
        },
        "id": "cpQl6sWzk3hm",
        "outputId": "a1f53828-e8fe-4c7b-970c-a263a42f2a82"
      },
      "execution_count": null,
      "outputs": [
        {
          "output_type": "stream",
          "name": "stdout",
          "text": [
            "Akurasi: 0.8388888888888889\n"
          ]
        }
      ]
    },
    {
      "cell_type": "code",
      "source": [
        "# Membuat model Regresi Logistik\n",
        "LR_dEx_rO_std = LogisticRegression()\n",
        "\n",
        "# Melatih model\n",
        "LR_dEx_rO_std.fit(X_dEx_rO_std_train, y_dEx_rO_std_train)\n",
        "\n",
        "# Melakukan prediksi\n",
        "y_dEx_rO_std_pred = LR_dEx_rO_std.predict(X_dEx_rO_std_test)\n",
        "\n",
        "# Evaluasi model\n",
        "accuracy = accuracy_score(y_dEx_rO_std_test, y_dEx_rO_std_pred)\n",
        "print(f'Akurasi: {accuracy}')"
      ],
      "metadata": {
        "colab": {
          "base_uri": "https://localhost:8080/"
        },
        "id": "QJwT1XbQk5ue",
        "outputId": "8f3a869b-58b9-4ea6-96db-073d8c61596c"
      },
      "execution_count": null,
      "outputs": [
        {
          "output_type": "stream",
          "name": "stdout",
          "text": [
            "Akurasi: 0.8388888888888889\n"
          ]
        }
      ]
    },
    {
      "cell_type": "code",
      "source": [
        "# Membuat model Regresi Logistik\n",
        "LR_dEc_rO_std = LogisticRegression()\n",
        "\n",
        "# Melatih model\n",
        "LR_dEc_rO_std.fit(X_dEc_rO_std_train, y_dEc_rO_std_train)\n",
        "\n",
        "# Melakukan prediksi\n",
        "y_dEc_rO_std_pred = LR_dEc_rO_std.predict(X_dEc_rO_std_test)\n",
        "\n",
        "# Evaluasi model\n",
        "accuracy = accuracy_score(y_dEc_rO_std_test, y_dEc_rO_std_pred)\n",
        "print(f'Akurasi: {accuracy}')"
      ],
      "metadata": {
        "colab": {
          "base_uri": "https://localhost:8080/"
        },
        "id": "zq7uiZ4ok6cG",
        "outputId": "a9e0418a-0a56-476f-b528-ee60d97f8484"
      },
      "execution_count": null,
      "outputs": [
        {
          "output_type": "stream",
          "name": "stdout",
          "text": [
            "Akurasi: 0.8388888888888889\n"
          ]
        }
      ]
    },
    {
      "cell_type": "code",
      "source": [
        "# Membuat model Regresi Logistik\n",
        "LR_dMi_rO_std = LogisticRegression()\n",
        "\n",
        "# Melatih model\n",
        "LR_dMi_rO_std.fit(X_dMi_rO_std_train, y_dMi_rO_std_train)\n",
        "\n",
        "# Melakukan prediksi\n",
        "y_dMi_rO_std_pred = LR_dMi_rO_std.predict(X_dMi_rO_std_test)\n",
        "\n",
        "# Evaluasi model\n",
        "accuracy = accuracy_score(y_dMi_rO_std_test, y_dMi_rO_std_pred)\n",
        "print(f'Akurasi: {accuracy}')"
      ],
      "metadata": {
        "colab": {
          "base_uri": "https://localhost:8080/"
        },
        "id": "v98EvIjZk76G",
        "outputId": "9a7c77f8-f92b-43b1-a392-57bb744e5293"
      },
      "execution_count": null,
      "outputs": [
        {
          "output_type": "stream",
          "name": "stdout",
          "text": [
            "Akurasi: 0.8333333333333334\n"
          ]
        }
      ]
    },
    {
      "cell_type": "markdown",
      "source": [
        "###### **Minmax**"
      ],
      "metadata": {
        "id": "3CX3EhrtlE9Y"
      }
    },
    {
      "cell_type": "code",
      "source": [
        "# Membuat model Regresi Logistik\n",
        "LR_dO_mmx = LogisticRegression()\n",
        "\n",
        "# Melatih model\n",
        "LR_dO_mmx.fit(X_dO_mmx_train, y_dO_mmx_train)\n",
        "\n",
        "# Melakukan prediksi\n",
        "y_dO_mmx_pred = LR_dO_mmx.predict(X_dO_mmx_test)\n",
        "\n",
        "# Evaluasi model\n",
        "accuracy = accuracy_score(y_dO_mmx_test, y_dO_mmx_pred)\n",
        "print(f'Akurasi: {accuracy}')"
      ],
      "metadata": {
        "colab": {
          "base_uri": "https://localhost:8080/"
        },
        "id": "563bUkQ_lIy4",
        "outputId": "27831ac1-7209-4a8f-f54b-0c82f9b4c4a6"
      },
      "execution_count": null,
      "outputs": [
        {
          "output_type": "stream",
          "name": "stdout",
          "text": [
            "Akurasi: 0.8081395348837209\n"
          ]
        }
      ]
    },
    {
      "cell_type": "code",
      "source": [
        "# Membuat model Regresi Logistik\n",
        "LR_dEx_dO_mmx = LogisticRegression()\n",
        "\n",
        "# Melatih model\n",
        "LR_dEx_dO_mmx.fit(X_dEx_dO_mmx_train, y_dEx_dO_mmx_train)\n",
        "\n",
        "# Melakukan prediksi\n",
        "y_dEx_dO_mmx_pred = LR_dEx_dO_mmx.predict(X_dEx_dO_mmx_test)\n",
        "\n",
        "# Evaluasi model\n",
        "accuracy = accuracy_score(y_dEx_dO_mmx_test, y_dEx_dO_mmx_pred)\n",
        "print(f'Akurasi: {accuracy}')"
      ],
      "metadata": {
        "colab": {
          "base_uri": "https://localhost:8080/"
        },
        "id": "Pl0RHjOrlKmc",
        "outputId": "b0ef8962-5abe-4e2a-dd9e-483d62d1de33"
      },
      "execution_count": null,
      "outputs": [
        {
          "output_type": "stream",
          "name": "stdout",
          "text": [
            "Akurasi: 0.8023255813953488\n"
          ]
        }
      ]
    },
    {
      "cell_type": "code",
      "source": [
        "# Membuat model Regresi Logistik\n",
        "LR_dEc_dO_mmx = LogisticRegression()\n",
        "\n",
        "# Melatih model\n",
        "LR_dEc_dO_mmx.fit(X_dEc_dO_mmx_train, y_dEc_dO_mmx_train)\n",
        "\n",
        "# Melakukan prediksi\n",
        "y_dEc_dO_mmx_pred = LR_dEc_dO_mmx.predict(X_dEc_dO_mmx_test)\n",
        "\n",
        "# Evaluasi model\n",
        "accuracy = accuracy_score(y_dEc_dO_mmx_test, y_dEc_dO_mmx_pred)\n",
        "print(f'Akurasi: {accuracy}')"
      ],
      "metadata": {
        "colab": {
          "base_uri": "https://localhost:8080/"
        },
        "id": "4I_2GZVblMfB",
        "outputId": "26437d34-67a4-4106-b46a-decff69a191a"
      },
      "execution_count": null,
      "outputs": [
        {
          "output_type": "stream",
          "name": "stdout",
          "text": [
            "Akurasi: 0.813953488372093\n"
          ]
        }
      ]
    },
    {
      "cell_type": "code",
      "source": [
        "# Membuat model Regresi Logistik\n",
        "LR_dMi_dO_mmx = LogisticRegression()\n",
        "\n",
        "# Melatih model\n",
        "LR_dMi_dO_mmx.fit(X_dMi_dO_mmx_train, y_dMi_dO_mmx_train)\n",
        "\n",
        "# Melakukan prediksi\n",
        "y_dMi_dO_mmx_pred = LR_dMi_dO_mmx.predict(X_dMi_dO_mmx_test)\n",
        "\n",
        "# Evaluasi model\n",
        "accuracy = accuracy_score(y_dMi_dO_mmx_test, y_dMi_dO_mmx_pred)\n",
        "print(f'Akurasi: {accuracy}')"
      ],
      "metadata": {
        "colab": {
          "base_uri": "https://localhost:8080/"
        },
        "id": "9iCiI95klN-x",
        "outputId": "3d0664ce-f2c7-4266-d366-5fde083a5fc4"
      },
      "execution_count": null,
      "outputs": [
        {
          "output_type": "stream",
          "name": "stdout",
          "text": [
            "Akurasi: 0.8081395348837209\n"
          ]
        }
      ]
    },
    {
      "cell_type": "markdown",
      "source": [],
      "metadata": {
        "id": "RMA1E-2glPmp"
      }
    },
    {
      "cell_type": "code",
      "source": [
        "# Membuat model Regresi Logistik\n",
        "LR_rO_mmx = LogisticRegression()\n",
        "\n",
        "# Melatih model\n",
        "LR_rO_mmx.fit(X_rO_mmx_train, y_rO_mmx_train)\n",
        "\n",
        "# Melakukan prediksi\n",
        "y_rO_mmx_pred = LR_rO_mmx.predict(X_rO_mmx_test)\n",
        "\n",
        "# Evaluasi model\n",
        "accuracy = accuracy_score(y_rO_mmx_test, y_rO_mmx_pred)\n",
        "print(f'Akurasi: {accuracy}')"
      ],
      "metadata": {
        "colab": {
          "base_uri": "https://localhost:8080/"
        },
        "id": "OmWEpOwWlQap",
        "outputId": "bb4258a0-d597-4263-88aa-66d10ff8de09"
      },
      "execution_count": null,
      "outputs": [
        {
          "output_type": "stream",
          "name": "stdout",
          "text": [
            "Akurasi: 0.8444444444444444\n"
          ]
        }
      ]
    },
    {
      "cell_type": "code",
      "source": [
        "# Membuat model Regresi Logistik\n",
        "LR_dEx_rO_mmx = LogisticRegression()\n",
        "\n",
        "# Melatih model\n",
        "LR_dEx_rO_mmx.fit(X_dEx_rO_mmx_train, y_dEx_rO_mmx_train)\n",
        "\n",
        "# Melakukan prediksi\n",
        "y_dEx_rO_mmx_pred = LR_dEx_rO_mmx.predict(X_dEx_rO_mmx_test)\n",
        "\n",
        "# Evaluasi model\n",
        "accuracy = accuracy_score(y_dEx_rO_mmx_test, y_dEx_rO_mmx_pred)\n",
        "print(f'Akurasi: {accuracy}')"
      ],
      "metadata": {
        "colab": {
          "base_uri": "https://localhost:8080/"
        },
        "id": "a0Kx7JDVlR4j",
        "outputId": "29c268dc-66f5-4ef1-b3b8-abc2f3fc05bd"
      },
      "execution_count": null,
      "outputs": [
        {
          "output_type": "stream",
          "name": "stdout",
          "text": [
            "Akurasi: 0.8388888888888889\n"
          ]
        }
      ]
    },
    {
      "cell_type": "code",
      "source": [
        "# Membuat model Regresi Logistik\n",
        "LR_dEc_rO_mmx = LogisticRegression()\n",
        "\n",
        "# Melatih model\n",
        "LR_dEc_rO_mmx.fit(X_dEc_rO_mmx_train, y_dEc_rO_mmx_train)\n",
        "\n",
        "# Melakukan prediksi\n",
        "y_dEc_rO_mmx_pred = LR_dEc_rO_mmx.predict(X_dEc_rO_mmx_test)\n",
        "\n",
        "# Evaluasi model\n",
        "accuracy = accuracy_score(y_dEc_rO_mmx_test, y_dEc_rO_mmx_pred)\n",
        "print(f'Akurasi: {accuracy}')"
      ],
      "metadata": {
        "colab": {
          "base_uri": "https://localhost:8080/"
        },
        "id": "uT6vhVV6lTuz",
        "outputId": "0d7f3cf4-7315-4a8d-fb96-3980975bd55b"
      },
      "execution_count": null,
      "outputs": [
        {
          "output_type": "stream",
          "name": "stdout",
          "text": [
            "Akurasi: 0.8388888888888889\n"
          ]
        }
      ]
    },
    {
      "cell_type": "code",
      "source": [
        "# Membuat model Regresi Logistik\n",
        "LR_dMi_rO_mmx = LogisticRegression()\n",
        "\n",
        "# Melatih model\n",
        "LR_dMi_rO_mmx.fit(X_dMi_rO_mmx_train, y_dMi_rO_mmx_train)\n",
        "\n",
        "# Melakukan prediksi\n",
        "y_dMi_rO_mmx_pred = LR_dMi_rO_mmx.predict(X_dMi_rO_mmx_test)\n",
        "\n",
        "# Evaluasi model\n",
        "accuracy = accuracy_score(y_dMi_rO_mmx_test, y_dMi_rO_mmx_pred)\n",
        "print(f'Akurasi: {accuracy}')"
      ],
      "metadata": {
        "colab": {
          "base_uri": "https://localhost:8080/"
        },
        "id": "qSRBOF_AlVIN",
        "outputId": "7b40ac17-5f4b-420b-fc59-0621c7d71ca1"
      },
      "execution_count": null,
      "outputs": [
        {
          "output_type": "stream",
          "name": "stdout",
          "text": [
            "Akurasi: 0.8333333333333334\n"
          ]
        }
      ]
    },
    {
      "cell_type": "markdown",
      "source": [
        "#### **Model Description**"
      ],
      "metadata": {
        "id": "E9EQZQCj7EwW"
      }
    },
    {
      "cell_type": "markdown",
      "source": [
        "\\begin{equation}\n",
        "P(Y=1) = \\frac{1}{1 + e^{-(\\beta_0 + \\beta_1 X_1 + \\beta_2 X_2 + \\ldots + \\beta_n X_n)}}\n",
        "\\end{equation}\n",
        "\n",
        "<br>\n",
        "\n",
        "* $P(Y=1)$ adalah probabilitas bahwa variabel dependen $Y$ sama dengan 1.\n",
        "\n",
        "* $(\\beta_0, \\beta_1, \\beta_2, \\ldots, \\beta_n)$ adalah parameter yang akan diestimasi.\n",
        "\n",
        "* $(X_1, X_2, \\ldots, X_n)$ adalah variabel independen.\n"
      ],
      "metadata": {
        "id": "9s-69gN_Gyx8"
      }
    },
    {
      "cell_type": "markdown",
      "source": [
        "Model Logistic Regression menghasilkan parameter berikut: koefisien untuk setiap atribut, intercept, dan fungsi logistik yang menggambarkan probabilitas."
      ],
      "metadata": {
        "id": "rW9agjO57j3J"
      }
    },
    {
      "cell_type": "markdown",
      "source": [
        "### **Assess Model**"
      ],
      "metadata": {
        "id": "UKr5w78A4EhV"
      }
    },
    {
      "cell_type": "markdown",
      "source": [
        "#### **Model Assessment**"
      ],
      "metadata": {
        "id": "BKcPEHSv7H_n"
      }
    },
    {
      "cell_type": "markdown",
      "source": [
        "*   Model dievaluasi menggunakan beberapa metrik kualitas seperti akurasi, presisi, recall, dan F1-score.\n",
        "*   Akurasi:\n",
        "*   Presisi:\n",
        "*   Recall:  \n",
        "*   F1-score:"
      ],
      "metadata": {
        "id": "0H6WDDrPH_Nq"
      }
    },
    {
      "cell_type": "markdown",
      "source": [
        "#### **Revised Parameter Settings**"
      ],
      "metadata": {
        "id": "-tAhbH507KbF"
      }
    },
    {
      "cell_type": "markdown",
      "source": [
        "## **Evaluation**"
      ],
      "metadata": {
        "id": "4iEH7ut42RHD"
      }
    },
    {
      "cell_type": "markdown",
      "source": [
        "### **Evaluate Results**"
      ],
      "metadata": {
        "id": "s7TbBJcX4GxW"
      }
    },
    {
      "cell_type": "markdown",
      "source": [
        "#### **Assessment of Data Mining Results**"
      ],
      "metadata": {
        "id": "UmqcNTpe7P2Z"
      }
    },
    {
      "cell_type": "markdown",
      "source": [
        "*   Model Logistic Regression berhasil mencapai akurasi 84%, memenuhi target minimal 80% sesuai dengan kriteria keberhasilan bisnis.\n",
        "*   Temuan tambahan termasuk identifikasi faktor-faktor yang paling berpengaruh dalam prediksi."
      ],
      "metadata": {
        "id": "BrWUckWhIsrC"
      }
    },
    {
      "cell_type": "markdown",
      "source": [
        "#### **Approved Models**"
      ],
      "metadata": {
        "id": "TaWSolcz7Uvs"
      }
    },
    {
      "cell_type": "markdown",
      "source": [
        "Model yang memenuhi kriteria keberhasilan bisnis dianggap sebagai model yang disetujui. Sehingga, model Logistic Regression dengan parameter hasil terbaik dianggap disetujui."
      ],
      "metadata": {
        "id": "vF15Kqe-I2H8"
      }
    },
    {
      "cell_type": "code",
      "source": [
        "import joblib\n",
        "# Menyimpan scaler ke dalam file\n",
        "joblib.dump(scaler_minmax_rO, '/content/drive/MyDrive/psd/raisin/scaler.pkl')"
      ],
      "metadata": {
        "id": "t5yUKDdUlfGM"
      },
      "execution_count": null,
      "outputs": []
    },
    {
      "cell_type": "code",
      "source": [
        "import joblib\n",
        "# Simpan model ke dalam file\n",
        "joblib.dump(LR_rO_mmx, '/content/drive/MyDrive/psd/raisin/LR_model.pkl')"
      ],
      "metadata": {
        "id": "HrwJYB6NlhJx"
      },
      "execution_count": null,
      "outputs": []
    },
    {
      "cell_type": "markdown",
      "source": [
        "### **Review Process**"
      ],
      "metadata": {
        "id": "HglyY8VA4JXC"
      }
    },
    {
      "cell_type": "markdown",
      "source": [
        "#### **Review of Process**"
      ],
      "metadata": {
        "id": "lS37Dy-L7YjZ"
      }
    },
    {
      "cell_type": "markdown",
      "source": [
        "Proses pemodelan dan evaluasi telah dilaksanakan sesuai rencana proyek.\n",
        "Semua aktivitas dilakukan sesuai dengan pedoman data mining yang berlaku.\n",
        "Tidak ada isu kualitas yang signifikan yang terlewat selama proses."
      ],
      "metadata": {
        "id": "G29CI7QxI4Zr"
      }
    },
    {
      "cell_type": "markdown",
      "source": [
        "### **Determine Next Steps**"
      ],
      "metadata": {
        "id": "nxxozNo64Lqy"
      }
    },
    {
      "cell_type": "markdown",
      "source": [
        "#### **List of Possible Actions**"
      ],
      "metadata": {
        "id": "kcT9yrXq7bPa"
      }
    },
    {
      "cell_type": "markdown",
      "source": [
        "*   Menyusun rencana implementasi model yang disetujui ke dalam lingkungan produksi, yaitu Streamlit.\n",
        "*   Mengevaluasi kembali model secara berkala untuk memastikan konsistensi performa.\n",
        "*   Menyiapkan laporan final proyek untuk disajikan."
      ],
      "metadata": {
        "id": "iEYpRGpbJYei"
      }
    },
    {
      "cell_type": "markdown",
      "source": [
        "#### **Decision**"
      ],
      "metadata": {
        "id": "7ck9BAbI7eES"
      }
    },
    {
      "cell_type": "markdown",
      "source": [
        "*   Berdasarkan evaluasi hasil dan tinjauan proses, maka diputuskan untuk melanjutkan ke tahap implementasi model ke dalam Streamlit.\n",
        "*   Evaluasi model secara berkala akan diintegrasikan ke dalam proses operasional untuk pemantauan performa yang berkelanjutan."
      ],
      "metadata": {
        "id": "_2PCMFxRJgGx"
      }
    },
    {
      "cell_type": "markdown",
      "source": [
        "## **Deployment**"
      ],
      "metadata": {
        "id": "s7MhB20P2S78"
      }
    },
    {
      "cell_type": "markdown",
      "source": [
        "### **Plan Deployment**"
      ],
      "metadata": {
        "id": "mRVWpixB4N4j"
      }
    },
    {
      "cell_type": "markdown",
      "source": [
        "#### **Deployment Plan**"
      ],
      "metadata": {
        "id": "O4g5VfPX7hI1"
      }
    },
    {
      "cell_type": "markdown",
      "source": [
        "Implementasi model Logistic Regression akan dilakukan dengan menyertakan kode implementasi dalam lingkungan produksi, yaitu Streamlit."
      ],
      "metadata": {
        "id": "t0cFRHciKaOU"
      }
    },
    {
      "cell_type": "markdown",
      "source": [
        "*   Implementasi model akan dilakukan secara bertahap, dimulai dengan meminta input user untuk variabel yang dibutuhkan dalam memprediksi ."
      ],
      "metadata": {
        "id": "_6OGiJFFKgkr"
      }
    },
    {
      "cell_type": "markdown",
      "source": [
        "### **Plan Monitoring and Maintenance**"
      ],
      "metadata": {
        "id": "9nCoQWTt4P26"
      }
    },
    {
      "cell_type": "markdown",
      "source": [
        "#### **Monitoring and Mainenance Plan**"
      ],
      "metadata": {
        "id": "wIE_KQOL7kRx"
      }
    },
    {
      "cell_type": "markdown",
      "source": [
        "*   Proses pemantauan akan mencakup pemantauan kinerja model, mendeteksi perubahan perilaku data, dan mengukur dampak model pada keputusan bisnis.\n",
        "*   Pemeliharaan akan melibatkan pembaruan model secara berkala sesuai dengan perubahan dalam data atau tujuan bisnis dan penanganan masalah yang mungkin muncul."
      ],
      "metadata": {
        "id": "uTwSKrPUKM6z"
      }
    },
    {
      "cell_type": "markdown",
      "source": [
        "### **Produce Final Report**"
      ],
      "metadata": {
        "id": "Si9SK2uC4Tkq"
      }
    },
    {
      "cell_type": "markdown",
      "source": [
        "#### **Final Report**"
      ],
      "metadata": {
        "id": "SLilkJk47njZ"
      }
    },
    {
      "cell_type": "markdown",
      "source": [
        "Laporan akhir berisi rangkuman menyeluruh tentang proyek, metode yang diterapkan, hasil evaluasi model, dan rekomendasi untuk implementasi serta pemeliharaan berkelanjutan, yang akan disajikan melalui website POSIT dengan penjelasan mendalam pada setiap tahapan proses data mining.\n",
        "\n",
        "Website POSIT: [teks link](https://)"
      ],
      "metadata": {
        "id": "hMF9xHjnKEuD"
      }
    },
    {
      "cell_type": "markdown",
      "source": [
        "### **Review Project**"
      ],
      "metadata": {
        "id": "RvHlhsLb4WC9"
      }
    },
    {
      "cell_type": "markdown",
      "source": [
        "#### **Experience Documentation**"
      ],
      "metadata": {
        "id": "0ReDhb8a7sfh"
      }
    },
    {
      "cell_type": "markdown",
      "source": [
        "* Evaluasi Proyek:\n",
        "* Kesalahan yang ditemui:\n",
        "* Saran untuk perbaikan di masa depan:"
      ],
      "metadata": {
        "id": "FtCAX2Zp88T4"
      }
    }
  ]
}