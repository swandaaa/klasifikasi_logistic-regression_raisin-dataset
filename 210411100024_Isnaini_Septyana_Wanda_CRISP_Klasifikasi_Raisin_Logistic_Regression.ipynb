{
  "cells": [
    {
      "cell_type": "markdown",
      "metadata": {
        "id": "noAccz4v2Fxj"
      },
      "source": [
        "# **Business Understanding**"
      ]
    },
    {
      "cell_type": "markdown",
      "metadata": {
        "id": "TZ3-hf282WMa"
      },
      "source": [
        "## **Determine Business Objective**"
      ]
    },
    {
      "cell_type": "markdown",
      "metadata": {
        "id": "gt3vgm-S4fwK"
      },
      "source": [
        "### **Background**"
      ]
    },
    {
      "cell_type": "markdown",
      "metadata": {
        "id": "-ero8xoCyx1a"
      },
      "source": [
        "Sebagai produk makanan khas Turki, kismis memiliki peran yang signifikan dalam industri produksi kismis secara global. Dalam upaya untuk meningkatkan efisiensi dan konsistensi dalam penilaian kualitas kismis yang saat ini memerlukan waktu dan dapat menghasilkan penilaian yang tidak konsisten, penelitian ini berfokus pada penggunaan teknik ekstraksi fitur morfologis dari dataset kismis.\n",
        "\n",
        "Fitur morfologis yang diekstraksi dari dataset melibatkan karakteristik geometris dan struktural dari kismis, seperti area, panjang sumbu utama dan sumbu minor, eksentrisitas, dan parameter morfologi lainnya. Data ini kemudian dimanfaatkan untuk mengembangkan model klasifikasi menggunakan Logistic Regression (LR). Model ini diarahkan untuk mengklasifikasikan varietas kismis menjadi Kecimen dan Besni.\n",
        "\n",
        "Dengan menerapkan pendekatan ini, diharapkan penelitian ini dapat memberikan solusi yang lebih cepat, efisien, dan konsisten dalam penilaian kualitas kismis. Hasil dari model Logistic Regression yang dikembangkan dapat menjadi langkah awal menuju otomatisasi proses penilaian kualitas kismis, yang dapat berdampak positif pada efisiensi industri produksi kismis secara global."
      ]
    },
    {
      "cell_type": "markdown",
      "metadata": {
        "id": "etY-Kxnb4iU8"
      },
      "source": [
        "### **Business Objectives**"
      ]
    },
    {
      "cell_type": "markdown",
      "metadata": {
        "id": "kpJIY-DozA7r"
      },
      "source": [
        "1.   **Membangun model Logistic Regression untuk mengklasifikasikan raisin berdasarkan fitur morfologis**\n",
        "  *   Pemilihan Logistic Regression sebagai model klasifikasi didasarkan pada keunggulannya dalam menangani masalah klasifikasi biner, yang sesuai dengan kebutuhan kita untuk mengklasifikasikan raisin menjadi dua varietas, yaitu Kecimen dan Besni. Keunggulan Logistic Regression terletak pada sederhananya, yang memudahkan interpretasi, dan kemampuannya memberikan hasil yang baik terutama ketika hubungan antara fitur dan variabel target bersifat logistik.\n",
        "  *   Dengan menggunakan model Logistic Regression, kita dapat memastikan evaluasi kualitas raisin dilakukan secara efisien dan cepat. Hal ini penting dalam lingkungan industri di mana waktu sangat berharga, dan kecepatan evaluasi dapat meningkatkan efisiensi dalam proses produksi.\n",
        "2.   **Menyediakan solusi evaluasi kualitas raisin yang cepat dan konsisten**\n",
        "  *   Tujuan utama dari solusi ini adalah meningkatkan efisiensi dalam menilai kualitas raisin. Dengan memanfaatkan model Logistic Regression yang cepat dan konsisten, proses evaluasi dapat dilakukan dengan akurasi tinggi dan dalam waktu yang singkat. Hal ini akan memberikan manfaat signifikan dalam produksi massal raisin dan membantu dalam menjaga konsistensi kualitas produk."
      ]
    },
    {
      "cell_type": "markdown",
      "metadata": {
        "id": "dahPt94D4lMj"
      },
      "source": [
        "### **Business Success Criteria**"
      ]
    },
    {
      "cell_type": "markdown",
      "metadata": {
        "id": "3IabJHqk0ILC"
      },
      "source": [
        "*   **Kemampuan model atau analisis untuk membedakan dengan baik antara varietas Kecimen dan Besni dengan minimal 80% akurasi:** Pencapaian tingkat akurasi ini menjadi indikator yang memberikan keyakinan bahwa model dapat memberikan hasil yang dapat diandalkan dan bermanfaat secara praktis dalam aplikasinya.\n",
        "*   **Reduksi waktu penilaian kualitas raisin dari metode tradisional:** Salah satu tujuan utama dari proyek ini adalah untuk mengurangi waktu yang dibutuhkan dalam menilai kualitas raisin jika dibandingkan dengan metode tradisional. Metode tradisional mungkin melibatkan evaluasi manual yang memakan waktu, dan solusi berbasis model dapat memberikan keuntungan signifikan dalam hal efisiensi."
      ]
    },
    {
      "cell_type": "markdown",
      "metadata": {
        "id": "VENTQNmo2eFq"
      },
      "source": [
        "## **Asses Situation**"
      ]
    },
    {
      "cell_type": "markdown",
      "metadata": {
        "id": "1hIofrMG4rsC"
      },
      "source": [
        "### **Inventory of Resources**"
      ]
    },
    {
      "cell_type": "markdown",
      "metadata": {
        "id": "Wt-sGuH76S6-"
      },
      "source": [
        "1.   **Personel**\n",
        "  *   Independen, menggabungkan peran sebagai data analyst dan ahli bisnis\n",
        "2.   **Data**\n",
        "  *   Terdapat 900 butir kismis, dengan 450 butir dari varietas Kecimen dan 450 dari varietas Besni\n",
        "  *   Data gambar telah mengalami tahap pra-pemrosesan dan ekstraksi fitur menghasilkan 7 fitur morfologi bertipe data numerik\n",
        "3.   **Sumber Daya Komputasi**\n",
        "  *   Google Colab digunakan sebagai platform untuk menjalankan algoritma data mining\n",
        "  * Scikit-learn library digunakan untuk eksekusi algoritma\n",
        "4.   **Perangkat Lunak**\n",
        "    *   Posit cloud diimplementasikan untuk Final Report\n",
        "    *   Antarmuka pengguna diimplementasikan menggunakan Streamlit"
      ]
    },
    {
      "cell_type": "markdown",
      "metadata": {
        "id": "TrGnbPqV4uvw"
      },
      "source": [
        "### **Requirements, Assumptions & Constraints**"
      ]
    },
    {
      "cell_type": "markdown",
      "metadata": {
        "id": "z1YYF45B70Kw"
      },
      "source": [
        "1.   **Persyaratan Proyek**\n",
        "  *   Kejelasan terhadap tujuan proyek, kriteria keberhasilan, dan kebutuhan data\n",
        "  *   Standar kualitas hasil analisis\n",
        "2.   **Asumsi Proyek**\n",
        "  *   Asumsi tentang ketersediaan dan kualitas data\n",
        "  *   Asumsi tentang karakteristik morfologi yang dapat dianalisis dari gambar raisin\n",
        "  *   Asumsi bisnis terkait dengan pengelolaan varietas kismis\n",
        "3.    **Kendala Proyek**\n",
        "  *   Ketergantungan pada kualitas dataset"
      ]
    },
    {
      "cell_type": "markdown",
      "metadata": {
        "id": "jPd3g7Hl4zBq"
      },
      "source": [
        "### **Risks and Contingencies**"
      ]
    },
    {
      "cell_type": "markdown",
      "metadata": {
        "id": "zV2cbwN273F6"
      },
      "source": [
        "*   **Risiko Proyek**: Kualitas data yang rendah atau tidak sesuai\n",
        "*   **Kontinjensi**: Pengembangan rencana untuk mengatasi risiko kualitas data dengan Data cleaning dan preprocessing tambahan"
      ]
    },
    {
      "cell_type": "markdown",
      "metadata": {
        "id": "n2fAcNWu44Fh"
      },
      "source": [
        "### **Terminology**"
      ]
    },
    {
      "cell_type": "markdown",
      "metadata": {
        "id": "K2ychDEJ75m9"
      },
      "source": [
        "1.   **Glosarium Istilah Bisnis**\n",
        "  *   Varietas Kecimen dan Besni: Jenis kismis yang tumbuh di Turki.\n",
        "  *   Morfologi: Karakteristik fisik dan bentuk dari gambar raisin.\n",
        "  *   Proses pra-pemrosesan: Tahapan awal dalam persiapan data untuk analisis.\n",
        "  *   Evaluasi kualitas: Proses penilaian untuk menilai sejauh mana hasil analisis atau model memenuhi standar atau kriteria tertentu, melibatkan aspek seperti akurasi, relevansi, dan keberhasilan terhadap tujuan bisnis.\n",
        "2.   **Glosarium Istilah Data Mining**\n",
        "  *   Ekstraksi Fitur Morfologi: Proses mengidentifikasi dan mengekstrak fitur-fitur penting dari gambar raisin.\n",
        "  *   Algoritma Data Mining: Metode matematis dan statistik untuk menghasilkan model dari dataset.\n",
        "  *   Evaluasi Model: Proses penilaian terhadap kinerja model data mining, mencakup pengukuran akurasi, presisi, recall, dan metrik lainnya untuk menentukan sejauh mana model dapat diandalkan dan efektif dalam menyelesaikan tugas yang dihadapi."
      ]
    },
    {
      "cell_type": "markdown",
      "metadata": {
        "id": "ymN7Jh0G2otF"
      },
      "source": [
        "## **Determine Data Mining Goals**"
      ]
    },
    {
      "cell_type": "markdown",
      "metadata": {
        "id": "HzbSc79b5ED3"
      },
      "source": [
        "### **Data Mining Goals**"
      ]
    },
    {
      "cell_type": "markdown",
      "metadata": {
        "id": "b_wIpzqf-1zV"
      },
      "source": [
        "*   Menganalisis dataset raisin untuk mengidentifikasi perbedaan morfologi antara varietas Kecimen dan Besni\n",
        "*   Membangun model data mining yang dapat memprediksi varietas kismis berdasarkan fitur morfologi\n",
        "*   Mengembangkan model Logistic Regression untuk mengklasifikasikan varietas raisin berdasarkan fitur morfologis\n",
        "*   Mengevaluasi performa model berdasarkan kriteria keberhasilan teknis\n",
        "\n"
      ]
    },
    {
      "cell_type": "markdown",
      "metadata": {
        "id": "zNBNh06w5Hbq"
      },
      "source": [
        "### **Data Mining Success Criteria**"
      ]
    },
    {
      "cell_type": "markdown",
      "metadata": {
        "id": "r1tGbq-g_Alf"
      },
      "source": [
        "*   Akurasi prediksi model data mining mencapai akurasi minimal 80%\n",
        "*   Kemampuan model untuk mengidentifikasi dan memahami perbedaan morfologi yang signifikan\n",
        "*   Keterpenuhan persyaratan teknis"
      ]
    },
    {
      "cell_type": "markdown",
      "metadata": {
        "id": "yttOqX4a2vYW"
      },
      "source": [
        "## **Produce Project Plan**\n"
      ]
    },
    {
      "cell_type": "markdown",
      "metadata": {
        "id": "yI0Fo5tx5LRy"
      },
      "source": [
        "### **Project Plan**"
      ]
    },
    {
      "cell_type": "markdown",
      "metadata": {
        "id": "TCRNk6fIoIoe"
      },
      "source": [
        "1. **Business Understanding:**\n",
        "  \n",
        "  Fokus pada pemahaman mendalam tentang konteks bisnis dan tujuan proyekd dengan mengidentifikasi permasalahan yang ingin diselesaikan, peluang yang ingin dimanfaatkan, serta pemahaman menyeluruh tentang kebutuhan. Rencana proyek harus mencakup tujuan bisnis yang jelas, kendala-kendala yang mungkin dihadapi, dan kriteria keberhasilan.\n",
        "\n",
        "2. **Data Understanding:**\n",
        "  \n",
        "  Melakukan eksplorasi awal terhadap data yang akan digunakan dalam proyek. Ini mencakup memahami struktur data, distribusi nilai-nilai, identifikasi potensi masalah seperti keberadaan nilai yang hilang. Tujuannya adalah untuk mendapatkan pemahaman yang kuat tentang karakteristik data yang dapat mempengaruhi langkah-langkah selanjutnya dalam proses analisis.\n",
        "\n",
        "3. **Data Preparation:**\n",
        "\n",
        "   Melakukan seleksi, pembersihan, dan transformasi data untuk memastikan bahwa data siap digunakan dalam tahap pemodelan. Ini mencakup pemilihan atribut yang relevan, penanganan nilai-nilai yang hilang, dan transformasi data untuk memenuhi persyaratan teknis dari model yang akan dibangun.\n",
        "\n",
        "4. **Modeling (Logistic Regression):**\n",
        "   \n",
        "   Pemilihan dan penerapan model Logistik Regresi untuk melakukan klasifikasi varietas Kecimen dan Besni berdasarkan fitur morfologis raisin. Proses ini melibatkan pembagian data menjadi set pelatihan dan pengujian, pelatihan model pada data pelatihan, dan evaluasi performa model pada data pengujian.\n",
        "\n",
        "5. **Evaluasi Model:**\n",
        "   \n",
        "   Menilai performa model dengan menguji model pada dataset pengujian. Evaluasi melibatkan pengukuran akurasi, presisi, recall, dan metrik evaluasi lainnya sesuai dengan kebutuhan bisnis. Evaluasi ini memberikan wawasan tentang seberapa baik model dapat membedakan antara varietas Kecimen dan Besni.\n",
        "\n",
        "6. **Implementasi Streamlit:**\n",
        "   \n",
        "   Streamlit digunakan untuk membangun aplikasi web sederhana yang memungkinkan pengguna untuk dengan mudah memasukkan parameter, melakukan prediksi, dan melihat hasil dari model Logistic Regression. Implementasi ini membawa hasil model ke tingkat praktis yang dapat digunakan oleh pengguna non-teknis."
      ]
    },
    {
      "cell_type": "markdown",
      "metadata": {
        "id": "KyUTIW8b5PRS"
      },
      "source": [
        "### **Initial Assessment of Tools, and Techniques**\n"
      ]
    },
    {
      "cell_type": "markdown",
      "metadata": {
        "id": "Oj6GMPBI_1Ec"
      },
      "source": [
        "*   Memilih Python sebagai bahasa pemrograman utama\n",
        "*   Menggunakan scikit-learn library untuk implementasi Logistic Regression\n",
        "\n"
      ]
    },
    {
      "cell_type": "markdown",
      "metadata": {
        "id": "xiyUF_7W2JHT"
      },
      "source": [
        "# **Data Understanding**"
      ]
    },
    {
      "cell_type": "markdown",
      "metadata": {
        "id": "SVSD55hh25gB"
      },
      "source": [
        "## **Collect Initial Data**"
      ]
    },
    {
      "cell_type": "code",
      "execution_count": 1,
      "metadata": {
        "colab": {
          "base_uri": "https://localhost:8080/"
        },
        "id": "U4Y2viqdfiLf",
        "outputId": "69271434-c465-458c-f7fa-25ab43496537"
      },
      "outputs": [
        {
          "name": "stdout",
          "output_type": "stream",
          "text": [
            "Mounted at /content/drive\n"
          ]
        }
      ],
      "source": [
        "# Menghubungkan Analisis Data Mining dengan Goggle Drive\n",
        "from google.colab import drive\n",
        "drive.mount('/content/drive')"
      ]
    },
    {
      "cell_type": "code",
      "execution_count": 2,
      "metadata": {
        "id": "aabPbB3sfi5X"
      },
      "outputs": [],
      "source": [
        "# Import Library\n",
        "import numpy as np\n",
        "import pandas as pd\n",
        "import matplotlib.pyplot as plt\n",
        "import seaborn as sns"
      ]
    },
    {
      "cell_type": "code",
      "execution_count": 3,
      "metadata": {
        "id": "ZYdhfbpufkXY"
      },
      "outputs": [],
      "source": [
        "# Membaca dataset ke dalam DataFrame\n",
        "data = pd.read_excel('/content/drive/MyDrive/psd/raisin/Raisin_Dataset.xlsx')"
      ]
    },
    {
      "cell_type": "markdown",
      "metadata": {
        "id": "H-AQnI_m5kES"
      },
      "source": [
        "### **Initial Data Collection Report**"
      ]
    },
    {
      "cell_type": "markdown",
      "metadata": {
        "id": "X8m5ZSq_EFaa"
      },
      "source": [
        "\n",
        "*   **Sumber data**: Dataset raisin diperoleh dari sumber penelitian yang telah melalui tahap pra-pemrosesan dan ekstraksi fitur morfologi terhadap foto 900 butir kismis (450 dari varietas Kecimen dan 450 dari varietas Besni) dengan melakukan image processing\n",
        "*   **Lokasi dataset**: Turki\n",
        "*   **Metode perolehan data**: Pengunduhan dataset dari UCI Machine Learning (https://archive.ics.uci.edu/dataset/850/raisin)\n",
        "*   **Masalah yang dihadapi**: Tidak ada masalah yang dihadapi selama perolehan data"
      ]
    },
    {
      "cell_type": "markdown",
      "metadata": {
        "id": "HtSvueh426Kq"
      },
      "source": [
        "## **Describe Data**"
      ]
    },
    {
      "cell_type": "markdown",
      "metadata": {
        "id": "OPCdDFfCnlXU"
      },
      "source": [
        "Raisin dataset diperoleh dari hasil Computer Vision System (CVS) dari gambar varietas kismis Kecimen dan Besni yang tumbuh di Turki. Sebanyak 900 butir kismis digunakan, dimana terdapat 450 butir dari setiap varietas tersebut. Gambar-gambar ini telah menjalani berbagai tahap pra-pemrosesan dan ekstraksi fitur yang menghasilkan 7 fitur morfologi."
      ]
    },
    {
      "cell_type": "markdown",
      "metadata": {
        "id": "rujEkBdj5pYC"
      },
      "source": [
        "### **Data Description Report**"
      ]
    },
    {
      "cell_type": "markdown",
      "metadata": {
        "id": "na4zRsWeEBaj"
      },
      "source": [
        "*   Total 900 baris (450 Kecimen, 450 Besni), dengan 7 kolom atribut morfologis.\n",
        "*   Atribut meliputi Area, Perimeter, MajorAxisLength, MinorAxisLength, Eccentricity, ConvexArea, dan Extent.\n",
        "*   Data berupa nilai numerik yang mencerminkan atribut morfologis."
      ]
    },
    {
      "cell_type": "markdown",
      "metadata": {
        "id": "wXjcpq9t28dJ"
      },
      "source": [
        "## **Explore Data**"
      ]
    },
    {
      "cell_type": "code",
      "execution_count": 4,
      "metadata": {
        "colab": {
          "base_uri": "https://localhost:8080/",
          "height": 1000
        },
        "id": "hTfM2aJrgCTr",
        "outputId": "82168e3b-6d08-49b7-ca71-f70a2b00569f"
      },
      "outputs": [
        {
          "data": {
            "image/png": "[encoded data removed]",
            "text/plain": [
              "<Figure size 640x480 with 1 Axes>"
            ]
          },
          "metadata": {},
          "output_type": "display_data"
        },
        {
          "name": "stdout",
          "output_type": "stream",
          "text": [
            "\n"
          ]
        },
        {
          "data": {
            "image/png": "[encoded data removed]",
            "text/plain": [
              "<Figure size 640x480 with 1 Axes>"
            ]
          },
          "metadata": {},
          "output_type": "display_data"
        },
        {
          "name": "stdout",
          "output_type": "stream",
          "text": [
            "\n"
          ]
        },
        {
          "data": {
            "image/png": "[encoded data removed]",
            "text/plain": [
              "<Figure size 640x480 with 1 Axes>"
            ]
          },
          "metadata": {},
          "output_type": "display_data"
        },
        {
          "name": "stdout",
          "output_type": "stream",
          "text": [
            "\n"
          ]
        },
        {
          "data": {
            "image/png": "[encoded data removed]",
            "text/plain": [
              "<Figure size 640x480 with 1 Axes>"
            ]
          },
          "metadata": {},
          "output_type": "display_data"
        },
        {
          "name": "stdout",
          "output_type": "stream",
          "text": [
            "\n"
          ]
        },
        {
          "data": {
            "image/png": "[encoded data removed]",
            "text/plain": [
              "<Figure size 640x480 with 1 Axes>"
            ]
          },
          "metadata": {},
          "output_type": "display_data"
        },
        {
          "name": "stdout",
          "output_type": "stream",
          "text": [
            "\n"
          ]
        },
        {
          "data": {
            "image/png": "[encoded data removed]",
            "text/plain": [
              "<Figure size 640x480 with 1 Axes>"
            ]
          },
          "metadata": {},
          "output_type": "display_data"
        },
        {
          "name": "stdout",
          "output_type": "stream",
          "text": [
            "\n"
          ]
        },
        {
          "data": {
            "image/png": "[encoded data removed]",
            "text/plain": [
              "<Figure size 640x480 with 1 Axes>"
            ]
          },
          "metadata": {},
          "output_type": "display_data"
        },
        {
          "name": "stdout",
          "output_type": "stream",
          "text": [
            "\n"
          ]
        }
      ],
      "source": [
        "# Histogram masing-massing fitur\n",
        "for column in data.columns:\n",
        "    if data[column].dtype != 'O':  # Filter kolom fitur\n",
        "        plt.subplot(2, 2, 1)\n",
        "        plt.hist(data[column], bins=20, edgecolor='black')\n",
        "        plt.title(f'Histogram of {column}')\n",
        "        plt.tight_layout()\n",
        "        plt.show()\n",
        "        print(\"\")"
      ]
    },
    {
      "cell_type": "markdown",
      "metadata": {
        "id": "0H2Z8CZN5sNw"
      },
      "source": [
        "### **Data Exploration Report**"
      ]
    },
    {
      "cell_type": "markdown",
      "metadata": {
        "id": "nb_OIeiVEM27"
      },
      "source": [
        "Berdasarkan histogram masing-masing fitur, didapatkan distribusi positif dan negatif yang merujuk pada karakteristik bentuk distribusi data yang berkaitan dengan posisi rata-rata (mean) dan median. Dapat dijelaskan sebagai berikut:\n",
        "\n",
        "1. **Distribusi Positif (Menjulur ke Kanan):**\n",
        "\n",
        "  Nilai median lebih besar dari mean, yang mengindikasikan bahwa sebagian besar nilai cenderung lebih besar dari rata-rata. Fitur yang memiliki distribusi positif: Area, MajorAxisLength, MinorAxisLength, ConvexArea,  Perimeter\n",
        "\n",
        "2. **Distribusi Negatif (Menjulur ke Kiri):**\n",
        "\n",
        "  Nilai mean atau rata-rata lebih besar dari median, yang menunjukkan adanya nilai-nilai kecil yang dapat mendorong rata-rata ke arah yang lebih tinggi, sementara median tetap pada nilai yang lebih rendah. Fitur yang memiliki distribusi negatif: Eccentricity dan Extent"
      ]
    },
    {
      "cell_type": "markdown",
      "metadata": {
        "id": "ilVb8e_Q3BGa"
      },
      "source": [
        "## **Verify Data Quality**"
      ]
    },
    {
      "cell_type": "markdown",
      "metadata": {
        "id": "1EDtDrmgfpLw"
      },
      "source": [
        "### **Informasi**"
      ]
    },
    {
      "cell_type": "markdown",
      "metadata": {
        "id": "AtzjbFn1fjWF"
      },
      "source": [
        "Menampilkan informasi ringkas tentang DataFrame untuk mendapatkan gambaran umum tentang dataset, memeriksa tipe data, mendeteksi apakah ada nilai null, dan melihat seberapa besar memori yang digunakan."
      ]
    },
    {
      "cell_type": "code",
      "execution_count": 5,
      "metadata": {
        "colab": {
          "base_uri": "https://localhost:8080/"
        },
        "id": "6L4_yieF3jAK",
        "outputId": "7bd163f6-391b-4cfc-bf32-5329ad4dc098"
      },
      "outputs": [
        {
          "name": "stdout",
          "output_type": "stream",
          "text": [
            "<class 'pandas.core.frame.DataFrame'>\n",
            "RangeIndex: 900 entries, 0 to 899\n",
            "Data columns (total 8 columns):\n",
            " #   Column           Non-Null Count  Dtype  \n",
            "---  ------           --------------  -----  \n",
            " 0   Area             900 non-null    int64  \n",
            " 1   MajorAxisLength  900 non-null    float64\n",
            " 2   MinorAxisLength  900 non-null    float64\n",
            " 3   Eccentricity     900 non-null    float64\n",
            " 4   ConvexArea       900 non-null    int64  \n",
            " 5   Extent           900 non-null    float64\n",
            " 6   Perimeter        900 non-null    float64\n",
            " 7   Class            900 non-null    object \n",
            "dtypes: float64(5), int64(2), object(1)\n",
            "memory usage: 56.4+ KB\n"
          ]
        }
      ],
      "source": [
        "# Menampilkan informasi ringkas tentang DataFrame\n",
        "data.info()"
      ]
    },
    {
      "cell_type": "markdown",
      "metadata": {
        "id": "2GHpggtDgH4R"
      },
      "source": [
        "### **Missing Values**"
      ]
    },
    {
      "cell_type": "markdown",
      "metadata": {
        "id": "lVCRmZCheInl"
      },
      "source": [
        "Mengecek apakah terdapat nilai yang hilang (missing value) pada kolom-kolom tertentu dalam DataFrame untuk memberikan pemahaman awal tentang seberapa banyak nilai yang hilang dalam setiap kolom pada dataset. Pengecekan nilai yang hilang adalah langkah penting dalam pra-pemrosesan data sebelum melakukan analisis lebih lanjut."
      ]
    },
    {
      "cell_type": "code",
      "execution_count": 6,
      "metadata": {
        "colab": {
          "base_uri": "https://localhost:8080/"
        },
        "id": "U8__-jF5gFyS",
        "outputId": "5a4e2102-68db-4e4a-c62a-69f47f8b1b0b"
      },
      "outputs": [
        {
          "name": "stdout",
          "output_type": "stream",
          "text": [
            "Tidak terdapat missing value pada kolom Area\n",
            "Tidak terdapat missing value pada kolom MajorAxisLength\n",
            "Tidak terdapat missing value pada kolom MinorAxisLength\n",
            "Tidak terdapat missing value pada kolom Eccentricity\n",
            "Tidak terdapat missing value pada kolom ConvexArea\n",
            "Tidak terdapat missing value pada kolom Extent\n",
            "Tidak terdapat missing value pada kolom Perimeter\n"
          ]
        }
      ],
      "source": [
        "# Mengecek missing value pada setiap kolom\n",
        "koloms = ['Area','MajorAxisLength','MinorAxisLength','Eccentricity','ConvexArea','Extent','Perimeter']\n",
        "for kolom in koloms:\n",
        "  if data[kolom].isnull().any():\n",
        "      print(f'Terdapat missing value pada kolom {kolom}')\n",
        "      # Menampilkan indeks baris yang memiliki missing value\n",
        "      baris_missing = data[data[kolom].isnull()].index\n",
        "      print(f'Baris yang memiliki missing value: {baris_missing}')\n",
        "  else:\n",
        "      print(f'Tidak terdapat missing value pada kolom {kolom}')"
      ]
    },
    {
      "cell_type": "markdown",
      "metadata": {
        "id": "yGz_0OnyggHy"
      },
      "source": [
        "### **Outliers**"
      ]
    },
    {
      "cell_type": "markdown",
      "metadata": {
        "id": "UDcGBtl-g8I-"
      },
      "source": [
        "Mendeteksi outlier dalam DataFrame menggunakan Z-Score sebagai metode deteksi. Deteksi outlier penting dalam analisis data karena nilai-nilai yang ekstrem atau tidak biasa dapat mempengaruhi hasil analisis secara signifikan. Pada umumnya, Z-Score digunakan untuk mengukur seberapa ekstrem suatu nilai dalam konteks distribusi data."
      ]
    },
    {
      "cell_type": "code",
      "execution_count": 7,
      "metadata": {
        "colab": {
          "base_uri": "https://localhost:8080/"
        },
        "id": "m7cwMB9XgkO4",
        "outputId": "aef25863-23df-49c6-d3d7-c7eee95ad096"
      },
      "outputs": [
        {
          "name": "stdout",
          "output_type": "stream",
          "text": [
            "Outliers:\n",
            "Indices: [13, 23, 34, 43, 85, 106, 156, 192, 197, 235, 251, 253, 290, 316, 356, 459, 483, 487, 490, 498, 506, 507, 536, 552, 579, 580, 581, 616, 668, 682, 694, 708, 769, 802, 804, 812, 829, 836, 866, 880]\n",
            "Values: [[76792, 338.8575454, 291.3592017, 0.510583813, 78842, 0.772322237, 1042.77, 'Kecimen'], [61251, 301.5077895, 273.6599414, 0.419753707, 64732, 0.643595671, 971.769, 'Kecimen'], [46427, 253.8420284, 235.9068241, 0.369212459, 48275, 0.684219059, 844.312, 'Kecimen'], [92384, 368.4062138, 320.7145792, 0.492086934, 93772, 0.749006827, 1135.662, 'Kecimen'], [180898, 843.9566534, 323.1905688, 0.923770364, 221396, 0.454188929, 2253.557, 'Kecimen'], [48945, 269.3704112, 239.1621656, 0.460121209, 51456, 0.711244478, 872.289, 'Kecimen'], [45962, 251.1333844, 235.3680757, 0.348729642, 47173, 0.742280362, 810.195, 'Kecimen'], [37569, 232.4278475, 208.1520065, 0.44495009, 38874, 0.794371379, 734.102, 'Kecimen'], [86545, 350.1278744, 315.7195205, 0.432307345, 87512, 0.785886818, 1070.062, 'Kecimen'], [39716, 243.0382802, 210.1140569, 0.502579995, 40598, 0.779432833, 737.468, 'Kecimen'], [45598, 259.8962651, 225.6562198, 0.496118267, 47266, 0.741286253, 813.276, 'Kecimen'], [39439, 246.7636115, 212.635393, 0.507423663, 42795, 0.646827284, 793.005, 'Kecimen'], [136340, 722.8539172, 311.3413551, 0.902489762, 176818, 0.529774048, 2098.263, 'Kecimen'], [55746, 280.3131243, 254.6003304, 0.418381972, 56989, 0.730654294, 875.659, 'Kecimen'], [58460, 290.7535562, 258.3843539, 0.458544698, 60254, 0.774756149, 908.357, 'Kecimen'], [83107, 507.3808994, 233.1538498, 0.8881652, 93706, 0.491002009, 1367.331, 'Besni'], [92188, 374.7201638, 324.3025616, 0.500990716, 95920, 0.747599585, 1190.813, 'Besni'], [210923, 984.0454912, 367.2795321, 0.927737116, 278217, 0.507352075, 2697.753, 'Besni'], [171256, 531.3732054, 412.3828168, 0.630646744, 174277, 0.70191488, 1559.214, 'Besni'], [116406, 612.665318, 251.8328267, 0.911615194, 125638, 0.526259635, 1480.951, 'Besni'], [182160, 997.2919406, 271.8723954, 0.96212444, 221527, 0.379856115, 2303.69, 'Besni'], [208264, 675.0983445, 395.5792906, 0.810341407, 212813, 0.771748314, 1755.167, 'Besni'], [81604, 528.5858925, 204.7395131, 0.921939284, 87172, 0.491460095, 1299.386, 'Besni'], [204864, 596.6398018, 440.4971275, 0.674476207, 209457, 0.751009036, 1726.246, 'Besni'], [130868, 613.1726145, 273.1819147, 0.895270971, 134139, 0.536784249, 1513.352, 'Besni'], [206720, 713.4725493, 373.6425439, 0.851905369, 210114, 0.780576219, 1866.091, 'Besni'], [205497, 632.7276067, 414.1883255, 0.755968807, 209486, 0.76928865, 1736.839, 'Besni'], [199015, 615.4172359, 413.9274732, 0.740009433, 201464, 0.768569796, 1687.866, 'Besni'], [206689, 746.145341, 355.3006855, 0.879346962, 212569, 0.745808887, 1876.028, 'Besni'], [106923, 591.1158376, 234.8233464, 0.917708543, 111428, 0.522278775, 1425.109, 'Besni'], [172783, 820.724022, 352.1936798, 0.903244833, 219952, 0.496936979, 2289.889, 'Besni'], [222915, 731.5594062, 389.9466998, 0.84609325, 227170, 0.770542973, 1876.307, 'Besni'], [195281, 609.8297259, 408.5356188, 0.742435528, 197426, 0.769656124, 1639.103, 'Besni'], [71502, 490.4334789, 189.4429399, 0.922383026, 75157, 0.500546035, 1182.852, 'Besni'], [223075, 694.2475503, 411.810369, 0.805073466, 225916, 0.764940471, 1812.569, 'Besni'], [235047, 772.956877, 388.201507, 0.864734549, 239093, 0.711672732, 1942.05, 'Besni'], [127292, 639.8506348, 258.3819447, 0.914840211, 129101, 0.534714521, 1496.062, 'Besni'], [181126, 949.6626718, 293.386698, 0.951082244, 225592, 0.414153748, 2352.029, 'Besni'], [225043, 740.0037432, 390.3008576, 0.849597917, 229195, 0.744187354, 1853.893, 'Besni'], [218459, 571.2892031, 492.2752785, 0.507431838, 228259, 0.731973651, 1947.46, 'Besni']]\n",
            "Total outliers: 40\n"
          ]
        }
      ],
      "source": [
        "from scipy.stats import zscore\n",
        "# Mendeteksi outlier menggunakan zscore dengan threshold Z-Score (misalnya, 3)\n",
        "columns_to_check = ['Area', 'MajorAxisLength', 'MinorAxisLength', 'Eccentricity', 'ConvexArea', 'Extent', 'Perimeter']\n",
        "z_scores = zscore(data[columns_to_check])\n",
        "threshold = 3\n",
        "outliers = (np.abs(z_scores) > threshold).any(axis=1)\n",
        "\n",
        "# Menampilkan informasi tentang outlier\n",
        "outlier_info = {\n",
        "    'values': data[outliers].values.tolist(),\n",
        "    'indices': data[outliers].index.tolist(),\n",
        "    'total': sum(outliers)\n",
        "}\n",
        "\n",
        "print(f\"Outliers:\")\n",
        "print(f\"Indices: {outlier_info['indices']}\")\n",
        "print(f\"Values: {outlier_info['values']}\")\n",
        "print(f\"Total outliers: {outlier_info['total']}\")\n"
      ]
    },
    {
      "cell_type": "code",
      "execution_count": 8,
      "metadata": {
        "colab": {
          "base_uri": "https://localhost:8080/",
          "height": 1000
        },
        "id": "KELogBsoghj8",
        "outputId": "464f1205-4ac6-4375-9b0c-06ab79c97227"
      },
      "outputs": [
        {
          "data": {
            "image/png": "[encoded data removed]",
            "text/plain": [
              "<Figure size 640x480 with 1 Axes>"
            ]
          },
          "metadata": {},
          "output_type": "display_data"
        },
        {
          "data": {
            "image/png": "[encoded data removed]",
            "text/plain": [
              "<Figure size 640x480 with 1 Axes>"
            ]
          },
          "metadata": {},
          "output_type": "display_data"
        },
        {
          "data": {
            "image/png": "[encoded data removed]",
            "text/plain": [
              "<Figure size 640x480 with 1 Axes>"
            ]
          },
          "metadata": {},
          "output_type": "display_data"
        },
        {
          "data": {
            "image/png": "[encoded data removed]",
            "text/plain": [
              "<Figure size 640x480 with 1 Axes>"
            ]
          },
          "metadata": {},
          "output_type": "display_data"
        },
        {
          "data": {
            "image/png": "[encoded data removed]",
            "text/plain": [
              "<Figure size 640x480 with 1 Axes>"
            ]
          },
          "metadata": {},
          "output_type": "display_data"
        },
        {
          "data": {
            "image/png": "[encoded data removed]",
            "text/plain": [
              "<Figure size 640x480 with 1 Axes>"
            ]
          },
          "metadata": {},
          "output_type": "display_data"
        },
        {
          "data": {
            "image/png": "[encoded data removed]",
            "text/plain": [
              "<Figure size 640x480 with 1 Axes>"
            ]
          },
          "metadata": {},
          "output_type": "display_data"
        }
      ],
      "source": [
        "# Box Plot masing-massing fitur\n",
        "for column in data.columns:\n",
        "    if data[column].dtype != 'O': # Filter kolom fitur\n",
        "        plt.subplot(2, 2, 1)\n",
        "        sns.boxplot(x=data[column])\n",
        "        plt.title(f'Boxplot of {column}')\n",
        "        plt.tight_layout()\n",
        "        plt.show()"
      ]
    },
    {
      "cell_type": "markdown",
      "metadata": {
        "id": "EPUAaCu-gmtI"
      },
      "source": [
        "### **Balance Data**"
      ]
    },
    {
      "cell_type": "markdown",
      "metadata": {
        "id": "zlQ26FByh13u"
      },
      "source": [
        "Menghitung jumlah data yang ada dalam setiap kelas dengan tujuan untuk memberikan pemahaman tentang distribusi kelas dalam dataset. Dengan mengetahui berapa banyak sampel yang termasuk dalam setiap kelas, kita dapat memahami seimbang atau tidaknya distribusi kelas, yang dapat memengaruhi kinerja model pembelajaran mesin."
      ]
    },
    {
      "cell_type": "code",
      "execution_count": 9,
      "metadata": {
        "colab": {
          "base_uri": "https://localhost:8080/"
        },
        "id": "VJMZnb0vgoZo",
        "outputId": "67f92f60-9d77-4648-cc04-9182c04d49b1"
      },
      "outputs": [
        {
          "name": "stdout",
          "output_type": "stream",
          "text": [
            "Kecimen    450\n",
            "Besni      450\n",
            "Name: Class, dtype: int64\n"
          ]
        }
      ],
      "source": [
        "# Menghitung jumlah data per kelas\n",
        "class_counts = data['Class'].value_counts()\n",
        "print(class_counts)"
      ]
    },
    {
      "cell_type": "code",
      "execution_count": 10,
      "metadata": {
        "colab": {
          "base_uri": "https://localhost:8080/",
          "height": 609
        },
        "id": "xkR-hCs9gr2y",
        "outputId": "5af6368a-3de4-4957-f33f-5a4b1a42101a"
      },
      "outputs": [
        {
          "data": {
            "image/png": "[encoded data removed]",
            "text/plain": [
              "<Figure size 800x600 with 1 Axes>"
            ]
          },
          "metadata": {},
          "output_type": "display_data"
        }
      ],
      "source": [
        "# Menampilkan bar plot jumlah data per kelas\n",
        "plt.figure(figsize=(8, 6))\n",
        "class_counts.plot(kind='bar', color='skyblue')\n",
        "plt.title('Jumlah Data per Kelas')\n",
        "plt.xlabel('Kelas')\n",
        "plt.ylabel('Jumlah Data')\n",
        "plt.show()"
      ]
    },
    {
      "cell_type": "markdown",
      "metadata": {
        "id": "pL7IdJGr5wmB"
      },
      "source": [
        "### **Data Quality Report**"
      ]
    },
    {
      "cell_type": "markdown",
      "metadata": {
        "id": "ydf87fQNEa5T"
      },
      "source": [
        "*   Data lengkap: Data mencakup 900 butir kismis\n",
        "*   Missing values: Tidak ada nilai yang hilang dalam data\n",
        "*   Outliers: Terdapat 40 baris yang termasuk outlier dalam data\n",
        "*   Balance Data: Jumlah data setiap varietas sama besar sebanyak 450 data"
      ]
    },
    {
      "cell_type": "markdown",
      "metadata": {
        "id": "afYoSBNr2L3a"
      },
      "source": [
        "# **Data Preparation**"
      ]
    },
    {
      "cell_type": "markdown",
      "metadata": {
        "id": "x4j7vhJ06QGz"
      },
      "source": [
        "### **Dataset**"
      ]
    },
    {
      "cell_type": "markdown",
      "metadata": {
        "id": "GyqoOvT6E3dM"
      },
      "source": [
        "Dataset yang dihasilkan oleh fase persiapan data terdiri yang telah melalui serangkaian langkah pemahaman untuk digunakan dalam pemodelan menggunakan Logistic Regression."
      ]
    },
    {
      "cell_type": "markdown",
      "metadata": {
        "id": "mniMyZBg6TxB"
      },
      "source": [
        "### **Dataset Description**"
      ]
    },
    {
      "cell_type": "markdown",
      "metadata": {
        "id": "1GHr3VmJnpOd"
      },
      "source": [
        "1. Area: Memberikan jumlah piksel dalam batas kismis.\n",
        "2. Perimeter: Mengukur lingkungan dengan menghitung jarak antara batas kismis dan piksel di sekitarnya.\n",
        "3. MajorAxisLength: Memberikan panjang sumbu utama, yaitu garis terpanjang yang dapat digambar di atas kismis.\n",
        "4. MinorAxisLength: Memberikan panjang sumbu kecil, yaitu garis terpendek yang dapat digambar di atas kismis.\n",
        "5. Eccentricity: Memberikan ukuran eksentrisitas elips, yang memiliki momen yang sama dengan kismis.\n",
        "6. ConvexArea: Memberikan jumlah piksel dari cangkang cembung terkecil dari wilayah yang dibentuk oleh kismis.\n",
        "7. Extent: Memberikan rasio wilayah yang dibentuk oleh kismis terhadap total piksel dalam kotak pembatas.\n",
        "8. Class: Kismis Kecimen dan Besni."
      ]
    },
    {
      "cell_type": "markdown",
      "metadata": {
        "id": "U54jRkS9jD39"
      },
      "source": [
        "### **Tipe Data fitur**:\n",
        "\n",
        "*   **Rasio**: Data ini memiliki titik nol yang bermakna (karena tidak dapat negatif), dan perbandingan antara dua nilainya memiliki arti yang jelas. Fitur yang termasuk, antara lain Area, Perimeter, MajorAxisLength, MinorAxisLength, ConvexArea, dan Extent.\n",
        "*  **Interval**: Memiliki rentang tertentu (biasanya antara 0 dan 1), tetapi tidak memiliki titik nol yang bermakna. Ini dianggap sebagai data interval karena dapat diukur dan diurutkan, tetapi perbandingan nilai mungkin tidak selalu bermakna. Fitur yang termasuk, adalah Eccentricity.\n",
        "*  **Nominal**: Class adalah data kategorikal tanpa tingkat ordinalitas atau urutan yang dapat diatribusikan ke kategori tersebut. Fitur yang termasuk, adalah Class."
      ]
    },
    {
      "cell_type": "markdown",
      "metadata": {
        "id": "buv9SjEY3DZS"
      },
      "source": [
        "## **Select Data**"
      ]
    },
    {
      "cell_type": "code",
      "execution_count": 11,
      "metadata": {
        "id": "vDfKiC1Bgx6h"
      },
      "outputs": [],
      "source": [
        "# Pisahkan data menjadi fitur (X) dan label (y)\n",
        "X = data.drop('Class', axis=1)\n",
        "y = data['Class']"
      ]
    },
    {
      "cell_type": "markdown",
      "metadata": {
        "id": "X1ZByzVJg1s3"
      },
      "source": [
        "### **Pemilihan Fitur (Feature Selection) - Information Gain**"
      ]
    },
    {
      "cell_type": "code",
      "execution_count": 12,
      "metadata": {
        "colab": {
          "base_uri": "https://localhost:8080/",
          "height": 449
        },
        "id": "I5QzKx6Yg7kY",
        "outputId": "20e5e56c-f1cf-4aa2-ad09-28b049d563af"
      },
      "outputs": [
        {
          "data": {
            "image/png": "[encoded data removed]",
            "text/plain": [
              "<Figure size 640x480 with 1 Axes>"
            ]
          },
          "metadata": {},
          "output_type": "display_data"
        }
      ],
      "source": [
        "from sklearn.feature_selection import mutual_info_classif\n",
        "%matplotlib inline\n",
        "\n",
        "# Menghitung mutual information\n",
        "importances = mutual_info_classif(X, y)\n",
        "\n",
        "# Membuat Series dari hasil perhitungan mutual information\n",
        "feat_importances = pd.Series(importances, index=X.columns)\n",
        "\n",
        "# Plot bar chart\n",
        "feat_importances.plot(kind='barh', color='teal')\n",
        "plt.xlabel('Mutual Information')\n",
        "plt.show()"
      ]
    },
    {
      "cell_type": "code",
      "execution_count": 13,
      "metadata": {
        "colab": {
          "base_uri": "https://localhost:8080/"
        },
        "id": "nVeLZmCqhBQw",
        "outputId": "a3acab56-955d-4339-f55f-453c4bc7c76a"
      },
      "outputs": [
        {
          "name": "stdout",
          "output_type": "stream",
          "text": [
            "Mutual Information for Area: 0.278230363028674\n",
            "Mutual Information for MajorAxisLength: 0.34834107401237\n",
            "Mutual Information for MinorAxisLength: 0.13486920234749755\n",
            "Mutual Information for Eccentricity: 0.12911725093005044\n",
            "Mutual Information for ConvexArea: 0.29770777925523406\n",
            "Mutual Information for Extent: 0.029344123584051918\n",
            "Mutual Information for Perimeter: 0.3585072377567762\n"
          ]
        }
      ],
      "source": [
        "#Melihat nilai mutual information setiap fitur\n",
        "for i, feature in enumerate(X.columns):\n",
        "  print(f\"Mutual Information for {feature}: {importances[i]}\")"
      ]
    },
    {
      "cell_type": "code",
      "execution_count": 14,
      "metadata": {
        "id": "JRE1kY2thDko"
      },
      "outputs": [],
      "source": [
        "#Melakukan drop fitur 'Extent'\n",
        "data_dropExtent = data.drop('Extent', axis=1)\n",
        "#Melakukan drop fitur 'Eccentricty' pada data yang telah drop fitur 'Extent'\n",
        "data_dropEccent = data_dropExtent.drop('Eccentricity', axis=1)\n",
        "#Melakukan drop fitur 'MinorAxisLength' pada data yang telah drop fitur 'Extent' dan 'Eccentricity'\n",
        "data_dropMinor = data_dropEccent.drop('MinorAxisLength', axis=1)"
      ]
    },
    {
      "cell_type": "code",
      "execution_count": 15,
      "metadata": {
        "colab": {
          "base_uri": "https://localhost:8080/"
        },
        "id": "Ka-705vmhKbo",
        "outputId": "956c3649-1ade-4c78-db47-dc50dd2589dd"
      },
      "outputs": [
        {
          "name": "stdout",
          "output_type": "stream",
          "text": [
            "<class 'pandas.core.frame.DataFrame'>\n",
            "RangeIndex: 900 entries, 0 to 899\n",
            "Data columns (total 7 columns):\n",
            " #   Column           Non-Null Count  Dtype  \n",
            "---  ------           --------------  -----  \n",
            " 0   Area             900 non-null    int64  \n",
            " 1   MajorAxisLength  900 non-null    float64\n",
            " 2   MinorAxisLength  900 non-null    float64\n",
            " 3   Eccentricity     900 non-null    float64\n",
            " 4   ConvexArea       900 non-null    int64  \n",
            " 5   Perimeter        900 non-null    float64\n",
            " 6   Class            900 non-null    object \n",
            "dtypes: float64(4), int64(2), object(1)\n",
            "memory usage: 49.3+ KB\n"
          ]
        }
      ],
      "source": [
        "#Menegecek informasi data yang telah drop fitur 'Extent'\n",
        "data_dropExtent.info()"
      ]
    },
    {
      "cell_type": "code",
      "execution_count": 16,
      "metadata": {
        "colab": {
          "base_uri": "https://localhost:8080/"
        },
        "id": "ENWr5lC4hL67",
        "outputId": "4823bd64-4a9b-4e8c-d69a-c3ac4b4bb130"
      },
      "outputs": [
        {
          "name": "stdout",
          "output_type": "stream",
          "text": [
            "<class 'pandas.core.frame.DataFrame'>\n",
            "RangeIndex: 900 entries, 0 to 899\n",
            "Data columns (total 6 columns):\n",
            " #   Column           Non-Null Count  Dtype  \n",
            "---  ------           --------------  -----  \n",
            " 0   Area             900 non-null    int64  \n",
            " 1   MajorAxisLength  900 non-null    float64\n",
            " 2   MinorAxisLength  900 non-null    float64\n",
            " 3   ConvexArea       900 non-null    int64  \n",
            " 4   Perimeter        900 non-null    float64\n",
            " 5   Class            900 non-null    object \n",
            "dtypes: float64(3), int64(2), object(1)\n",
            "memory usage: 42.3+ KB\n"
          ]
        }
      ],
      "source": [
        "#Menegecek informasi data yang telah drop fitur 'Extent'  dan 'Eccentricity'\n",
        "data_dropEccent.info()"
      ]
    },
    {
      "cell_type": "code",
      "execution_count": 17,
      "metadata": {
        "colab": {
          "base_uri": "https://localhost:8080/"
        },
        "id": "qHN7Em84hNlQ",
        "outputId": "2df2a5e3-b97e-4d84-a8f2-e0d373a38236"
      },
      "outputs": [
        {
          "name": "stdout",
          "output_type": "stream",
          "text": [
            "<class 'pandas.core.frame.DataFrame'>\n",
            "RangeIndex: 900 entries, 0 to 899\n",
            "Data columns (total 5 columns):\n",
            " #   Column           Non-Null Count  Dtype  \n",
            "---  ------           --------------  -----  \n",
            " 0   Area             900 non-null    int64  \n",
            " 1   MajorAxisLength  900 non-null    float64\n",
            " 2   ConvexArea       900 non-null    int64  \n",
            " 3   Perimeter        900 non-null    float64\n",
            " 4   Class            900 non-null    object \n",
            "dtypes: float64(2), int64(2), object(1)\n",
            "memory usage: 35.3+ KB\n"
          ]
        }
      ],
      "source": [
        "#Menegecek informasi data yang telah drop fitur 'Extent', 'Eccentricity', dan 'MinorAxisLength'\n",
        "data_dropMinor.info()"
      ]
    },
    {
      "cell_type": "markdown",
      "metadata": {
        "id": "FN4ncufZIOpW"
      },
      "source": [
        "\n",
        "Jadi sekarang terdapat **4 data** yang akan dilakukan pemrosesan selanjutnya:\n",
        "1. Data awal dengan fitur lengkap (Area, Perimeter, MajorAxisLength, MinorAxisLength, Eccentricity, ConvexArea, Extent) yang tersimpan dalam variabel **data**\n",
        "2. Data setelah drop fitur 'Extent' (Area, Perimeter, MajorAxisLength, MinorAxisLength, Eccentricity, ConvexArea) yang tersimpan dalam variabel **data_dropExtent**\n",
        "3. Data setelah drop fitur 'Eccentricity' (Area, Perimeter, MajorAxisLength, MinorAxisLength, ConvexArea) yang tersimpan dalam variabel **data_dropEccent**\n",
        "4. Data setelah drop fitur 'MinorAxisLength' (Area, Perimeter, MajorAxisLength, ConvexArea) yang tersimpan dalam variabel **data_dropMinor**"
      ]
    },
    {
      "cell_type": "markdown",
      "metadata": {
        "id": "csQtNrD56aK1"
      },
      "source": [
        "### **Rationale for Inclusion/Exclusion**"
      ]
    },
    {
      "cell_type": "markdown",
      "metadata": {
        "id": "Ln6_NwsMFO4b"
      },
      "source": [
        "*   Inklusi: Seluruh dataset raisin termasuk karena relevan dengan tujuan data mining dan memiliki kualitas yang baik.\n",
        "Dipilih atribut morfologis yang relevan untuk klasifikasi raisin dengan melakukan drop fitur satu persatu dimulai dari nilai mutual information terendah:\n",
        "  1. Extent\n",
        "  2. Eccentricity\n",
        "  3. MinorAxisLength\n",
        "\n",
        "  Jika dengan melakukan drop fitur ini mempengaruhi akurasi, maka akan dipilih semua atribut untuk klasifikasi raisin (Area, Perimeter, MajorAxisLength, MinorAxisLength, Eccentricity, ConvexArea, Extent).\n",
        "*   Eksklusi: Tidak ada eksklusi data karena dataset lengkap dan relevan. Tidak ada data yang dihapus, hanya beberapa outlier diatasi dengan 2 cara yaitu menghapus data tersebut dan pengisian nilai tengah (median). Dilakukan 2 metode ini untuk melihat pengaruh terhadap akurasi klasifikasi."
      ]
    },
    {
      "cell_type": "markdown",
      "metadata": {
        "id": "NpXwGISQ3Fkg"
      },
      "source": [
        "## **Clean Data**"
      ]
    },
    {
      "cell_type": "markdown",
      "metadata": {
        "id": "GR7VuIjjhQ8i"
      },
      "source": [
        "### **Mengatasi Outlier**"
      ]
    },
    {
      "cell_type": "markdown",
      "metadata": {
        "id": "afB_-N4Vho84"
      },
      "source": [
        "#### **Menghapus Outlier**"
      ]
    },
    {
      "cell_type": "code",
      "execution_count": 18,
      "metadata": {
        "id": "gQA7k2S5hQcI"
      },
      "outputs": [],
      "source": [
        "# Menghapus baris yang mengandung outlier pada 4 data\n",
        "data_dropOutlier = data[~outliers]\n",
        "data_dropExtent_dropOutlier = data_dropExtent[~outliers]\n",
        "data_dropEccent_dropOutlier = data_dropEccent[~outliers]\n",
        "data_dropMinor_dropOutlier = data_dropMinor[~outliers]"
      ]
    },
    {
      "cell_type": "code",
      "execution_count": 19,
      "metadata": {
        "colab": {
          "base_uri": "https://localhost:8080/"
        },
        "id": "YDI9pxOwhtEy",
        "outputId": "2a5f3f2d-a0a6-4f35-d523-e577ba14018d"
      },
      "outputs": [
        {
          "name": "stdout",
          "output_type": "stream",
          "text": [
            "Kecimen    435\n",
            "Besni      425\n",
            "Name: Class, dtype: int64\n"
          ]
        }
      ],
      "source": [
        "# Menghitung jumlah data per kelas setelah pengapusan outlier pada data\n",
        "class_counts = data_dropOutlier['Class'].value_counts()\n",
        "\n",
        "# Menampilkan hasil\n",
        "print(class_counts)"
      ]
    },
    {
      "cell_type": "code",
      "execution_count": 20,
      "metadata": {
        "colab": {
          "base_uri": "https://localhost:8080/"
        },
        "id": "rNyZyuM6hvUh",
        "outputId": "2e62b073-4985-4d0f-ed68-296d6ca64fd4"
      },
      "outputs": [
        {
          "name": "stdout",
          "output_type": "stream",
          "text": [
            "Kecimen    435\n",
            "Besni      425\n",
            "Name: Class, dtype: int64\n"
          ]
        }
      ],
      "source": [
        "# Menghitung jumlah data per kelas setelah pengapusan outlier pada data drop fitur Extent\n",
        "class_counts = data_dropExtent_dropOutlier['Class'].value_counts()\n",
        "\n",
        "# Menampilkan hasil\n",
        "print(class_counts)"
      ]
    },
    {
      "cell_type": "code",
      "execution_count": 21,
      "metadata": {
        "colab": {
          "base_uri": "https://localhost:8080/"
        },
        "id": "IeArmxRbhyYb",
        "outputId": "2817985e-6b7b-4b11-888c-74cce05fda05"
      },
      "outputs": [
        {
          "name": "stdout",
          "output_type": "stream",
          "text": [
            "Kecimen    435\n",
            "Besni      425\n",
            "Name: Class, dtype: int64\n"
          ]
        }
      ],
      "source": [
        "# Menghitung jumlah data per kelas setelah pengapusan outlier pada data drop fitur Eccentricity\n",
        "class_counts = data_dropEccent_dropOutlier['Class'].value_counts()\n",
        "\n",
        "# Menampilkan hasil\n",
        "print(class_counts)"
      ]
    },
    {
      "cell_type": "code",
      "execution_count": 22,
      "metadata": {
        "colab": {
          "base_uri": "https://localhost:8080/"
        },
        "id": "vTGpqWilhzrk",
        "outputId": "c19d7f41-3c06-47ab-866e-669186eb539f"
      },
      "outputs": [
        {
          "name": "stdout",
          "output_type": "stream",
          "text": [
            "Kecimen    435\n",
            "Besni      425\n",
            "Name: Class, dtype: int64\n"
          ]
        }
      ],
      "source": [
        "# Menghitung jumlah data per kelas setelah pengapusan outlier pada data drop fitur MinorAxisLength\n",
        "class_counts = data_dropMinor_dropOutlier['Class'].value_counts()\n",
        "\n",
        "# Menampilkan hasil\n",
        "print(class_counts)"
      ]
    },
    {
      "cell_type": "code",
      "execution_count": 23,
      "metadata": {
        "id": "5fgai-Tkh1QM"
      },
      "outputs": [],
      "source": [
        "# Pisahkan data setelah penghapusan outlier menjadi fitur (X) dan label (y)\n",
        "X_dropOutlier = data_dropOutlier.drop('Class', axis=1)\n",
        "y_dropOutlier = data_dropOutlier['Class']"
      ]
    },
    {
      "cell_type": "code",
      "execution_count": 24,
      "metadata": {
        "id": "i4cjYoKZh264"
      },
      "outputs": [],
      "source": [
        "# Pisahkan data drop Extent setelah penghapusan outlier menjadi fitur (X) dan label (y)\n",
        "X_dropExtent_dropOutlier = data_dropExtent_dropOutlier.drop('Class', axis=1)\n",
        "y_dropExtent_dropOutlier = data_dropExtent_dropOutlier['Class']"
      ]
    },
    {
      "cell_type": "code",
      "execution_count": 25,
      "metadata": {
        "id": "jXKRQPzZh4QB"
      },
      "outputs": [],
      "source": [
        "# Pisahkan data drop Eccentricity setelah penghapusan outlier menjadi fitur (X) dan label (y)\n",
        "X_dropEccent_dropOutlier = data_dropEccent_dropOutlier.drop('Class', axis=1)\n",
        "y_dropEccent_dropOutlier = data_dropEccent_dropOutlier['Class']"
      ]
    },
    {
      "cell_type": "code",
      "execution_count": 26,
      "metadata": {
        "id": "oMbaZdsXh5b4"
      },
      "outputs": [],
      "source": [
        "# Pisahkan data drop MinorAxisLength setelah penghapusan outlier menjadi fitur (X) dan label (y)\n",
        "X_dropMinor_dropOutlier = data_dropMinor_dropOutlier.drop('Class', axis=1)\n",
        "y_dropMinor_dropOutlier = data_dropMinor_dropOutlier['Class']"
      ]
    },
    {
      "cell_type": "markdown",
      "metadata": {
        "id": "cL5MCNnxh7MI"
      },
      "source": [
        "#### **Mengganti Outlier Dengan Nilai Median**"
      ]
    },
    {
      "cell_type": "code",
      "execution_count": 27,
      "metadata": {
        "id": "mmsP8Rz3h_qM"
      },
      "outputs": [],
      "source": [
        "data_revalueOutlier = data\n",
        "columns = (data_revalueOutlier.drop('Class', axis=1)).columns\n",
        "# Menggantikan nilai outlier dengan median pada data\n",
        "for column in columns:\n",
        "    median_value = data[column].median()\n",
        "    data_revalueOutlier.loc[outliers, column] = median_value"
      ]
    },
    {
      "cell_type": "code",
      "execution_count": 28,
      "metadata": {
        "id": "cmNj0fb7iBBb"
      },
      "outputs": [],
      "source": [
        "data_dropExtent_revalueOutlier = data_dropExtent\n",
        "columns = (data_dropExtent_revalueOutlier.drop('Class', axis=1)).columns\n",
        "# Menggantikan nilai outlier dengan median pada data drop Extent\n",
        "for column in columns:\n",
        "    median_value = data[column].median()\n",
        "    data_dropExtent_revalueOutlier.loc[outliers, column] = median_value"
      ]
    },
    {
      "cell_type": "code",
      "execution_count": 29,
      "metadata": {
        "id": "bbKM75lyiCpg"
      },
      "outputs": [],
      "source": [
        "data_dropEccent_revalueOutlier = data_dropEccent\n",
        "columns = (data_dropEccent_revalueOutlier.drop('Class', axis=1)).columns\n",
        "# Menggantikan nilai outlier dengan median pada data drop Eccentricity\n",
        "for column in columns:\n",
        "    median_value = data[column].median()\n",
        "    data_dropEccent_revalueOutlier.loc[outliers, column] = median_value"
      ]
    },
    {
      "cell_type": "code",
      "execution_count": 30,
      "metadata": {
        "id": "cyZRyQvJiEAW"
      },
      "outputs": [],
      "source": [
        "data_dropMinor_revalueOutlier = data_dropMinor\n",
        "columns = (data_dropMinor_revalueOutlier.drop('Class', axis=1)).columns\n",
        "# Menggantikan nilai outlier dengan median pada data drop MinorAxisLength\n",
        "for column in columns:\n",
        "    median_value = data[column].median()\n",
        "    data_dropMinor_revalueOutlier.loc[outliers, column] = median_value"
      ]
    },
    {
      "cell_type": "code",
      "execution_count": 31,
      "metadata": {
        "colab": {
          "base_uri": "https://localhost:8080/"
        },
        "id": "LsxdfitriFNu",
        "outputId": "9a2279c9-4677-4426-f1d6-46dcb8d7a094"
      },
      "outputs": [
        {
          "name": "stdout",
          "output_type": "stream",
          "text": [
            "Kecimen    450\n",
            "Besni      450\n",
            "Name: Class, dtype: int64\n"
          ]
        }
      ],
      "source": [
        "# Menghitung jumlah data per kelas setelah mengganti nilai outlier dengan median pada data\n",
        "class_counts = data_revalueOutlier['Class'].value_counts()\n",
        "\n",
        "# Menampilkan hasil\n",
        "print(class_counts)"
      ]
    },
    {
      "cell_type": "code",
      "execution_count": 32,
      "metadata": {
        "colab": {
          "base_uri": "https://localhost:8080/"
        },
        "id": "dSz5Y9jTiHXJ",
        "outputId": "1e332fd4-a8cf-492e-f397-81229b6b623e"
      },
      "outputs": [
        {
          "name": "stdout",
          "output_type": "stream",
          "text": [
            "Kecimen    450\n",
            "Besni      450\n",
            "Name: Class, dtype: int64\n"
          ]
        }
      ],
      "source": [
        "# Menghitung jumlah data per kelas setelah mengganti nilai outlier dengan median pada data drop Extent\n",
        "class_counts = data_dropExtent_revalueOutlier['Class'].value_counts()\n",
        "\n",
        "# Menampilkan hasil\n",
        "print(class_counts)"
      ]
    },
    {
      "cell_type": "code",
      "execution_count": 33,
      "metadata": {
        "colab": {
          "base_uri": "https://localhost:8080/"
        },
        "id": "Pekzr3gjiI23",
        "outputId": "ced547cb-22f0-40f3-e7c0-706e14837ce8"
      },
      "outputs": [
        {
          "name": "stdout",
          "output_type": "stream",
          "text": [
            "Kecimen    450\n",
            "Besni      450\n",
            "Name: Class, dtype: int64\n"
          ]
        }
      ],
      "source": [
        "# Menghitung jumlah data per kelas setelah mengganti nilai outlier dengan median pada data drop Eccentricity\n",
        "class_counts = data_dropEccent_revalueOutlier['Class'].value_counts()\n",
        "\n",
        "# Menampilkan hasil\n",
        "print(class_counts)"
      ]
    },
    {
      "cell_type": "code",
      "execution_count": 34,
      "metadata": {
        "colab": {
          "base_uri": "https://localhost:8080/"
        },
        "id": "-W6RnzBiiKfO",
        "outputId": "5b9a7ada-5e83-4b08-88f0-048b7dd41dfb"
      },
      "outputs": [
        {
          "name": "stdout",
          "output_type": "stream",
          "text": [
            "Kecimen    450\n",
            "Besni      450\n",
            "Name: Class, dtype: int64\n"
          ]
        }
      ],
      "source": [
        "# Menghitung jumlah data per kelas setelah mengganti nilai outlier dengan median pada data drop MinorAxisLength\n",
        "class_counts = data_dropMinor_revalueOutlier['Class'].value_counts()\n",
        "\n",
        "# Menampilkan hasil\n",
        "print(class_counts)"
      ]
    },
    {
      "cell_type": "code",
      "execution_count": 35,
      "metadata": {
        "id": "cttGA9OmiNKm"
      },
      "outputs": [],
      "source": [
        "# Pisahkan data setelah penggantian nilai outlier menjadi fitur (X) dan label (y)\n",
        "X_revalueOutlier = data_revalueOutlier.drop('Class', axis=1)\n",
        "y_revalueOutlier = data_revalueOutlier['Class']"
      ]
    },
    {
      "cell_type": "code",
      "execution_count": 36,
      "metadata": {
        "id": "mN5fAwGHiOy3"
      },
      "outputs": [],
      "source": [
        "# Pisahkan data drop Extent setelah penggantian nilai outlier menjadi fitur (X) dan label (y)\n",
        "X_dropExtent_revalueOutlier = data_dropExtent_revalueOutlier.drop('Class', axis=1)\n",
        "y_dropExtent_revalueOutlier = data_dropExtent_revalueOutlier['Class']"
      ]
    },
    {
      "cell_type": "code",
      "execution_count": 37,
      "metadata": {
        "id": "XqGopUeAiQF3"
      },
      "outputs": [],
      "source": [
        "# Pisahkan data drop Eccentricity setelah penggantian nilai outlier menjadi fitur (X) dan label (y)\n",
        "X_dropEccent_revalueOutlier = data_dropEccent_revalueOutlier.drop('Class', axis=1)\n",
        "y_dropEccent_revalueOutlier = data_dropEccent_revalueOutlier['Class']"
      ]
    },
    {
      "cell_type": "code",
      "execution_count": 38,
      "metadata": {
        "id": "mtpbMqT_iRTf"
      },
      "outputs": [],
      "source": [
        "# Pisahkan data drop MinorAxisLength setelah penggantian nilai outlier menjadi fitur (X) dan label (y)\n",
        "X_dropMinor_revalueOutlier = data_dropMinor_revalueOutlier.drop('Class', axis=1)\n",
        "y_dropMinor_revalueOutlier = data_dropMinor_revalueOutlier['Class']"
      ]
    },
    {
      "cell_type": "markdown",
      "metadata": {
        "id": "kcTVYonAM96G"
      },
      "source": [
        "Sekarang terdapat 8 variabel data yang akan dilakukan pemrosesan selanjutnya, yaitu\n",
        "\n",
        "1. Data setelah penghapusan outlier\n",
        "2. Data setelah penggantian nilai outlier dengan nilai median\n",
        "3. Data drop extent setelah penghapusan outlier\n",
        "4. Data drop extent setelah penggantian nilai outlier dengan nilai median\n",
        "5. Data drop eccentricity setelah penghapusan outlier\n",
        "6. Data drop eccentricity setelah penggantian nilai outlier dengan nilai median\n",
        "7. Data drop MinorAxisLength setelah penghapusan outlier\n",
        "8. Data drop MinorAxisLength setelah penggantian nilai outlier dengan nilai median\n"
      ]
    },
    {
      "cell_type": "markdown",
      "metadata": {
        "id": "LVEgvbL-6d6O"
      },
      "source": [
        "### **Data Cleaning Report**"
      ]
    },
    {
      "cell_type": "markdown",
      "metadata": {
        "id": "y_twxeQ-FbBa"
      },
      "source": [
        "*   Pembersihan data melibatkan penanganan masalah kualitas data yang diidentifikasi sebelumnya.\n",
        "*   Tidak ada nilai yang hilang, dan data cukup bersih; oleh karena itu, tindakan pembersihan minimal diperlukan.\n",
        "*   Terdapat 40 data outlier yang telah diatasi dengan 2 metode, yaitu penghapusan baris outlier dan penggantian nilai outlier dengan nilai median\n",
        "*   Data seimbang. Meskipun dilakukan penghapusan baris outlier sekalipun, data berubah tidak secara signifikan dan masih dibilang cukup untuk dikatakan seimbang\n",
        "*   Dampak Potensial: Meningkatkan kualitas data dan mengurangi potensi distorsi hasil akibat ketidakseimbangan atau outlier.\n"
      ]
    },
    {
      "cell_type": "markdown",
      "metadata": {
        "id": "IKaXbe_B3Heo"
      },
      "source": [
        "## **Construct Data**"
      ]
    },
    {
      "cell_type": "markdown",
      "metadata": {
        "id": "Shkt7op5QQf2"
      },
      "source": [
        "### **Normalisasi**"
      ]
    },
    {
      "cell_type": "markdown",
      "metadata": {
        "id": "xsyzuIhhQhiv"
      },
      "source": [
        "Normalisasi adalah proses mengubah nilai-nilai dalam suatu dataset ke dalam skala yang seragam. Dua metode normalisasi yang umum digunakan adalah Z-Score (Standard Score) dan Min-Max Scaling."
      ]
    },
    {
      "cell_type": "markdown",
      "metadata": {
        "id": "a-oZBaXViViY"
      },
      "source": [
        "#### **Normalisasi Z-score**"
      ]
    },
    {
      "cell_type": "markdown",
      "metadata": {
        "id": "3ZCgaGTaYiTv"
      },
      "source": [
        "**Rumus Normalisasi menggunakan StandardScaler:**\n",
        "\n",
        "$[ X_{\\text{normalized}} = \\frac{X - \\mu}{\\sigma} ]$\n",
        "\n",
        "**Keterangan:**\n",
        "- $X_{\\text{normalized}}$ : Data yang telah dinormalisasi\n",
        "- $X$ : Data asli\n",
        "- $\\mu$ : Rata-rata dari \\(X\\)\n",
        "- $\\sigma$ : Deviasi standar dari \\(X\\)\n",
        "\n",
        "**Contoh:**\n",
        "Misalkan kita memiliki dataset: $[10, 15, 20, 25, 30]$\n",
        "\n",
        "**Langkah-langkah normalisasi Z-Score:**\n",
        "\n",
        "1. **Rata-rata ($\\mu$) dan deviasi standar ($\\sigma$\\) dari dataset:**\n",
        "\n",
        "   $ \\mu = \\frac{10 + 15 + 20 + 25 + 30}{5} = 20 $\n",
        "\n",
        "   $ \\sigma = \\sqrt{\\frac{(10-20)^2 + (15-20)^2 + (20-20)^2 + (25-20)^2 + (30-20)^2}{5}} \\approx 7.07 $\n",
        "\n",
        "2. **Z-Score untuk setiap nilai dalam dataset:**\n",
        "\n",
        "   $ Z = \\frac{(X - \\mu)}{\\sigma} $\n",
        "   - Untuk $( X = 10 $): $( Z = \\frac{(10 - 20)}{7.07} \\approx -1.41 $)\n",
        "   - Untuk $( X = 15 $): $( Z = \\frac{(15 - 20)}{7.07} \\approx -0.71 $)\n",
        "   - Untuk $( X = 20 $): $( Z = \\frac{(20 - 20)}{7.07} \\approx 0 $)\n",
        "   - Untuk $( X = 25 $): $( Z = \\frac{(25 - 20)}{7.07} \\approx 0.71 $)\n",
        "   - Untuk $( X = 30 $): $( Z = \\frac{(30 - 20)}{7.07} \\approx 1.41 $)\n",
        "\n",
        "\n",
        "\n"
      ]
    },
    {
      "cell_type": "code",
      "execution_count": 39,
      "metadata": {
        "id": "Yd6-P7BciYgC"
      },
      "outputs": [],
      "source": [
        "from sklearn.preprocessing import StandardScaler\n",
        "# Normalisasi Z-Score\n",
        "scaler_standard_dO = StandardScaler()\n",
        "scaler_standard_dEx_dO = StandardScaler()\n",
        "scaler_standard_dEc_dO = StandardScaler()\n",
        "scaler_standard_dMi_dO = StandardScaler()\n",
        "\n",
        "scaler_standard_rO = StandardScaler()\n",
        "scaler_standard_dEx_rO = StandardScaler()\n",
        "scaler_standard_dEc_rO = StandardScaler()\n",
        "scaler_standard_dMi_rO = StandardScaler()"
      ]
    },
    {
      "cell_type": "markdown",
      "metadata": {
        "id": "kwK-MKbBM3bb"
      },
      "source": [
        "Note:\n",
        "\n",
        "Karena terdapat 8 variabel atau 8 data berbeda yang akan dinormalisasi, maka diinisialisasikan scaler untuk normalisasi sebanyak 8.  "
      ]
    },
    {
      "cell_type": "markdown",
      "metadata": {
        "id": "ZMzgJj96idXX"
      },
      "source": [
        "##### **Normalisasi Zscore pada Data Tanpa Outlier dengan menghapus outlier tersebut**"
      ]
    },
    {
      "cell_type": "code",
      "execution_count": 40,
      "metadata": {
        "id": "YdL2_iiViiYU"
      },
      "outputs": [],
      "source": [
        "X_dropOutlier_standard_normalized = scaler_standard_dO.fit_transform(X_dropOutlier)\n",
        "X_dropExtent_dropOutlier_standard_normalized= scaler_standard_dEx_dO.fit_transform(X_dropExtent_dropOutlier)\n",
        "X_dropEccent_dropOutlier_standard_normalized= scaler_standard_dEc_dO.fit_transform(X_dropEccent_dropOutlier)\n",
        "X_dropMinor_dropOutlier_standard_normalized= scaler_standard_dMi_dO.fit_transform(X_dropMinor_dropOutlier)"
      ]
    },
    {
      "cell_type": "markdown",
      "metadata": {
        "id": "adSdFI-KigIo"
      },
      "source": [
        "##### **Normalisasi Zscore pada Data tanpa outlier dengan mengganti nilai outlier menjadi nilai median**"
      ]
    },
    {
      "cell_type": "code",
      "execution_count": 41,
      "metadata": {
        "id": "UFb-7H8Hiog-"
      },
      "outputs": [],
      "source": [
        "X_revalueOutlier_standard_normalized = scaler_standard_rO.fit_transform(X_revalueOutlier)\n",
        "X_dropExtent_revalueOutlier_standard_normalized= scaler_standard_dEx_rO.fit_transform(X_dropExtent_revalueOutlier)\n",
        "X_dropEccent_revalueOutlier_standard_normalized= scaler_standard_dEc_rO.fit_transform(X_dropEccent_revalueOutlier)\n",
        "X_dropMinor_revalueOutlier_standard_normalized= scaler_standard_dMi_rO.fit_transform(X_dropMinor_revalueOutlier)"
      ]
    },
    {
      "cell_type": "markdown",
      "metadata": {
        "id": "o7lFg3aSisNB"
      },
      "source": [
        "#### **Normalisai Minmax**"
      ]
    },
    {
      "cell_type": "markdown",
      "metadata": {
        "id": "-oO9x68tQtpx"
      },
      "source": [
        "**Rumus Normalisasi menggunakan Min-Max Scaling:**\n",
        "\n",
        "$ \\text{Min-Max Scaling} = \\frac{(X - \\text{min})}{(\\text{max} - \\text{min})} $\n",
        "\n",
        "- $X $: Nilai pada dataset\n",
        "- $\\text{min}$: Nilai minimum dari dataset\n",
        "- $\\text{max}$: Nilai maksimum dari dataset\n",
        "\n",
        "**Contoh:**\n",
        "Menggunakan dataset yang sama: $[10, 15, 20, 25, 30]$\n",
        "\n",
        "Langkah-langkah:\n",
        "1. Temukan nilai minimum ($\\text{min}$) dan nilai maksimum ($\\text{max}$) dari dataset.\n",
        "   - $\\text{min} = 10$\n",
        "   - $\\text{max} = 30$\n",
        "\n",
        "2. Hitung Min-Max Scaling untuk setiap nilai dalam dataset:\n",
        "\n",
        "   $ \\text{Min-Max Scaling} = \\frac{(X - \\text{min})}{(\\text{max} - \\text{min})} $\n",
        "   - Untuk $( X = 10 $): $( \\frac{(10 - 10)}{(30 - 10)} = 0 $)\n",
        "   - Untuk $( X = 15 $): $( \\frac{(15 - 10)}{(30 - 10)} = 0.25 $)\n",
        "   - Untuk $( X = 20 $): $( \\frac{(20 - 10)}{(30 - 10)} = 0.5 $)\n",
        "   - Untuk $( X = 25 $): $( \\frac{(25 - 10)}{(30 - 10)} = 0.75 $)\n",
        "   - Untuk $( X = 30 $): $( \\frac{(30 - 10)}{(30 - 10)} = 1 $)"
      ]
    },
    {
      "cell_type": "code",
      "execution_count": 42,
      "metadata": {
        "id": "fWevTDeXiuUs"
      },
      "outputs": [],
      "source": [
        "from sklearn.preprocessing import MinMaxScaler\n",
        "# Normalisasi Minmax\n",
        "\n",
        "scaler_minmax_dO = MinMaxScaler()\n",
        "scaler_minmax_dEx_dO = MinMaxScaler()\n",
        "scaler_minmax_dEc_dO = MinMaxScaler()\n",
        "scaler_minmax_dMi_dO = MinMaxScaler()\n",
        "\n",
        "scaler_minmax_rO = MinMaxScaler()\n",
        "scaler_minmax_dEx_rO = MinMaxScaler()\n",
        "scaler_minmax_dEc_rO = MinMaxScaler()\n",
        "scaler_minmax_dMi_rO = MinMaxScaler()"
      ]
    },
    {
      "cell_type": "markdown",
      "metadata": {
        "id": "Bg1cMR68OHe4"
      },
      "source": [
        "Note:\n",
        "\n",
        "Karena terdapat 8 variabel atau 8 data berbeda yang akan dinormalisasi, maka diinisialisasikan scaler untuk normalisasi sebanyak 8.  "
      ]
    },
    {
      "cell_type": "markdown",
      "metadata": {
        "id": "Wyqe7aIGixAE"
      },
      "source": [
        "##### **Normalisasi Minmax pada Data Tanpa Outlier dengan menghapus outlier tersebut**"
      ]
    },
    {
      "cell_type": "code",
      "execution_count": 43,
      "metadata": {
        "id": "BK-KNRGVi0f1"
      },
      "outputs": [],
      "source": [
        "X_dropOutlier_minmax_normalized = scaler_minmax_dO.fit_transform(X_dropOutlier)\n",
        "X_dropExtent_dropOutlier_minmax_normalized= scaler_minmax_dEx_dO.fit_transform(X_dropExtent_dropOutlier)\n",
        "X_dropEccent_dropOutlier_minmax_normalized= scaler_minmax_dEc_dO.fit_transform(X_dropEccent_dropOutlier)\n",
        "X_dropMinor_dropOutlier_minmax_normalized= scaler_minmax_dMi_dO.fit_transform(X_dropMinor_dropOutlier)"
      ]
    },
    {
      "cell_type": "markdown",
      "metadata": {
        "id": "I6PpkeNqi024"
      },
      "source": [
        "##### **Normalisasi Minmax pada Data tanpa outlier dengan mengganti nilai outlier menjadi nilai median**"
      ]
    },
    {
      "cell_type": "code",
      "execution_count": 44,
      "metadata": {
        "id": "1e0wCaHFi1Nk"
      },
      "outputs": [],
      "source": [
        "X_revalueOutlier_minmax_normalized = scaler_minmax_rO.fit_transform(X_revalueOutlier)\n",
        "X_dropExtent_revalueOutlier_minmax_normalized= scaler_minmax_dEx_rO.fit_transform(X_dropExtent_revalueOutlier)\n",
        "X_dropEccent_revalueOutlier_minmax_normalized= scaler_minmax_dEc_rO.fit_transform(X_dropEccent_revalueOutlier)\n",
        "X_dropMinor_revalueOutlier_minmax_normalized= scaler_minmax_dMi_rO.fit_transform(X_dropMinor_revalueOutlier)"
      ]
    },
    {
      "cell_type": "markdown",
      "metadata": {
        "id": "pE6ngOiJ2OeS"
      },
      "source": [
        "# **Modeling**"
      ]
    },
    {
      "cell_type": "markdown",
      "metadata": {
        "id": "IbyhMDGN3Q2w"
      },
      "source": [
        "## **Select Modeling Techniques**"
      ]
    },
    {
      "cell_type": "markdown",
      "metadata": {
        "id": "N-ZC1gaF63Sv"
      },
      "source": [
        "### **Modeling Technique**"
      ]
    },
    {
      "cell_type": "markdown",
      "metadata": {
        "id": "pWz6MrdOGZx1"
      },
      "source": [
        "Pemilihan teknik pemodelan menggunakan algoritma Logistic Regression untuk klasifikasi varietas kismis. Dengan 16 variabel atau data yang berbeda yang akan dilakukan modeling."
      ]
    },
    {
      "cell_type": "markdown",
      "metadata": {
        "id": "dAB0160s4BNr"
      },
      "source": [
        "## **Generate Test Design**"
      ]
    },
    {
      "cell_type": "markdown",
      "metadata": {
        "id": "dXJAHDOyGiJ6"
      },
      "source": [
        "Dataset akan dibagi menjadi dua bagian: set pelatihan (80% dari data) dan set uji (20% dari data). Model akan dilatih pada set pelatihan dan diuji pada set uji untuk mengevaluasi kinerja dan generalisasi."
      ]
    },
    {
      "cell_type": "code",
      "execution_count": 45,
      "metadata": {
        "id": "Z99iF74VjCcZ"
      },
      "outputs": [],
      "source": [
        "from sklearn.model_selection import train_test_split"
      ]
    },
    {
      "cell_type": "markdown",
      "metadata": {
        "id": "ypDDnbtpjD8U"
      },
      "source": [
        "### **Pembagian dataset menjadi set pelatihan dan set pengujian pada data dengan normalisasi Zscore**"
      ]
    },
    {
      "cell_type": "code",
      "execution_count": 46,
      "metadata": {
        "id": "ftF1HdsYjFt5"
      },
      "outputs": [],
      "source": [
        "# Pisahkan data menjadi set pelatihan dan set pengujian\n",
        "\n",
        "# Pisahkan data setelah penghapusan outlier\n",
        "X_dO_std_train, X_dO_std_test, y_dO_std_train, y_dO_std_test = train_test_split(X_dropOutlier_standard_normalized, y_dropOutlier, test_size=0.2, random_state=42)\n",
        "# Pisahkan data drop Extent setelah penghapusan outlier\n",
        "X_dEx_dO_std_train, X_dEx_dO_std_test, y_dEx_dO_std_train, y_dEx_dO_std_test = train_test_split(X_dropExtent_dropOutlier_standard_normalized, y_dropExtent_dropOutlier, test_size=0.2, random_state=42)\n",
        "# Pisahkan data drop Eccentricity setelah penghapusan outlier\n",
        "X_dEc_dO_std_train, X_dEc_dO_std_test, y_dEc_dO_std_train, y_dEc_dO_std_test = train_test_split(X_dropEccent_dropOutlier_standard_normalized, y_dropEccent_dropOutlier, test_size=0.2, random_state=42)\n",
        "# Pisahkan data drop MinorAxisLength setelah penghapusan outlier\n",
        "X_dMi_dO_std_train, X_dMi_dO_std_test, y_dMi_dO_std_train, y_dMi_dO_std_test = train_test_split(X_dropMinor_dropOutlier_standard_normalized, y_dropMinor_dropOutlier, test_size=0.2, random_state=42)"
      ]
    },
    {
      "cell_type": "code",
      "execution_count": 47,
      "metadata": {
        "id": "e7GpoKnPjJ3h"
      },
      "outputs": [],
      "source": [
        "# Pisahkan data menjadi set pelatihan dan set pengujian\n",
        "\n",
        "# Pisahkan data setelah penggantian nilai outlier dengan nilai median\n",
        "X_rO_std_train, X_rO_std_test, y_rO_std_train, y_rO_std_test = train_test_split(X_revalueOutlier_standard_normalized, y_revalueOutlier, test_size=0.2, random_state=42)\n",
        "# Pisahkan data drop Extent setelah penggantian nilai outlier dengan nilai median\n",
        "X_dEx_rO_std_train, X_dEx_rO_std_test, y_dEx_rO_std_train, y_dEx_rO_std_test = train_test_split(X_dropExtent_revalueOutlier_standard_normalized, y_dropExtent_revalueOutlier, test_size=0.2, random_state=42)\n",
        "# Pisahkan data drop Eccentricity setelah penggantian nilai outlier dengan nilai median\n",
        "X_dEc_rO_std_train, X_dEc_rO_std_test, y_dEc_rO_std_train, y_dEc_rO_std_test = train_test_split(X_dropEccent_revalueOutlier_standard_normalized, y_dropEccent_revalueOutlier, test_size=0.2, random_state=42)\n",
        "# Pisahkan data drop MinorAxisLength setelah penggantian nilai outlier dengan nilai median\n",
        "X_dMi_rO_std_train, X_dMi_rO_std_test, y_dMi_rO_std_train, y_dMi_rO_std_test = train_test_split(X_dropMinor_revalueOutlier_standard_normalized, y_dropMinor_revalueOutlier, test_size=0.2, random_state=42)"
      ]
    },
    {
      "cell_type": "markdown",
      "metadata": {
        "id": "WZZgoclJjGCQ"
      },
      "source": [
        "### **Pembagian dataset menjadi set pelatihan dan set pengujian pada data dengan normalisasi Minmax**"
      ]
    },
    {
      "cell_type": "code",
      "execution_count": 48,
      "metadata": {
        "id": "ZOe4G2UTjIAw"
      },
      "outputs": [],
      "source": [
        "# Pisahkan data menjadi set pelatihan dan set pengujian\n",
        "\n",
        "# Pisahkan data setelah penghapusan outlier\n",
        "X_dO_mmx_train, X_dO_mmx_test, y_dO_mmx_train, y_dO_mmx_test = train_test_split(X_dropOutlier_minmax_normalized, y_dropOutlier, test_size=0.2, random_state=42)\n",
        "# Pisahkan data drop Extent setelah penghapusan outlier\n",
        "X_dEx_dO_mmx_train, X_dEx_dO_mmx_test, y_dEx_dO_mmx_train, y_dEx_dO_mmx_test = train_test_split(X_dropExtent_dropOutlier_minmax_normalized, y_dropExtent_dropOutlier, test_size=0.2, random_state=42)\n",
        "# Pisahkan data drop Eccentricity setelah penghapusan outlier\n",
        "X_dEc_dO_mmx_train, X_dEc_dO_mmx_test, y_dEc_dO_mmx_train, y_dEc_dO_mmx_test = train_test_split(X_dropEccent_dropOutlier_minmax_normalized, y_dropEccent_dropOutlier, test_size=0.2, random_state=42)\n",
        "# Pisahkan data drop MinorAxisLength setelah penghapusan outlier\n",
        "X_dMi_dO_mmx_train, X_dMi_dO_mmx_test, y_dMi_dO_mmx_train, y_dMi_dO_mmx_test = train_test_split(X_dropMinor_dropOutlier_minmax_normalized, y_dropMinor_dropOutlier, test_size=0.2, random_state=42)"
      ]
    },
    {
      "cell_type": "code",
      "execution_count": 49,
      "metadata": {
        "id": "Dg-I1d2-jM_v"
      },
      "outputs": [],
      "source": [
        "# Pisahkan data menjadi set pelatihan dan set pengujian\n",
        "\n",
        "# Pisahkan data setelah penggantian nilai outlier dengan nilai median\n",
        "X_rO_mmx_train, X_rO_mmx_test, y_rO_mmx_train, y_rO_mmx_test = train_test_split(X_revalueOutlier_minmax_normalized, y_revalueOutlier, test_size=0.2, random_state=42)\n",
        "# Pisahkan data drop Extent setelah penggantian nilai outlier dengan nilai median\n",
        "X_dEx_rO_mmx_train, X_dEx_rO_mmx_test, y_dEx_rO_mmx_train, y_dEx_rO_mmx_test = train_test_split(X_dropExtent_revalueOutlier_minmax_normalized, y_dropExtent_revalueOutlier, test_size=0.2, random_state=42)\n",
        "# Pisahkan data drop Eccentricity setelah penggantian nilai outlier dengan nilai median\n",
        "X_dEc_rO_mmx_train, X_dEc_rO_mmx_test, y_dEc_rO_mmx_train, y_dEc_rO_mmx_test = train_test_split(X_dropEccent_revalueOutlier_minmax_normalized, y_dropEccent_revalueOutlier, test_size=0.2, random_state=42)\n",
        "# Pisahkan data drop MinorAxisLength setelah penggantian nilai outlier dengan nilai median\n",
        "X_dMi_rO_mmx_train, X_dMi_rO_mmx_test, y_dMi_rO_mmx_train, y_dMi_rO_mmx_test = train_test_split(X_dropMinor_revalueOutlier_minmax_normalized, y_dropMinor_revalueOutlier, test_size=0.2, random_state=42)"
      ]
    },
    {
      "cell_type": "markdown",
      "metadata": {
        "id": "cfj2XSxF684I"
      },
      "source": [
        "### **Test Design**"
      ]
    },
    {
      "cell_type": "markdown",
      "metadata": {
        "id": "xSR-aD7Y4DbS"
      },
      "source": [
        "## **Build Model**"
      ]
    },
    {
      "cell_type": "code",
      "execution_count": 50,
      "metadata": {
        "id": "mxe5zhwUjY-i"
      },
      "outputs": [],
      "source": [
        "from sklearn.linear_model import LogisticRegression"
      ]
    },
    {
      "cell_type": "markdown",
      "metadata": {
        "id": "x9x1ajH57Czt"
      },
      "source": [
        "### **Models**"
      ]
    },
    {
      "cell_type": "markdown",
      "metadata": {
        "id": "xsOdDba7rwur"
      },
      "source": [
        "```\n",
        "logisticRegression_model = LogisticRegression()\n",
        "```\n",
        "Membuat objek model Regresi Logistik dengan menggunakan kelas LogisticRegression() dari scikit-learn. Pada tahap ini, model belum dilatih, dan parameter default dari model akan digunakan.\n",
        "\n",
        "```\n",
        "logisticRegression_model.fit(X_train, y_train)\n",
        "```\n",
        "Melatih model Regresi Logistik dengan menggunakan fungsi fit(). X_train adalah matriks fitur dari set pelatihan, dan y_train adalah vektor label yang sesuai. Selama pelatihan, model akan menyesuaikan bobot dan biasnya (parameter) untuk mendekati pola dalam data pelatihan.\n",
        "\n",
        "```\n",
        "y_trainPred = logisticRegression_model.predict(X_train)\n",
        "```\n",
        "Menggunakan model yang telah dilatih untuk membuat prediksi pada set pelatihan (X_train). Hasil prediksi disimpan dalam variabel y_trainPred. Ini memungkinkan kita untuk mengevaluasi sejauh mana model mampu memprediksi data yang telah dilihat selama pelatihan.\n",
        "\n",
        "```\n",
        "y_pred = logisticRegression_model.predict(X_test)\n",
        "```\n",
        "\n",
        "Sama seperti sebelumnya, namun kali ini kita menggunakan model untuk membuat prediksi pada set pengujian (X_test). Hasil prediksi disimpan dalam variabel y_pred. Ini memungkinkan kita untuk mengevaluasi kinerja model pada data yang belum pernah dilihat selama pelatihan.\n",
        "\n",
        "Dengan menggunakan model yang telah dilatih, kita dapat membandingkan prediksi dengan label yang sebenarnya untuk mengukur kinerja model menggunakan berbagai metrik evaluasi seperti akurasi, presisi, recall, dan F1 score. Metrik-metrik ini memberikan wawasan tentang seberapa baik model dapat mengklasifikasikan data."
      ]
    },
    {
      "cell_type": "markdown",
      "metadata": {
        "id": "9TvF4uscjdvW"
      },
      "source": [
        "#### **Menggunakan Data Setelah Penghapusan Outlier**"
      ]
    },
    {
      "cell_type": "markdown",
      "metadata": {
        "id": "WVV039Iaj-dq"
      },
      "source": [
        "##### **Telah dinormalisasi menggunakan Zscore**"
      ]
    },
    {
      "cell_type": "code",
      "execution_count": 51,
      "metadata": {
        "id": "Kwd0cW9_j15A"
      },
      "outputs": [],
      "source": [
        "# Membuat model Regresi Logistik\n",
        "LR_dO_std = LogisticRegression()\n",
        "\n",
        "# Melatih model\n",
        "LR_dO_std.fit(X_dO_std_train, y_dO_std_train)\n",
        "\n",
        "#Melakukan prediksi set pelatihan\n",
        "y_dO_std_trainPred = LR_dO_std.predict(X_dO_std_train)\n",
        "\n",
        "# Melakukan prediksi set pengujian\n",
        "y_dO_std_pred = LR_dO_std.predict(X_dO_std_test)"
      ]
    },
    {
      "cell_type": "code",
      "execution_count": 52,
      "metadata": {
        "id": "OWz3h5_okA6P"
      },
      "outputs": [],
      "source": [
        "# Membuat model Regresi Logistik\n",
        "LR_dEx_dO_std = LogisticRegression()\n",
        "\n",
        "# Melatih model\n",
        "LR_dEx_dO_std.fit(X_dEx_dO_std_train, y_dEx_dO_std_train)\n",
        "\n",
        "#Melakukan prediksi set pelatihan\n",
        "y_dEx_dO_std_trainPred = LR_dEx_dO_std.predict(X_dEx_dO_std_train)\n",
        "\n",
        "# Melakukan prediksi set pengujian\n",
        "y_dEx_dO_std_pred = LR_dEx_dO_std.predict(X_dEx_dO_std_test)"
      ]
    },
    {
      "cell_type": "code",
      "execution_count": 53,
      "metadata": {
        "id": "Gjz3ahMskEnb"
      },
      "outputs": [],
      "source": [
        "# Membuat model Regresi Logistik\n",
        "LR_dEc_dO_std = LogisticRegression()\n",
        "\n",
        "# Melatih model\n",
        "LR_dEc_dO_std.fit(X_dEc_dO_std_train, y_dEc_dO_std_train)\n",
        "\n",
        "#Melakukan prediksi set pelatihan\n",
        "y_dEc_dO_std_trainPred = LR_dEc_dO_std.predict(X_dEc_dO_std_train)\n",
        "\n",
        "# Melakukan prediksi set pengujian\n",
        "y_dEc_dO_std_pred = LR_dEc_dO_std.predict(X_dEc_dO_std_test)"
      ]
    },
    {
      "cell_type": "code",
      "execution_count": 54,
      "metadata": {
        "id": "M8IFKBjvko9S"
      },
      "outputs": [],
      "source": [
        "# Membuat model Regresi Logistik\n",
        "LR_dMi_dO_std = LogisticRegression()\n",
        "\n",
        "# Melatih model\n",
        "LR_dMi_dO_std.fit(X_dMi_dO_std_train, y_dMi_dO_std_train)\n",
        "\n",
        "#Melakukan prediksi set pelatihan\n",
        "y_dMi_dO_std_trainPred = LR_dMi_dO_std.predict(X_dMi_dO_std_train)\n",
        "\n",
        "# Melakukan prediksi set pengujian\n",
        "y_dMi_dO_std_pred = LR_dMi_dO_std.predict(X_dMi_dO_std_test)"
      ]
    },
    {
      "cell_type": "markdown",
      "metadata": {
        "id": "m4cTlU0Zk47k"
      },
      "source": [
        "##### **Telah dinormalisasi menggunakan Minmax**"
      ]
    },
    {
      "cell_type": "code",
      "execution_count": 55,
      "metadata": {
        "id": "563bUkQ_lIy4"
      },
      "outputs": [],
      "source": [
        "# Membuat model Regresi Logistik\n",
        "LR_dO_mmx = LogisticRegression()\n",
        "\n",
        "# Melatih model\n",
        "LR_dO_mmx.fit(X_dO_mmx_train, y_dO_mmx_train)\n",
        "\n",
        "#Melakukan prediksi set pelatihan\n",
        "y_dO_mmx_trainPred = LR_dO_mmx.predict(X_dO_mmx_train)\n",
        "\n",
        "# Melakukan prediksi set pengujian\n",
        "y_dO_mmx_pred = LR_dO_mmx.predict(X_dO_mmx_test)"
      ]
    },
    {
      "cell_type": "code",
      "execution_count": 56,
      "metadata": {
        "id": "Pl0RHjOrlKmc"
      },
      "outputs": [],
      "source": [
        "# Membuat model Regresi Logistik\n",
        "LR_dEx_dO_mmx = LogisticRegression()\n",
        "\n",
        "# Melatih model\n",
        "LR_dEx_dO_mmx.fit(X_dEx_dO_mmx_train, y_dEx_dO_mmx_train)\n",
        "\n",
        "#Melakukan prediksi set pelatihan\n",
        "y_dEx_dO_mmx_trainPred = LR_dEx_dO_mmx.predict(X_dEx_dO_mmx_train)\n",
        "\n",
        "# Melakukan prediksi set pengujian\n",
        "y_dEx_dO_mmx_pred = LR_dEx_dO_mmx.predict(X_dEx_dO_mmx_test)"
      ]
    },
    {
      "cell_type": "code",
      "execution_count": 57,
      "metadata": {
        "id": "4I_2GZVblMfB"
      },
      "outputs": [],
      "source": [
        "# Membuat model Regresi Logistik\n",
        "LR_dEc_dO_mmx = LogisticRegression()\n",
        "\n",
        "# Melatih model\n",
        "LR_dEc_dO_mmx.fit(X_dEc_dO_mmx_train, y_dEc_dO_mmx_train)\n",
        "\n",
        "#Melakukan prediksi set pelatihan\n",
        "y_dEc_dO_mmx_trainPred = LR_dEc_dO_mmx.predict(X_dEc_dO_mmx_train)\n",
        "\n",
        "# Melakukan prediksi set pengujian\n",
        "y_dEc_dO_mmx_pred = LR_dEc_dO_mmx.predict(X_dEc_dO_mmx_test)"
      ]
    },
    {
      "cell_type": "code",
      "execution_count": 58,
      "metadata": {
        "id": "9iCiI95klN-x"
      },
      "outputs": [],
      "source": [
        "# Membuat model Regresi Logistik\n",
        "LR_dMi_dO_mmx = LogisticRegression()\n",
        "\n",
        "# Melatih model\n",
        "LR_dMi_dO_mmx.fit(X_dMi_dO_mmx_train, y_dMi_dO_mmx_train)\n",
        "\n",
        "#Melakukan prediksi set pelatihan\n",
        "y_dMi_dO_mmx_trainPred = LR_dMi_dO_mmx.predict(X_dMi_dO_mmx_train)\n",
        "\n",
        "# Melakukan prediksi set pengujian\n",
        "y_dMi_dO_mmx_pred = LR_dMi_dO_mmx.predict(X_dMi_dO_mmx_test)"
      ]
    },
    {
      "cell_type": "markdown",
      "metadata": {
        "id": "FkxTLknrk27G"
      },
      "source": [
        "#### **Menggunakan Data Setelah Penggantian Nilai Outlier Dengan Nilai Median**"
      ]
    },
    {
      "cell_type": "markdown",
      "metadata": {
        "id": "yz3-tMz6k7VZ"
      },
      "source": [
        "##### **Telah dinormalisasi menggunakan Zscore**"
      ]
    },
    {
      "cell_type": "code",
      "execution_count": 59,
      "metadata": {
        "id": "cpQl6sWzk3hm"
      },
      "outputs": [],
      "source": [
        "# Membuat model Regresi Logistik\n",
        "LR_rO_std = LogisticRegression()\n",
        "\n",
        "# Melatih model\n",
        "LR_rO_std.fit(X_rO_std_train, y_rO_std_train)\n",
        "\n",
        "#Melakukan prediksi set pelatihan\n",
        "y_rO_std_trainPred = LR_rO_std.predict(X_rO_std_train)\n",
        "\n",
        "# Melakukan prediksi set pengujian\n",
        "y_rO_std_pred = LR_rO_std.predict(X_rO_std_test)"
      ]
    },
    {
      "cell_type": "code",
      "execution_count": 60,
      "metadata": {
        "id": "QJwT1XbQk5ue"
      },
      "outputs": [],
      "source": [
        "# Membuat model Regresi Logistik\n",
        "LR_dEx_rO_std = LogisticRegression()\n",
        "\n",
        "# Melatih model\n",
        "LR_dEx_rO_std.fit(X_dEx_rO_std_train, y_dEx_rO_std_train)\n",
        "\n",
        "#Melakukan prediksi set pelatihan\n",
        "y_dEx_rO_std_trainPred = LR_dEx_rO_std.predict(X_dEx_rO_std_train)\n",
        "\n",
        "# Melakukan prediksi set pengujian\n",
        "y_dEx_rO_std_pred = LR_dEx_rO_std.predict(X_dEx_rO_std_test)"
      ]
    },
    {
      "cell_type": "code",
      "execution_count": 61,
      "metadata": {
        "id": "zq7uiZ4ok6cG"
      },
      "outputs": [],
      "source": [
        "# Membuat model Regresi Logistik\n",
        "LR_dEc_rO_std = LogisticRegression()\n",
        "\n",
        "# Melatih model\n",
        "LR_dEc_rO_std.fit(X_dEc_rO_std_train, y_dEc_rO_std_train)\n",
        "\n",
        "#Melakukan prediksi set pelatihan\n",
        "y_dEc_rO_std_trainPred = LR_dEc_rO_std.predict(X_dEc_rO_std_train)\n",
        "\n",
        "# Melakukan prediksi set pengujian\n",
        "y_dEc_rO_std_pred = LR_dEc_rO_std.predict(X_dEc_rO_std_test)"
      ]
    },
    {
      "cell_type": "code",
      "execution_count": 62,
      "metadata": {
        "id": "v98EvIjZk76G"
      },
      "outputs": [],
      "source": [
        "# Membuat model Regresi Logistik\n",
        "LR_dMi_rO_std = LogisticRegression()\n",
        "\n",
        "# Melatih model\n",
        "LR_dMi_rO_std.fit(X_dMi_rO_std_train, y_dMi_rO_std_train)\n",
        "\n",
        "#Melakukan prediksi set pelatihan\n",
        "y_dMi_rO_std_trainPred = LR_dMi_rO_std.predict(X_dMi_rO_std_train)\n",
        "\n",
        "# Melakukan prediksi set pengujian\n",
        "y_dMi_rO_std_pred = LR_dMi_rO_std.predict(X_dMi_rO_std_test)"
      ]
    },
    {
      "cell_type": "markdown",
      "metadata": {
        "id": "VN1zZpN2k8Yz"
      },
      "source": [
        "##### **Telah dinormalisasi menggunakan Minmax**"
      ]
    },
    {
      "cell_type": "code",
      "execution_count": 63,
      "metadata": {
        "id": "OmWEpOwWlQap"
      },
      "outputs": [],
      "source": [
        "# Membuat model Regresi Logistik\n",
        "LR_rO_mmx = LogisticRegression()\n",
        "\n",
        "# Melatih model\n",
        "LR_rO_mmx.fit(X_rO_mmx_train, y_rO_mmx_train)\n",
        "\n",
        "#Melakukan prediksi set pelatihan\n",
        "y_rO_mmx_trainPred = LR_rO_mmx.predict(X_rO_mmx_train)\n",
        "\n",
        "# Melakukan prediksi set pengujian\n",
        "y_rO_mmx_pred = LR_rO_mmx.predict(X_rO_mmx_test)"
      ]
    },
    {
      "cell_type": "code",
      "execution_count": 64,
      "metadata": {
        "id": "a0Kx7JDVlR4j"
      },
      "outputs": [],
      "source": [
        "# Membuat model Regresi Logistik\n",
        "LR_dEx_rO_mmx = LogisticRegression()\n",
        "\n",
        "# Melatih model\n",
        "LR_dEx_rO_mmx.fit(X_dEx_rO_mmx_train, y_dEx_rO_mmx_train)\n",
        "\n",
        "#Melakukan prediksi set pelatihan\n",
        "y_dEx_rO_mmx_trainPred = LR_dEx_rO_mmx.predict(X_dEx_rO_mmx_train)\n",
        "\n",
        "# Melakukan prediksi set pengujian\n",
        "y_dEx_rO_mmx_pred = LR_dEx_rO_mmx.predict(X_dEx_rO_mmx_test)"
      ]
    },
    {
      "cell_type": "code",
      "execution_count": 65,
      "metadata": {
        "id": "uT6vhVV6lTuz"
      },
      "outputs": [],
      "source": [
        "# Membuat model Regresi Logistik\n",
        "LR_dEc_rO_mmx = LogisticRegression()\n",
        "\n",
        "# Melatih model\n",
        "LR_dEc_rO_mmx.fit(X_dEc_rO_mmx_train, y_dEc_rO_mmx_train)\n",
        "\n",
        "#Melakukan prediksi set pelatihan\n",
        "y_dEc_rO_mmx_trainPred = LR_dEc_rO_mmx.predict(X_dEc_rO_mmx_train)\n",
        "\n",
        "# Melakukan prediksi set pengujian\n",
        "y_dEc_rO_mmx_pred = LR_dEc_rO_mmx.predict(X_dEc_rO_mmx_test)"
      ]
    },
    {
      "cell_type": "code",
      "execution_count": 66,
      "metadata": {
        "id": "qSRBOF_AlVIN"
      },
      "outputs": [],
      "source": [
        "# Membuat model Regresi Logistik\n",
        "LR_dMi_rO_mmx = LogisticRegression()\n",
        "\n",
        "# Melatih model\n",
        "LR_dMi_rO_mmx.fit(X_dMi_rO_mmx_train, y_dMi_rO_mmx_train)\n",
        "\n",
        "#Melakukan prediksi set pelatihan\n",
        "y_dMi_rO_mmx_trainPred = LR_dMi_rO_mmx.predict(X_dMi_rO_mmx_train)\n",
        "\n",
        "# Melakukan prediksi set pengujian\n",
        "y_dMi_rO_mmx_pred = LR_dMi_rO_mmx.predict(X_dMi_rO_mmx_test)"
      ]
    },
    {
      "cell_type": "markdown",
      "metadata": {
        "id": "E9EQZQCj7EwW"
      },
      "source": [
        "### **Model Description**"
      ]
    },
    {
      "cell_type": "markdown",
      "metadata": {
        "id": "rW9agjO57j3J"
      },
      "source": [
        "Logistic Regression adalah algoritma Machine Learning yang digunakan untuk masalah klasifikasi (Supervised Learning). Ini adalah algoritma analisis prediktif yang didasarkan pada konsep probabilitas."
      ]
    },
    {
      "cell_type": "markdown",
      "metadata": {
        "id": "9s-69gN_Gyx8"
      },
      "source": [
        "\\begin{equation}\n",
        "P(Y=1) = \\frac{1}{1 + e^{-(\\beta_0 + \\beta_1 X_1 + \\beta_2 X_2 + \\ldots + \\beta_n X_n)}}\n",
        "\\end{equation}\n",
        "\n",
        "<br>\n",
        "\n",
        "* $P(Y=1)$ adalah probabilitas bahwa variabel dependen $Y$ sama dengan 1.\n",
        "\n",
        "* $\\beta_0, \\beta_1, \\beta_2, \\ldots, \\beta_n$ adalah parameter yang akan diestimasi.\n",
        "\n",
        "* $X_1, X_2, \\ldots, X_n$ adalah variabel independen.\n",
        "\n",
        "\n",
        "  \n",
        "**Penjelasan:**\n",
        "\n",
        "1. **$P(Y=1)$:** Ini adalah probabilitas bahwa variabel dependen $Y$ sama dengan 1. Dalam konteks Logistic Regression dengan dua kelas (0 dan 1), $P(Y=1)$ mewakili probabilitas bahwa suatu observasi termasuk dalam kelas 1.\n",
        "\n",
        "2. **$\\frac{1}{1 + e^{-(\\beta_0 + \\beta_1 X_1 + \\beta_2 X_2 + \\ldots + \\beta_n X_n)}}$:**\n",
        "\n",
        "  Ini adalah fungsi logistik atau sigmoid function. Fungsi ini mengambil bentuk kurva S-shaped dan digunakan untuk mengubah hasil dari bagian kanan persamaan (yang dapat mencakup nilai apapun) menjadi nilai antara 0 dan 1, yang dapat diinterpretasikan sebagai probabilitas.\n",
        "\n",
        "3. **$e$:** Ini adalah basis logaritma natural (eksponensial), yang digunakan untuk memperluas skala hasil. Fungsi eksponensial ini menghasilkan nilai positif, dan ketika diangkat ke nilai negatif, dapat mendekati nol.\n",
        "\n",
        "4. **$\\beta_0, \\beta_1, \\beta_2, \\ldots, \\beta_n$:**\n",
        "  \n",
        "  Ini adalah parameter yang akan diestimasi selama proses pelatihan model. $\\beta_0$ adalah intercept (konstanta), sedangkan $\\beta_1, \\beta_2, \\ldots, \\beta_n$ adalah koefisien yang mengukur dampak relatif dari setiap variabel independen terhadap hasil prediksi.\n",
        "\n",
        "5. **$X_1, X_2, \\ldots, X_n$:**\n",
        "\n",
        "  Ini adalah variabel independen yang digunakan dalam model. Setiap $X_i$ memiliki koefisien $\\beta_i$ yang menggambarkan kontribusinya terhadap prediksi.\n",
        "\n",
        "Dengan menggunakan rumus ini, maka dapat dilakuakan perhitungan probabilitas bahwa observasi tertentu termasuk dalam kelas 1 berdasarkan nilai variabel independen. Nilai probabilitas ini kemudian dapat digunakan untuk membuat keputusan klasifikasi.\n"
      ]
    },
    {
      "cell_type": "markdown",
      "metadata": {
        "id": "4iEH7ut42RHD"
      },
      "source": [
        "# **Evaluation**"
      ]
    },
    {
      "cell_type": "markdown",
      "metadata": {
        "id": "kLTb6fYNiJzq"
      },
      "source": [
        "Model dievaluasi menggunakan beberapa metrik kualitas seperti akurasi, presisi, recall, dan F1-score.\n",
        "*   Akurasi\n",
        "*   Presisi\n",
        "*   Recall\n",
        "*   F1-score\n",
        "*   Confussion Matrix"
      ]
    },
    {
      "cell_type": "code",
      "execution_count": 67,
      "metadata": {
        "id": "lknax7rP2h3O"
      },
      "outputs": [],
      "source": [
        "from sklearn.metrics import accuracy_score, precision_score, recall_score, f1_score, confusion_matrix"
      ]
    },
    {
      "cell_type": "markdown",
      "metadata": {
        "id": "s7TbBJcX4GxW"
      },
      "source": [
        "## **Evaluate Results**"
      ]
    },
    {
      "cell_type": "markdown",
      "metadata": {
        "id": "Hf-YePMn7Pzh"
      },
      "source": [
        "#### **Menggunakan Data Setelah Penghapusan Outlier**"
      ]
    },
    {
      "cell_type": "markdown",
      "metadata": {
        "id": "zP7egy2Y7Qs6"
      },
      "source": [
        "##### **Telah dinormalisasi menggunakan Zscore**"
      ]
    },
    {
      "cell_type": "code",
      "execution_count": 78,
      "metadata": {
        "colab": {
          "base_uri": "https://localhost:8080/"
        },
        "id": "cO51-GrY7I_9",
        "outputId": "cd72d2b6-6692-4741-f3a6-d0b25da67fc2"
      },
      "outputs": [
        {
          "name": "stdout",
          "output_type": "stream",
          "text": [
            "Akurasi Pelatihan: 0.877906976744186\n",
            "Akurasi Pengujian: 0.813953488372093\n",
            "\n",
            "---Presisi, Recall, dan F1 Score Untuk Kelas Kecimen---\n",
            "Presisi: 0.797752808988764\n",
            "Recall: 0.8352941176470589\n",
            "F1 Score: 0.8160919540229884\n",
            "\n",
            "---Presisi, Recall, dan F1 Score Untuk Kelas Besni---\n",
            "Presisi: 0.8313253012048193\n",
            "Recall: 0.7931034482758621\n",
            "F1 Score: 0.8117647058823529\n"
          ]
        }
      ],
      "source": [
        "# Mendapatkan akurasi pelatihan\n",
        "accuracy_training = accuracy_score(y_dO_std_train,y_dO_std_trainPred)\n",
        "print(f'Akurasi Pelatihan: {accuracy_training}')\n",
        "\n",
        "# Mendapatkan akurasi pengujian\n",
        "accuracy = accuracy_score(y_dO_std_test, y_dO_std_pred)\n",
        "print(f'Akurasi Pengujian: {accuracy}')\n",
        "\n",
        "print('')\n",
        "print('---Presisi, Recall, dan F1 Score Untuk Kelas Kecimen---')\n",
        "# Mendapatkan presisi untuk kelas 'Kecimen'\n",
        "precision_kecimen = precision_score(y_dO_std_test, y_dO_std_pred, pos_label='Kecimen')\n",
        "print(f'Presisi: {precision_kecimen}')\n",
        "\n",
        "# Mendapatkan recall untuk kelas 'Kecimen'\n",
        "recall_kecimen = recall_score(y_dO_std_test, y_dO_std_pred, pos_label='Kecimen')\n",
        "print(f'Recall: {recall_kecimen}')\n",
        "\n",
        "# Mendapatkan F1 score untuk kelas 'Kecimen'\n",
        "f1_kecimen = f1_score(y_dO_std_test, y_dO_std_pred, pos_label='Kecimen')\n",
        "print(f'F1 Score: {f1_kecimen}')\n",
        "\n",
        "print('')\n",
        "print('---Presisi, Recall, dan F1 Score Untuk Kelas Besni---')\n",
        "\n",
        "# Mendapatkan presisi untuk kelas 'Besni'\n",
        "precision_besni = precision_score(y_dO_std_test, y_dO_std_pred, pos_label='Besni')\n",
        "print(f'Presisi: {precision_besni}')\n",
        "\n",
        "# Mendapatkan recall untuk kelas 'Besni'\n",
        "recall_besni = recall_score(y_dO_std_test, y_dO_std_pred, pos_label='Besni')\n",
        "print(f'Recall: {recall_besni}')\n",
        "\n",
        "# Mendapatkan F1 score untuk kelas 'Besni'\n",
        "f1_besni = f1_score(y_dO_std_test, y_dO_std_pred, pos_label='Besni')\n",
        "print(f'F1 Score: {f1_besni}')\n"
      ]
    },
    {
      "cell_type": "code",
      "execution_count": 80,
      "metadata": {
        "colab": {
          "base_uri": "https://localhost:8080/",
          "height": 410
        },
        "id": "7-2rlxIReWwF",
        "outputId": "05388577-8f78-4624-e98e-69b2e1450f95"
      },
      "outputs": [
        {
          "data": {
            "image/png": "[encoded data removed]",
            "text/plain": [
              "<Figure size 600x400 with 1 Axes>"
            ]
          },
          "metadata": {},
          "output_type": "display_data"
        }
      ],
      "source": [
        "# Mendapatkan confusion matrix\n",
        "conf_matrix = confusion_matrix(y_dO_std_test, y_dO_std_pred)\n",
        "# Membuat heatmap dari confusion matrix\n",
        "plt.figure(figsize=(6, 4))\n",
        "sns.heatmap(conf_matrix, annot=True, fmt='d', cmap='Blues', cbar=False,\n",
        "            xticklabels=['Kecimen', 'Besni'],\n",
        "            yticklabels=['Kecimen', 'Besni'])\n",
        "plt.xlabel('Predicted')\n",
        "plt.ylabel('Actual')\n",
        "plt.title('Confusion Matrix')\n",
        "plt.show()"
      ]
    },
    {
      "cell_type": "code",
      "execution_count": 85,
      "metadata": {
        "colab": {
          "base_uri": "https://localhost:8080/"
        },
        "id": "eFkumE_8g58x",
        "outputId": "99bdc072-f345-424e-adb3-f1f66382ff9d"
      },
      "outputs": [
        {
          "name": "stdout",
          "output_type": "stream",
          "text": [
            "Akurasi Pelatihan: 0.875\n",
            "Akurasi Pengujian: 0.8081395348837209\n",
            "\n",
            "---Presisi, Recall, dan F1 Score Untuk Kelas Kecimen---\n",
            "Presisi: 0.7888888888888889\n",
            "Recall: 0.8352941176470589\n",
            "F1 Score: 0.8114285714285714\n",
            "\n",
            "---Presisi, Recall, dan F1 Score Untuk Kelas Besni---\n",
            "Presisi: 0.8292682926829268\n",
            "Recall: 0.7816091954022989\n",
            "F1 Score: 0.8047337278106508\n"
          ]
        }
      ],
      "source": [
        "# Mendapatkan akurasi pelatihan\n",
        "accuracy_training = accuracy_score(y_dEx_dO_std_train,y_dEx_dO_std_trainPred)\n",
        "print(f'Akurasi Pelatihan: {accuracy_training}')\n",
        "\n",
        "# Mendapatkan akurasi pengujian\n",
        "accuracy = accuracy_score(y_dEx_dO_std_test, y_dEx_dO_std_pred)\n",
        "print(f'Akurasi Pengujian: {accuracy}')\n",
        "\n",
        "print('')\n",
        "print('---Presisi, Recall, dan F1 Score Untuk Kelas Kecimen---')\n",
        "\n",
        "# Mendapatkan presisi untuk kelas 'Kecimen'\n",
        "precision_kecimen = precision_score(y_dEx_dO_std_test, y_dEx_dO_std_pred, pos_label='Kecimen')\n",
        "print(f'Presisi: {precision_kecimen}')\n",
        "\n",
        "# Mendapatkan recall untuk kelas 'Kecimen'\n",
        "recall_kecimen = recall_score(y_dEx_dO_std_test, y_dEx_dO_std_pred, pos_label='Kecimen')\n",
        "print(f'Recall: {recall_kecimen}')\n",
        "\n",
        "# Mendapatkan F1 score untuk kelas 'Kecimen'\n",
        "f1_kecimen = f1_score(y_dEx_dO_std_test, y_dEx_dO_std_pred, pos_label='Kecimen')\n",
        "print(f'F1 Score: {f1_kecimen}')\n",
        "\n",
        "print('')\n",
        "print('---Presisi, Recall, dan F1 Score Untuk Kelas Besni---')\n",
        "\n",
        "# Mendapatkan presisi untuk kelas 'Besni'\n",
        "precision_besni = precision_score(y_dEx_dO_std_test, y_dEx_dO_std_pred, pos_label='Besni')\n",
        "print(f'Presisi: {precision_besni}')\n",
        "\n",
        "# Mendapatkan recall untuk kelas 'Besni'\n",
        "recall_besni = recall_score(y_dEx_dO_std_test, y_dEx_dO_std_pred, pos_label='Besni')\n",
        "print(f'Recall: {recall_besni}')\n",
        "\n",
        "# Mendapatkan F1 score untuk kelas 'Besni'\n",
        "f1_besni = f1_score(y_dEx_dO_std_test, y_dEx_dO_std_pred, pos_label='Besni')\n",
        "print(f'F1 Score: {f1_besni}')\n"
      ]
    },
    {
      "cell_type": "code",
      "execution_count": 86,
      "metadata": {
        "colab": {
          "base_uri": "https://localhost:8080/",
          "height": 410
        },
        "id": "kweEbg_XioQa",
        "outputId": "2c5ca535-282d-4148-d06b-6d4815517597"
      },
      "outputs": [
        {
          "data": {
            "image/png": "[encoded data removed]",
            "text/plain": [
              "<Figure size 600x400 with 1 Axes>"
            ]
          },
          "metadata": {},
          "output_type": "display_data"
        }
      ],
      "source": [
        "# Mendapatkan confusion matrix\n",
        "conf_matrix = confusion_matrix(y_dEx_dO_std_test, y_dEx_dO_std_pred)\n",
        "# Membuat heatmap dari confusion matrix\n",
        "plt.figure(figsize=(6, 4))\n",
        "sns.heatmap(conf_matrix, annot=True, fmt='d', cmap='Blues', cbar=False,\n",
        "            xticklabels=['Kecimen', 'Besni'],\n",
        "            yticklabels=['Kecimen', 'Besni'])\n",
        "plt.xlabel('Predicted')\n",
        "plt.ylabel('Actual')\n",
        "plt.title('Confusion Matrix')\n",
        "plt.show()"
      ]
    },
    {
      "cell_type": "code",
      "execution_count": 87,
      "metadata": {
        "colab": {
          "base_uri": "https://localhost:8080/"
        },
        "id": "wBEAyX4Ni4JQ",
        "outputId": "2f8a4e79-90c9-4448-e6b4-344b5a5b9ac1"
      },
      "outputs": [
        {
          "name": "stdout",
          "output_type": "stream",
          "text": [
            "Akurasi Pelatihan: 0.877906976744186\n",
            "Akurasi Pengujian: 0.8081395348837209\n",
            "\n",
            "---Presisi, Recall, dan F1 Score Untuk Kelas Kecimen---\n",
            "Presisi: 0.7888888888888889\n",
            "Recall: 0.8352941176470589\n",
            "F1 Score: 0.8114285714285714\n",
            "\n",
            "---Presisi, Recall, dan F1 Score Untuk Kelas Besni---\n",
            "Presisi: 0.8292682926829268\n",
            "Recall: 0.7816091954022989\n",
            "F1 Score: 0.8047337278106508\n"
          ]
        }
      ],
      "source": [
        "# Mendapatkan akurasi pelatihan\n",
        "accuracy_training = accuracy_score(y_dEc_dO_std_train,y_dEc_dO_std_trainPred)\n",
        "print(f'Akurasi Pelatihan: {accuracy_training}')\n",
        "\n",
        "# Mendapatkan akurasi pengujian\n",
        "accuracy = accuracy_score(y_dEc_dO_std_test, y_dEc_dO_std_pred)\n",
        "print(f'Akurasi Pengujian: {accuracy}')\n",
        "\n",
        "print('')\n",
        "print('---Presisi, Recall, dan F1 Score Untuk Kelas Kecimen---')\n",
        "\n",
        "# Mendapatkan presisi untuk kelas 'Kecimen'\n",
        "precision_kecimen = precision_score(y_dEc_dO_std_test, y_dEc_dO_std_pred, pos_label='Kecimen')\n",
        "print(f'Presisi: {precision_kecimen}')\n",
        "\n",
        "# Mendapatkan recall untuk kelas 'Kecimen'\n",
        "recall_kecimen = recall_score(y_dEc_dO_std_test, y_dEc_dO_std_pred, pos_label='Kecimen')\n",
        "print(f'Recall: {recall_kecimen}')\n",
        "\n",
        "# Mendapatkan F1 score untuk kelas 'Kecimen'\n",
        "f1_kecimen = f1_score(y_dEc_dO_std_test, y_dEc_dO_std_pred, pos_label='Kecimen')\n",
        "print(f'F1 Score: {f1_kecimen}')\n",
        "\n",
        "print('')\n",
        "print('---Presisi, Recall, dan F1 Score Untuk Kelas Besni---')\n",
        "\n",
        "# Mendapatkan presisi untuk kelas 'Besni'\n",
        "precision_besni = precision_score(y_dEc_dO_std_test, y_dEc_dO_std_pred, pos_label='Besni')\n",
        "print(f'Presisi: {precision_besni}')\n",
        "\n",
        "# Mendapatkan recall untuk kelas 'Besni'\n",
        "recall_besni = recall_score(y_dEc_dO_std_test, y_dEc_dO_std_pred, pos_label='Besni')\n",
        "print(f'Recall: {recall_besni}')\n",
        "\n",
        "# Mendapatkan F1 score untuk kelas 'Besni'\n",
        "f1_besni = f1_score(y_dEc_dO_std_test, y_dEc_dO_std_pred, pos_label='Besni')\n",
        "print(f'F1 Score: {f1_besni}')\n"
      ]
    },
    {
      "cell_type": "code",
      "execution_count": 88,
      "metadata": {
        "colab": {
          "base_uri": "https://localhost:8080/",
          "height": 410
        },
        "id": "CItA-Xlqi5Cl",
        "outputId": "7884ec2e-deb7-4516-ca05-ece767d6ee1b"
      },
      "outputs": [
        {
          "data": {
            "image/png": "[encoded data removed]",
            "text/plain": [
              "<Figure size 600x400 with 1 Axes>"
            ]
          },
          "metadata": {},
          "output_type": "display_data"
        }
      ],
      "source": [
        "# Mendapatkan confusion matrix\n",
        "conf_matrix = confusion_matrix(y_dEc_dO_std_test, y_dEc_dO_std_pred)\n",
        "# Membuat heatmap dari confusion matrix\n",
        "plt.figure(figsize=(6, 4))\n",
        "sns.heatmap(conf_matrix, annot=True, fmt='d', cmap='Blues', cbar=False,\n",
        "            xticklabels=['Kecimen', 'Besni'],\n",
        "            yticklabels=['Kecimen', 'Besni'])\n",
        "plt.xlabel('Predicted')\n",
        "plt.ylabel('Actual')\n",
        "plt.title('Confusion Matrix')\n",
        "plt.show()"
      ]
    },
    {
      "cell_type": "code",
      "execution_count": 89,
      "metadata": {
        "colab": {
          "base_uri": "https://localhost:8080/"
        },
        "id": "GuiIaC7Si9Ks",
        "outputId": "1efb5eac-eb77-4bf1-fa69-f56dbf9f4027"
      },
      "outputs": [
        {
          "name": "stdout",
          "output_type": "stream",
          "text": [
            "Akurasi Pelatihan: 0.877906976744186\n",
            "Akurasi Pengujian: 0.8023255813953488\n",
            "\n",
            "---Presisi, Recall, dan F1 Score Untuk Kelas Kecimen---\n",
            "Presisi: 0.7865168539325843\n",
            "Recall: 0.8235294117647058\n",
            "F1 Score: 0.8045977011494253\n",
            "\n",
            "---Presisi, Recall, dan F1 Score Untuk Kelas Besni---\n",
            "Presisi: 0.8192771084337349\n",
            "Recall: 0.7816091954022989\n",
            "F1 Score: 0.8\n"
          ]
        }
      ],
      "source": [
        "# Mendapatkan akurasi pelatihan\n",
        "accuracy_training = accuracy_score(y_dMi_dO_std_train,y_dMi_dO_std_trainPred)\n",
        "print(f'Akurasi Pelatihan: {accuracy_training}')\n",
        "\n",
        "# Mendapatkan akurasi pengujian\n",
        "accuracy = accuracy_score(y_dMi_dO_std_test, y_dMi_dO_std_pred)\n",
        "print(f'Akurasi Pengujian: {accuracy}')\n",
        "\n",
        "print('')\n",
        "print('---Presisi, Recall, dan F1 Score Untuk Kelas Kecimen---')\n",
        "\n",
        "# Mendapatkan presisi untuk kelas 'Kecimen'\n",
        "precision_kecimen = precision_score(y_dMi_dO_std_test, y_dMi_dO_std_pred, pos_label='Kecimen')\n",
        "print(f'Presisi: {precision_kecimen}')\n",
        "\n",
        "# Mendapatkan recall untuk kelas 'Kecimen'\n",
        "recall_kecimen = recall_score(y_dMi_dO_std_test, y_dMi_dO_std_pred, pos_label='Kecimen')\n",
        "print(f'Recall: {recall_kecimen}')\n",
        "\n",
        "# Mendapatkan F1 score untuk kelas 'Kecimen'\n",
        "f1_kecimen = f1_score(y_dMi_dO_std_test, y_dMi_dO_std_pred, pos_label='Kecimen')\n",
        "print(f'F1 Score: {f1_kecimen}')\n",
        "\n",
        "print('')\n",
        "print('---Presisi, Recall, dan F1 Score Untuk Kelas Besni---')\n",
        "\n",
        "# Mendapatkan presisi untuk kelas 'Besni'\n",
        "precision_besni = precision_score(y_dMi_dO_std_test, y_dMi_dO_std_pred, pos_label='Besni')\n",
        "print(f'Presisi: {precision_besni}')\n",
        "\n",
        "# Mendapatkan recall untuk kelas 'Besni'\n",
        "recall_besni = recall_score(y_dMi_dO_std_test, y_dMi_dO_std_pred, pos_label='Besni')\n",
        "print(f'Recall: {recall_besni}')\n",
        "\n",
        "# Mendapatkan F1 score untuk kelas 'Besni'\n",
        "f1_besni = f1_score(y_dMi_dO_std_test, y_dMi_dO_std_pred, pos_label='Besni')\n",
        "print(f'F1 Score: {f1_besni}')\n"
      ]
    },
    {
      "cell_type": "code",
      "execution_count": 90,
      "metadata": {
        "colab": {
          "base_uri": "https://localhost:8080/",
          "height": 410
        },
        "id": "UHERstMqi-Ib",
        "outputId": "a7fcef8d-c8d3-40dd-97cf-347490d5d607"
      },
      "outputs": [
        {
          "data": {
            "image/png": "[encoded data removed]",
            "text/plain": [
              "<Figure size 600x400 with 1 Axes>"
            ]
          },
          "metadata": {},
          "output_type": "display_data"
        }
      ],
      "source": [
        "# Mendapatkan confusion matrix\n",
        "conf_matrix = confusion_matrix(y_dMi_dO_std_test, y_dMi_dO_std_pred)\n",
        "# Membuat heatmap dari confusion matrix\n",
        "plt.figure(figsize=(6, 4))\n",
        "sns.heatmap(conf_matrix, annot=True, fmt='d', cmap='Blues', cbar=False,\n",
        "            xticklabels=['Kecimen', 'Besni'],\n",
        "            yticklabels=['Kecimen', 'Besni'])\n",
        "plt.xlabel('Predicted')\n",
        "plt.ylabel('Actual')\n",
        "plt.title('Confusion Matrix')\n",
        "plt.show()"
      ]
    },
    {
      "cell_type": "markdown",
      "metadata": {
        "id": "KeAeC5DZivi6"
      },
      "source": [
        "##### **Telah dinormalisasi menggunakan Minmax**"
      ]
    },
    {
      "cell_type": "code",
      "execution_count": 91,
      "metadata": {
        "colab": {
          "base_uri": "https://localhost:8080/"
        },
        "id": "vnTUW2FOjEWZ",
        "outputId": "d8058f6b-e24c-4b5b-ab26-4c157d18d4e7"
      },
      "outputs": [
        {
          "name": "stdout",
          "output_type": "stream",
          "text": [
            "Akurasi Pelatihan: 0.8808139534883721\n",
            "Akurasi Pengujian: 0.8081395348837209\n",
            "\n",
            "---Presisi, Recall, dan F1 Score Untuk Kelas Kecimen---\n",
            "Presisi: 0.782608695652174\n",
            "Recall: 0.8470588235294118\n",
            "F1 Score: 0.8135593220338984\n",
            "\n",
            "---Presisi, Recall, dan F1 Score Untuk Kelas Besni---\n",
            "Presisi: 0.8375\n",
            "Recall: 0.7701149425287356\n",
            "F1 Score: 0.8023952095808383\n"
          ]
        }
      ],
      "source": [
        "# Mendapatkan akurasi pelatihan\n",
        "accuracy_training = accuracy_score(y_dO_mmx_train,y_dO_mmx_trainPred)\n",
        "print(f'Akurasi Pelatihan: {accuracy_training}')\n",
        "\n",
        "# Mendapatkan akurasi pengujian\n",
        "accuracy = accuracy_score(y_dO_mmx_test, y_dO_mmx_pred)\n",
        "print(f'Akurasi Pengujian: {accuracy}')\n",
        "\n",
        "print('')\n",
        "print('---Presisi, Recall, dan F1 Score Untuk Kelas Kecimen---')\n",
        "\n",
        "# Mendapatkan presisi untuk kelas 'Kecimen'\n",
        "precision_kecimen = precision_score(y_dO_mmx_test, y_dO_mmx_pred, pos_label='Kecimen')\n",
        "print(f'Presisi: {precision_kecimen}')\n",
        "\n",
        "# Mendapatkan recall untuk kelas 'Kecimen'\n",
        "recall_kecimen = recall_score(y_dO_mmx_test, y_dO_mmx_pred, pos_label='Kecimen')\n",
        "print(f'Recall: {recall_kecimen}')\n",
        "\n",
        "# Mendapatkan F1 score untuk kelas 'Kecimen'\n",
        "f1_kecimen = f1_score(y_dO_mmx_test, y_dO_mmx_pred, pos_label='Kecimen')\n",
        "print(f'F1 Score: {f1_kecimen}')\n",
        "\n",
        "print('')\n",
        "print('---Presisi, Recall, dan F1 Score Untuk Kelas Besni---')\n",
        "\n",
        "# Mendapatkan presisi untuk kelas 'Besni'\n",
        "precision_besni = precision_score(y_dO_mmx_test, y_dO_mmx_pred, pos_label='Besni')\n",
        "print(f'Presisi: {precision_besni}')\n",
        "\n",
        "# Mendapatkan recall untuk kelas 'Besni'\n",
        "recall_besni = recall_score(y_dO_mmx_test, y_dO_mmx_pred, pos_label='Besni')\n",
        "print(f'Recall: {recall_besni}')\n",
        "\n",
        "# Mendapatkan F1 score untuk kelas 'Besni'\n",
        "f1_besni = f1_score(y_dO_mmx_test, y_dO_mmx_pred, pos_label='Besni')\n",
        "print(f'F1 Score: {f1_besni}')\n"
      ]
    },
    {
      "cell_type": "code",
      "execution_count": 92,
      "metadata": {
        "colab": {
          "base_uri": "https://localhost:8080/",
          "height": 410
        },
        "id": "bHONO783jFYC",
        "outputId": "456c197c-a04d-4c26-9eba-f6c60fa174b6"
      },
      "outputs": [
        {
          "data": {
            "image/png": "[encoded data removed]",
            "text/plain": [
              "<Figure size 600x400 with 1 Axes>"
            ]
          },
          "metadata": {},
          "output_type": "display_data"
        }
      ],
      "source": [
        "# Mendapatkan confusion matrix\n",
        "conf_matrix = confusion_matrix(y_dO_mmx_test, y_dO_mmx_pred)\n",
        "# Membuat heatmap dari confusion matrix\n",
        "plt.figure(figsize=(6, 4))\n",
        "sns.heatmap(conf_matrix, annot=True, fmt='d', cmap='Blues', cbar=False,\n",
        "            xticklabels=['Kecimen', 'Besni'],\n",
        "            yticklabels=['Kecimen', 'Besni'])\n",
        "plt.xlabel('Predicted')\n",
        "plt.ylabel('Actual')\n",
        "plt.title('Confusion Matrix')\n",
        "plt.show()"
      ]
    },
    {
      "cell_type": "code",
      "execution_count": 93,
      "metadata": {
        "colab": {
          "base_uri": "https://localhost:8080/"
        },
        "id": "-33WG1MdjPj_",
        "outputId": "bcbd9f70-70e1-4b4a-c34a-fca4c3b6275a"
      },
      "outputs": [
        {
          "name": "stdout",
          "output_type": "stream",
          "text": [
            "Akurasi Pelatihan: 0.8706395348837209\n",
            "Akurasi Pengujian: 0.8023255813953488\n",
            "\n",
            "---Presisi, Recall, dan F1 Score Untuk Kelas Kecimen---\n",
            "Presisi: 0.7802197802197802\n",
            "Recall: 0.8352941176470589\n",
            "F1 Score: 0.8068181818181818\n",
            "\n",
            "---Presisi, Recall, dan F1 Score Untuk Kelas Besni---\n",
            "Presisi: 0.8271604938271605\n",
            "Recall: 0.7701149425287356\n",
            "F1 Score: 0.7976190476190476\n"
          ]
        }
      ],
      "source": [
        "# Mendapatkan akurasi pelatihan\n",
        "accuracy_training = accuracy_score(y_dEx_dO_mmx_train,y_dEx_dO_mmx_trainPred)\n",
        "print(f'Akurasi Pelatihan: {accuracy_training}')\n",
        "\n",
        "# Mendapatkan akurasi pengujian\n",
        "accuracy = accuracy_score(y_dEx_dO_mmx_test, y_dEx_dO_mmx_pred)\n",
        "print(f'Akurasi Pengujian: {accuracy}')\n",
        "\n",
        "print('')\n",
        "print('---Presisi, Recall, dan F1 Score Untuk Kelas Kecimen---')\n",
        "\n",
        "# Mendapatkan presisi untuk kelas 'Kecimen'\n",
        "precision_kecimen = precision_score(y_dEx_dO_mmx_test, y_dEx_dO_mmx_pred, pos_label='Kecimen')\n",
        "print(f'Presisi: {precision_kecimen}')\n",
        "\n",
        "# Mendapatkan recall untuk kelas 'Kecimen'\n",
        "recall_kecimen = recall_score(y_dEx_dO_mmx_test, y_dEx_dO_mmx_pred, pos_label='Kecimen')\n",
        "print(f'Recall: {recall_kecimen}')\n",
        "\n",
        "# Mendapatkan F1 score untuk kelas 'Kecimen'\n",
        "f1_kecimen = f1_score(y_dEx_dO_mmx_test, y_dEx_dO_mmx_pred, pos_label='Kecimen')\n",
        "print(f'F1 Score: {f1_kecimen}')\n",
        "\n",
        "print('')\n",
        "print('---Presisi, Recall, dan F1 Score Untuk Kelas Besni---')\n",
        "\n",
        "# Mendapatkan presisi untuk kelas 'Besni'\n",
        "precision_besni = precision_score(y_dEx_dO_mmx_test, y_dEx_dO_mmx_pred, pos_label='Besni')\n",
        "print(f'Presisi: {precision_besni}')\n",
        "\n",
        "# Mendapatkan recall untuk kelas 'Besni'\n",
        "recall_besni = recall_score(y_dEx_dO_mmx_test, y_dEx_dO_mmx_pred, pos_label='Besni')\n",
        "print(f'Recall: {recall_besni}')\n",
        "\n",
        "# Mendapatkan F1 score untuk kelas 'Besni'\n",
        "f1_besni = f1_score(y_dEx_dO_mmx_test, y_dEx_dO_mmx_pred, pos_label='Besni')\n",
        "print(f'F1 Score: {f1_besni}')\n"
      ]
    },
    {
      "cell_type": "code",
      "execution_count": 94,
      "metadata": {
        "colab": {
          "base_uri": "https://localhost:8080/",
          "height": 410
        },
        "id": "oyOtkJqNjSj-",
        "outputId": "cfefa956-6489-4722-8887-88362bdda046"
      },
      "outputs": [
        {
          "data": {
            "image/png": "[encoded data removed]",
            "text/plain": [
              "<Figure size 600x400 with 1 Axes>"
            ]
          },
          "metadata": {},
          "output_type": "display_data"
        }
      ],
      "source": [
        "# Mendapatkan confusion matrix\n",
        "conf_matrix = confusion_matrix(y_dEx_dO_mmx_test, y_dEx_dO_mmx_pred)\n",
        "# Membuat heatmap dari confusion matrix\n",
        "plt.figure(figsize=(6, 4))\n",
        "sns.heatmap(conf_matrix, annot=True, fmt='d', cmap='Blues', cbar=False,\n",
        "            xticklabels=['Kecimen', 'Besni'],\n",
        "            yticklabels=['Kecimen', 'Besni'])\n",
        "plt.xlabel('Predicted')\n",
        "plt.ylabel('Actual')\n",
        "plt.title('Confusion Matrix')\n",
        "plt.show()"
      ]
    },
    {
      "cell_type": "code",
      "execution_count": 95,
      "metadata": {
        "colab": {
          "base_uri": "https://localhost:8080/"
        },
        "id": "QChK9FaCjfTw",
        "outputId": "60a805a7-95e6-44dd-a52a-c5c6d5f7d876"
      },
      "outputs": [
        {
          "name": "stdout",
          "output_type": "stream",
          "text": [
            "Akurasi Pelatihan: 0.8575581395348837\n",
            "Akurasi Pengujian: 0.813953488372093\n",
            "\n",
            "---Presisi, Recall, dan F1 Score Untuk Kelas Kecimen---\n",
            "Presisi: 0.7849462365591398\n",
            "Recall: 0.8588235294117647\n",
            "F1 Score: 0.8202247191011236\n",
            "\n",
            "---Presisi, Recall, dan F1 Score Untuk Kelas Besni---\n",
            "Presisi: 0.8481012658227848\n",
            "Recall: 0.7701149425287356\n",
            "F1 Score: 0.8072289156626505\n"
          ]
        }
      ],
      "source": [
        "# Mendapatkan akurasi pelatihan\n",
        "accuracy_training = accuracy_score(y_dEc_dO_mmx_train,y_dEc_dO_mmx_trainPred)\n",
        "print(f'Akurasi Pelatihan: {accuracy_training}')\n",
        "\n",
        "# Mendapatkan akurasi pengujian\n",
        "accuracy = accuracy_score(y_dEc_dO_mmx_test, y_dEc_dO_mmx_pred)\n",
        "print(f'Akurasi Pengujian: {accuracy}')\n",
        "\n",
        "print('')\n",
        "print('---Presisi, Recall, dan F1 Score Untuk Kelas Kecimen---')\n",
        "\n",
        "# Mendapatkan presisi untuk kelas 'Kecimen'\n",
        "precision_kecimen = precision_score(y_dEc_dO_mmx_test, y_dEc_dO_mmx_pred, pos_label='Kecimen')\n",
        "print(f'Presisi: {precision_kecimen}')\n",
        "\n",
        "# Mendapatkan recall untuk kelas 'Kecimen'\n",
        "recall_kecimen = recall_score(y_dEc_dO_mmx_test, y_dEc_dO_mmx_pred, pos_label='Kecimen')\n",
        "print(f'Recall: {recall_kecimen}')\n",
        "\n",
        "# Mendapatkan F1 score untuk kelas 'Kecimen'\n",
        "f1_kecimen = f1_score(y_dEc_dO_mmx_test, y_dEc_dO_mmx_pred, pos_label='Kecimen')\n",
        "print(f'F1 Score: {f1_kecimen}')\n",
        "\n",
        "print('')\n",
        "print('---Presisi, Recall, dan F1 Score Untuk Kelas Besni---')\n",
        "\n",
        "# Mendapatkan presisi untuk kelas 'Besni'\n",
        "precision_besni = precision_score(y_dEc_dO_mmx_test, y_dEc_dO_mmx_pred, pos_label='Besni')\n",
        "print(f'Presisi: {precision_besni}')\n",
        "\n",
        "# Mendapatkan recall untuk kelas 'Besni'\n",
        "recall_besni = recall_score(y_dEc_dO_mmx_test, y_dEc_dO_mmx_pred, pos_label='Besni')\n",
        "print(f'Recall: {recall_besni}')\n",
        "\n",
        "# Mendapatkan F1 score untuk kelas 'Besni'\n",
        "f1_besni = f1_score(y_dEc_dO_mmx_test, y_dEc_dO_mmx_pred, pos_label='Besni')\n",
        "print(f'F1 Score: {f1_besni}')\n"
      ]
    },
    {
      "cell_type": "code",
      "execution_count": 96,
      "metadata": {
        "colab": {
          "base_uri": "https://localhost:8080/",
          "height": 410
        },
        "id": "IfGzm6pwjgTP",
        "outputId": "c9e3905b-1dee-4675-d825-3cf6a0d8ce83"
      },
      "outputs": [
        {
          "data": {
            "image/png": "[encoded data removed]",
            "text/plain": [
              "<Figure size 600x400 with 1 Axes>"
            ]
          },
          "metadata": {},
          "output_type": "display_data"
        }
      ],
      "source": [
        "# Mendapatkan confusion matrix\n",
        "conf_matrix = confusion_matrix(y_dEc_dO_mmx_test, y_dEc_dO_mmx_pred)\n",
        "# Membuat heatmap dari confusion matrix\n",
        "plt.figure(figsize=(6, 4))\n",
        "sns.heatmap(conf_matrix, annot=True, fmt='d', cmap='Blues', cbar=False,\n",
        "            xticklabels=['Kecimen', 'Besni'],\n",
        "            yticklabels=['Kecimen', 'Besni'])\n",
        "plt.xlabel('Predicted')\n",
        "plt.ylabel('Actual')\n",
        "plt.title('Confusion Matrix')\n",
        "plt.show()"
      ]
    },
    {
      "cell_type": "code",
      "execution_count": 97,
      "metadata": {
        "colab": {
          "base_uri": "https://localhost:8080/"
        },
        "id": "HkLIfeJejkIo",
        "outputId": "c0163a4f-3093-414d-ef04-4db5239ad38a"
      },
      "outputs": [
        {
          "name": "stdout",
          "output_type": "stream",
          "text": [
            "Akurasi Pelatihan: 0.8604651162790697\n",
            "Akurasi Pengujian: 0.8081395348837209\n",
            "\n",
            "---Presisi, Recall, dan F1 Score Untuk Kelas Kecimen---\n",
            "Presisi: 0.776595744680851\n",
            "Recall: 0.8588235294117647\n",
            "F1 Score: 0.8156424581005587\n",
            "\n",
            "---Presisi, Recall, dan F1 Score Untuk Kelas Besni---\n",
            "Presisi: 0.8461538461538461\n",
            "Recall: 0.7586206896551724\n",
            "F1 Score: 0.8\n"
          ]
        }
      ],
      "source": [
        "# Mendapatkan akurasi pelatihan\n",
        "accuracy_training = accuracy_score(y_dMi_dO_mmx_train,y_dMi_dO_mmx_trainPred)\n",
        "print(f'Akurasi Pelatihan: {accuracy_training}')\n",
        "\n",
        "# Mendapatkan akurasi pengujian\n",
        "accuracy = accuracy_score(y_dMi_dO_mmx_test, y_dMi_dO_mmx_pred)\n",
        "print(f'Akurasi Pengujian: {accuracy}')\n",
        "\n",
        "print('')\n",
        "print('---Presisi, Recall, dan F1 Score Untuk Kelas Kecimen---')\n",
        "\n",
        "# Mendapatkan presisi untuk kelas 'Kecimen'\n",
        "precision_kecimen = precision_score(y_dMi_dO_mmx_test, y_dMi_dO_mmx_pred, pos_label='Kecimen')\n",
        "print(f'Presisi: {precision_kecimen}')\n",
        "\n",
        "# Mendapatkan recall untuk kelas 'Kecimen'\n",
        "recall_kecimen = recall_score(y_dMi_dO_mmx_test, y_dMi_dO_mmx_pred, pos_label='Kecimen')\n",
        "print(f'Recall: {recall_kecimen}')\n",
        "\n",
        "# Mendapatkan F1 score untuk kelas 'Kecimen'\n",
        "f1_kecimen = f1_score(y_dMi_dO_mmx_test, y_dMi_dO_mmx_pred, pos_label='Kecimen')\n",
        "print(f'F1 Score: {f1_kecimen}')\n",
        "\n",
        "print('')\n",
        "print('---Presisi, Recall, dan F1 Score Untuk Kelas Besni---')\n",
        "\n",
        "# Mendapatkan presisi untuk kelas 'Besni'\n",
        "precision_besni = precision_score(y_dMi_dO_mmx_test, y_dMi_dO_mmx_pred, pos_label='Besni')\n",
        "print(f'Presisi: {precision_besni}')\n",
        "\n",
        "# Mendapatkan recall untuk kelas 'Besni'\n",
        "recall_besni = recall_score(y_dMi_dO_mmx_test, y_dMi_dO_mmx_pred, pos_label='Besni')\n",
        "print(f'Recall: {recall_besni}')\n",
        "\n",
        "# Mendapatkan F1 score untuk kelas 'Besni'\n",
        "f1_besni = f1_score(y_dMi_dO_mmx_test, y_dMi_dO_mmx_pred, pos_label='Besni')\n",
        "print(f'F1 Score: {f1_besni}')\n"
      ]
    },
    {
      "cell_type": "code",
      "execution_count": 98,
      "metadata": {
        "colab": {
          "base_uri": "https://localhost:8080/",
          "height": 410
        },
        "id": "EP9J0CxOjlNi",
        "outputId": "f2d1f177-62d0-43c2-8f8e-22cd927f1053"
      },
      "outputs": [
        {
          "data": {
            "image/png": "[encoded data removed]",
            "text/plain": [
              "<Figure size 600x400 with 1 Axes>"
            ]
          },
          "metadata": {},
          "output_type": "display_data"
        }
      ],
      "source": [
        "# Mendapatkan confusion matrix\n",
        "conf_matrix = confusion_matrix(y_dMi_dO_mmx_test, y_dMi_dO_mmx_pred)\n",
        "# Membuat heatmap dari confusion matrix\n",
        "plt.figure(figsize=(6, 4))\n",
        "sns.heatmap(conf_matrix, annot=True, fmt='d', cmap='Blues', cbar=False,\n",
        "            xticklabels=['Kecimen', 'Besni'],\n",
        "            yticklabels=['Kecimen', 'Besni'])\n",
        "plt.xlabel('Predicted')\n",
        "plt.ylabel('Actual')\n",
        "plt.title('Confusion Matrix')\n",
        "plt.show()"
      ]
    },
    {
      "cell_type": "markdown",
      "metadata": {
        "id": "jVIlehAl7Uc7"
      },
      "source": [
        "#### **Menggunakan Data Setelah Penggantian Nilai Outlier Dengan Nilai Median**"
      ]
    },
    {
      "cell_type": "markdown",
      "metadata": {
        "id": "AohOVxHi7ZL0"
      },
      "source": [
        "##### **Telah dinormalisasi menggunakan Zscore**"
      ]
    },
    {
      "cell_type": "code",
      "execution_count": 99,
      "metadata": {
        "colab": {
          "base_uri": "https://localhost:8080/"
        },
        "id": "XlcQbvJwjq7q",
        "outputId": "f56ed052-c544-4829-ec0f-5342263d6746"
      },
      "outputs": [
        {
          "name": "stdout",
          "output_type": "stream",
          "text": [
            "Akurasi Pelatihan: 0.8444444444444444\n",
            "Akurasi Pengujian: 0.8388888888888889\n",
            "\n",
            "---Presisi, Recall, dan F1 Score Untuk Kelas Kecimen---\n",
            "Presisi: 0.8494623655913979\n",
            "Recall: 0.8404255319148937\n",
            "F1 Score: 0.8449197860962566\n",
            "\n",
            "---Presisi, Recall, dan F1 Score Untuk Kelas Besni---\n",
            "Presisi: 0.8275862068965517\n",
            "Recall: 0.8372093023255814\n",
            "F1 Score: 0.8323699421965317\n"
          ]
        }
      ],
      "source": [
        "# Mendapatkan akurasi pelatihan\n",
        "accuracy_training = accuracy_score(y_rO_std_train,y_rO_std_trainPred)\n",
        "print(f'Akurasi Pelatihan: {accuracy_training}')\n",
        "\n",
        "# Mendapatkan akurasi pengujian\n",
        "accuracy = accuracy_score(y_rO_std_test, y_rO_std_pred)\n",
        "print(f'Akurasi Pengujian: {accuracy}')\n",
        "\n",
        "print('')\n",
        "print('---Presisi, Recall, dan F1 Score Untuk Kelas Kecimen---')\n",
        "\n",
        "# Mendapatkan presisi untuk kelas 'Kecimen'\n",
        "precision_kecimen = precision_score(y_rO_std_test, y_rO_std_pred, pos_label='Kecimen')\n",
        "print(f'Presisi: {precision_kecimen}')\n",
        "\n",
        "# Mendapatkan recall untuk kelas 'Kecimen'\n",
        "recall_kecimen = recall_score(y_rO_std_test, y_rO_std_pred, pos_label='Kecimen')\n",
        "print(f'Recall: {recall_kecimen}')\n",
        "\n",
        "# Mendapatkan F1 score untuk kelas 'Kecimen'\n",
        "f1_kecimen = f1_score(y_rO_std_test, y_rO_std_pred, pos_label='Kecimen')\n",
        "print(f'F1 Score: {f1_kecimen}')\n",
        "\n",
        "print('')\n",
        "print('---Presisi, Recall, dan F1 Score Untuk Kelas Besni---')\n",
        "\n",
        "# Mendapatkan presisi untuk kelas 'Besni'\n",
        "precision_besni = precision_score(y_rO_std_test, y_rO_std_pred, pos_label='Besni')\n",
        "print(f'Presisi: {precision_besni}')\n",
        "\n",
        "# Mendapatkan recall untuk kelas 'Besni'\n",
        "recall_besni = recall_score(y_rO_std_test, y_rO_std_pred, pos_label='Besni')\n",
        "print(f'Recall: {recall_besni}')\n",
        "\n",
        "# Mendapatkan F1 score untuk kelas 'Besni'\n",
        "f1_besni = f1_score(y_rO_std_test, y_rO_std_pred, pos_label='Besni')\n",
        "print(f'F1 Score: {f1_besni}')\n"
      ]
    },
    {
      "cell_type": "code",
      "execution_count": 100,
      "metadata": {
        "colab": {
          "base_uri": "https://localhost:8080/",
          "height": 410
        },
        "id": "wc8m56VIjr9i",
        "outputId": "dae740ea-fa83-4678-d14f-942464605008"
      },
      "outputs": [
        {
          "data": {
            "image/png": "[encoded data removed]",
            "text/plain": [
              "<Figure size 600x400 with 1 Axes>"
            ]
          },
          "metadata": {},
          "output_type": "display_data"
        }
      ],
      "source": [
        "# Mendapatkan confusion matrix\n",
        "conf_matrix = confusion_matrix(y_rO_std_test, y_rO_std_pred)\n",
        "# Membuat heatmap dari confusion matrix\n",
        "plt.figure(figsize=(6, 4))\n",
        "sns.heatmap(conf_matrix, annot=True, fmt='d', cmap='Blues', cbar=False,\n",
        "            xticklabels=['Kecimen', 'Besni'],\n",
        "            yticklabels=['Kecimen', 'Besni'])\n",
        "plt.xlabel('Predicted')\n",
        "plt.ylabel('Actual')\n",
        "plt.title('Confusion Matrix')\n",
        "plt.show()"
      ]
    },
    {
      "cell_type": "code",
      "execution_count": 101,
      "metadata": {
        "colab": {
          "base_uri": "https://localhost:8080/"
        },
        "id": "J6w0kir1j23p",
        "outputId": "ec095e4f-fe3c-4e72-facf-9d84d437157a"
      },
      "outputs": [
        {
          "name": "stdout",
          "output_type": "stream",
          "text": [
            "Akurasi Pelatihan: 0.8402777777777778\n",
            "Akurasi Pengujian: 0.8388888888888889\n",
            "\n",
            "---Presisi, Recall, dan F1 Score Untuk Kelas Kecimen---\n",
            "Presisi: 0.8494623655913979\n",
            "Recall: 0.8404255319148937\n",
            "F1 Score: 0.8449197860962566\n",
            "\n",
            "---Presisi, Recall, dan F1 Score Untuk Kelas Besni---\n",
            "Presisi: 0.8275862068965517\n",
            "Recall: 0.8372093023255814\n",
            "F1 Score: 0.8323699421965317\n"
          ]
        }
      ],
      "source": [
        "# Mendapatkan akurasi pelatihan\n",
        "accuracy_training = accuracy_score(y_dEx_rO_std_train,y_dEx_rO_std_trainPred)\n",
        "print(f'Akurasi Pelatihan: {accuracy_training}')\n",
        "\n",
        "# Mendapatkan akurasi pengujian\n",
        "accuracy = accuracy_score(y_dEx_rO_std_test, y_dEx_rO_std_pred)\n",
        "print(f'Akurasi Pengujian: {accuracy}')\n",
        "\n",
        "print('')\n",
        "print('---Presisi, Recall, dan F1 Score Untuk Kelas Kecimen---')\n",
        "\n",
        "# Mendapatkan presisi untuk kelas 'Kecimen'\n",
        "precision_kecimen = precision_score(y_dEx_rO_std_test, y_dEx_rO_std_pred, pos_label='Kecimen')\n",
        "print(f'Presisi: {precision_kecimen}')\n",
        "\n",
        "# Mendapatkan recall untuk kelas 'Kecimen'\n",
        "recall_kecimen = recall_score(y_dEx_rO_std_test, y_dEx_rO_std_pred, pos_label='Kecimen')\n",
        "print(f'Recall: {recall_kecimen}')\n",
        "\n",
        "# Mendapatkan F1 score untuk kelas 'Kecimen'\n",
        "f1_kecimen = f1_score(y_dEx_rO_std_test, y_dEx_rO_std_pred, pos_label='Kecimen')\n",
        "print(f'F1 Score: {f1_kecimen}')\n",
        "\n",
        "print('')\n",
        "print('---Presisi, Recall, dan F1 Score Untuk Kelas Besni---')\n",
        "\n",
        "# Mendapatkan presisi untuk kelas 'Besni'\n",
        "precision_besni = precision_score(y_dEx_rO_std_test, y_dEx_rO_std_pred, pos_label='Besni')\n",
        "print(f'Presisi: {precision_besni}')\n",
        "\n",
        "# Mendapatkan recall untuk kelas 'Besni'\n",
        "recall_besni = recall_score(y_dEx_rO_std_test, y_dEx_rO_std_pred, pos_label='Besni')\n",
        "print(f'Recall: {recall_besni}')\n",
        "\n",
        "# Mendapatkan F1 score untuk kelas 'Besni'\n",
        "f1_besni = f1_score(y_dEx_rO_std_test, y_dEx_rO_std_pred, pos_label='Besni')\n",
        "print(f'F1 Score: {f1_besni}')\n"
      ]
    },
    {
      "cell_type": "code",
      "execution_count": 103,
      "metadata": {
        "colab": {
          "base_uri": "https://localhost:8080/",
          "height": 410
        },
        "id": "90iYdVEuj3rQ",
        "outputId": "cd424d5f-9344-42cb-944e-7246504303fa"
      },
      "outputs": [
        {
          "data": {
            "image/png": "[encoded data removed]",
            "text/plain": [
              "<Figure size 600x400 with 1 Axes>"
            ]
          },
          "metadata": {},
          "output_type": "display_data"
        }
      ],
      "source": [
        "# Mendapatkan confusion matrix\n",
        "conf_matrix = confusion_matrix(y_dEx_rO_std_test, y_dEx_rO_std_pred)\n",
        "# Membuat heatmap dari confusion matrix\n",
        "plt.figure(figsize=(6, 4))\n",
        "sns.heatmap(conf_matrix, annot=True, fmt='d', cmap='Blues', cbar=False,\n",
        "            xticklabels=['Kecimen', 'Besni'],\n",
        "            yticklabels=['Kecimen', 'Besni'])\n",
        "plt.xlabel('Predicted')\n",
        "plt.ylabel('Actual')\n",
        "plt.title('Confusion Matrix')\n",
        "plt.show()"
      ]
    },
    {
      "cell_type": "code",
      "execution_count": 104,
      "metadata": {
        "colab": {
          "base_uri": "https://localhost:8080/"
        },
        "id": "Z1iaYm_fj9LB",
        "outputId": "703790b9-7f3a-4cce-eb34-0ef99351a14c"
      },
      "outputs": [
        {
          "name": "stdout",
          "output_type": "stream",
          "text": [
            "Akurasi Pelatihan: 0.8513888888888889\n",
            "Akurasi Pengujian: 0.8388888888888889\n",
            "\n",
            "---Presisi, Recall, dan F1 Score Untuk Kelas Kecimen---\n",
            "Presisi: 0.8823529411764706\n",
            "Recall: 0.7978723404255319\n",
            "F1 Score: 0.8379888268156425\n",
            "\n",
            "---Presisi, Recall, dan F1 Score Untuk Kelas Besni---\n",
            "Presisi: 0.8\n",
            "Recall: 0.8837209302325582\n",
            "F1 Score: 0.839779005524862\n"
          ]
        }
      ],
      "source": [
        "# Mendapatkan akurasi pelatihan\n",
        "accuracy_training = accuracy_score(y_dEc_rO_std_train,y_dEc_rO_std_trainPred)\n",
        "print(f'Akurasi Pelatihan: {accuracy_training}')\n",
        "\n",
        "# Mendapatkan akurasi pengujian\n",
        "accuracy = accuracy_score(y_dEc_rO_std_test, y_dEc_rO_std_pred)\n",
        "print(f'Akurasi Pengujian: {accuracy}')\n",
        "\n",
        "print('')\n",
        "print('---Presisi, Recall, dan F1 Score Untuk Kelas Kecimen---')\n",
        "\n",
        "# Mendapatkan presisi untuk kelas 'Kecimen'\n",
        "precision_kecimen = precision_score(y_dEc_rO_std_test, y_dEc_rO_std_pred, pos_label='Kecimen')\n",
        "print(f'Presisi: {precision_kecimen}')\n",
        "\n",
        "# Mendapatkan recall untuk kelas 'Kecimen'\n",
        "recall_kecimen = recall_score(y_dEc_rO_std_test, y_dEc_rO_std_pred, pos_label='Kecimen')\n",
        "print(f'Recall: {recall_kecimen}')\n",
        "\n",
        "# Mendapatkan F1 score untuk kelas 'Kecimen'\n",
        "f1_kecimen = f1_score(y_dEc_rO_std_test, y_dEc_rO_std_pred, pos_label='Kecimen')\n",
        "print(f'F1 Score: {f1_kecimen}')\n",
        "\n",
        "print('')\n",
        "print('---Presisi, Recall, dan F1 Score Untuk Kelas Besni---')\n",
        "\n",
        "# Mendapatkan presisi untuk kelas 'Besni'\n",
        "precision_besni = precision_score(y_dEc_rO_std_test, y_dEc_rO_std_pred, pos_label='Besni')\n",
        "print(f'Presisi: {precision_besni}')\n",
        "\n",
        "# Mendapatkan recall untuk kelas 'Besni'\n",
        "recall_besni = recall_score(y_dEc_rO_std_test, y_dEc_rO_std_pred, pos_label='Besni')\n",
        "print(f'Recall: {recall_besni}')\n",
        "\n",
        "# Mendapatkan F1 score untuk kelas 'Besni'\n",
        "f1_besni = f1_score(y_dEc_rO_std_test, y_dEc_rO_std_pred, pos_label='Besni')\n",
        "print(f'F1 Score: {f1_besni}')\n"
      ]
    },
    {
      "cell_type": "code",
      "execution_count": 105,
      "metadata": {
        "colab": {
          "base_uri": "https://localhost:8080/",
          "height": 410
        },
        "id": "YiWfKbiHj-d6",
        "outputId": "b63a07ab-969e-4a29-8b43-24f099b6adc2"
      },
      "outputs": [
        {
          "data": {
            "image/png": "[encoded data removed]",
            "text/plain": [
              "<Figure size 600x400 with 1 Axes>"
            ]
          },
          "metadata": {},
          "output_type": "display_data"
        }
      ],
      "source": [
        "# Mendapatkan confusion matrix\n",
        "conf_matrix = confusion_matrix(y_dEc_rO_std_test, y_dEc_rO_std_pred)\n",
        "# Membuat heatmap dari confusion matrix\n",
        "plt.figure(figsize=(6, 4))\n",
        "sns.heatmap(conf_matrix, annot=True, fmt='d', cmap='Blues', cbar=False,\n",
        "            xticklabels=['Kecimen', 'Besni'],\n",
        "            yticklabels=['Kecimen', 'Besni'])\n",
        "plt.xlabel('Predicted')\n",
        "plt.ylabel('Actual')\n",
        "plt.title('Confusion Matrix')\n",
        "plt.show()"
      ]
    },
    {
      "cell_type": "code",
      "execution_count": 106,
      "metadata": {
        "colab": {
          "base_uri": "https://localhost:8080/"
        },
        "id": "8HlKRfaAkBy0",
        "outputId": "46f0c90d-9114-4358-8e95-9f458258e2b4"
      },
      "outputs": [
        {
          "name": "stdout",
          "output_type": "stream",
          "text": [
            "Akurasi Pelatihan: 0.8361111111111111\n",
            "Akurasi Pengujian: 0.8333333333333334\n",
            "\n",
            "---Presisi, Recall, dan F1 Score Untuk Kelas Kecimen---\n",
            "Presisi: 0.8478260869565217\n",
            "Recall: 0.8297872340425532\n",
            "F1 Score: 0.8387096774193549\n",
            "\n",
            "---Presisi, Recall, dan F1 Score Untuk Kelas Besni---\n",
            "Presisi: 0.8181818181818182\n",
            "Recall: 0.8372093023255814\n",
            "F1 Score: 0.8275862068965518\n"
          ]
        }
      ],
      "source": [
        "# Mendapatkan akurasi pelatihan\n",
        "accuracy_training = accuracy_score(y_dMi_rO_std_train,y_dMi_rO_std_trainPred)\n",
        "print(f'Akurasi Pelatihan: {accuracy_training}')\n",
        "\n",
        "# Mendapatkan akurasi pengujian\n",
        "accuracy = accuracy_score(y_dMi_rO_std_test, y_dMi_rO_std_pred)\n",
        "print(f'Akurasi Pengujian: {accuracy}')\n",
        "\n",
        "print('')\n",
        "print('---Presisi, Recall, dan F1 Score Untuk Kelas Kecimen---')\n",
        "\n",
        "# Mendapatkan presisi untuk kelas 'Kecimen'\n",
        "precision_kecimen = precision_score(y_dMi_rO_std_test, y_dMi_rO_std_pred, pos_label='Kecimen')\n",
        "print(f'Presisi: {precision_kecimen}')\n",
        "\n",
        "# Mendapatkan recall untuk kelas 'Kecimen'\n",
        "recall_kecimen = recall_score(y_dMi_rO_std_test, y_dMi_rO_std_pred, pos_label='Kecimen')\n",
        "print(f'Recall: {recall_kecimen}')\n",
        "\n",
        "# Mendapatkan F1 score untuk kelas 'Kecimen'\n",
        "f1_kecimen = f1_score(y_dMi_rO_std_test, y_dMi_rO_std_pred, pos_label='Kecimen')\n",
        "print(f'F1 Score: {f1_kecimen}')\n",
        "\n",
        "print('')\n",
        "print('---Presisi, Recall, dan F1 Score Untuk Kelas Besni---')\n",
        "\n",
        "# Mendapatkan presisi untuk kelas 'Besni'\n",
        "precision_besni = precision_score(y_dMi_rO_std_test, y_dMi_rO_std_pred, pos_label='Besni')\n",
        "print(f'Presisi: {precision_besni}')\n",
        "\n",
        "# Mendapatkan recall untuk kelas 'Besni'\n",
        "recall_besni = recall_score(y_dMi_rO_std_test, y_dMi_rO_std_pred, pos_label='Besni')\n",
        "print(f'Recall: {recall_besni}')\n",
        "\n",
        "# Mendapatkan F1 score untuk kelas 'Besni'\n",
        "f1_besni = f1_score(y_dMi_rO_std_test, y_dMi_rO_std_pred, pos_label='Besni')\n",
        "print(f'F1 Score: {f1_besni}')\n"
      ]
    },
    {
      "cell_type": "code",
      "execution_count": 107,
      "metadata": {
        "colab": {
          "base_uri": "https://localhost:8080/",
          "height": 410
        },
        "id": "AOpuxnGTkC9Y",
        "outputId": "20e0a7cb-0dd2-49c7-e4f7-98b597a63549"
      },
      "outputs": [
        {
          "data": {
            "image/png": "[encoded data removed]",
            "text/plain": [
              "<Figure size 600x400 with 1 Axes>"
            ]
          },
          "metadata": {},
          "output_type": "display_data"
        }
      ],
      "source": [
        "# Mendapatkan confusion matrix\n",
        "conf_matrix = confusion_matrix(y_dMi_rO_std_test, y_dMi_rO_std_pred)\n",
        "# Membuat heatmap dari confusion matrix\n",
        "plt.figure(figsize=(6, 4))\n",
        "sns.heatmap(conf_matrix, annot=True, fmt='d', cmap='Blues', cbar=False,\n",
        "            xticklabels=['Kecimen', 'Besni'],\n",
        "            yticklabels=['Kecimen', 'Besni'])\n",
        "plt.xlabel('Predicted')\n",
        "plt.ylabel('Actual')\n",
        "plt.title('Confusion Matrix')\n",
        "plt.show()"
      ]
    },
    {
      "cell_type": "markdown",
      "metadata": {
        "id": "2df-NqMk7Z5A"
      },
      "source": [
        "##### **Telah dinormalisasi menggunakan Minmax**"
      ]
    },
    {
      "cell_type": "code",
      "execution_count": 108,
      "metadata": {
        "colab": {
          "base_uri": "https://localhost:8080/"
        },
        "id": "I_A8j4GjkJQB",
        "outputId": "84d8f558-f068-492d-deda-62d5001caee1"
      },
      "outputs": [
        {
          "name": "stdout",
          "output_type": "stream",
          "text": [
            "Akurasi Pelatihan: 0.8402777777777778\n",
            "Akurasi Pengujian: 0.8444444444444444\n",
            "\n",
            "---Presisi, Recall, dan F1 Score Untuk Kelas Kecimen---\n",
            "Presisi: 0.851063829787234\n",
            "Recall: 0.851063829787234\n",
            "F1 Score: 0.8510638297872339\n",
            "\n",
            "---Presisi, Recall, dan F1 Score Untuk Kelas Besni---\n",
            "Presisi: 0.8372093023255814\n",
            "Recall: 0.8372093023255814\n",
            "F1 Score: 0.8372093023255814\n"
          ]
        }
      ],
      "source": [
        "# Mendapatkan akurasi pelatihan\n",
        "accuracy_training = accuracy_score(y_rO_mmx_train,y_rO_mmx_trainPred)\n",
        "print(f'Akurasi Pelatihan: {accuracy_training}')\n",
        "\n",
        "# Mendapatkan akurasi pengujian\n",
        "accuracy = accuracy_score(y_rO_mmx_test, y_rO_mmx_pred)\n",
        "print(f'Akurasi Pengujian: {accuracy}')\n",
        "\n",
        "print('')\n",
        "print('---Presisi, Recall, dan F1 Score Untuk Kelas Kecimen---')\n",
        "\n",
        "# Mendapatkan presisi untuk kelas 'Kecimen'\n",
        "precision_kecimen = precision_score(y_rO_mmx_test, y_rO_mmx_pred, pos_label='Kecimen')\n",
        "print(f'Presisi: {precision_kecimen}')\n",
        "\n",
        "# Mendapatkan recall untuk kelas 'Kecimen'\n",
        "recall_kecimen = recall_score(y_rO_mmx_test, y_rO_mmx_pred, pos_label='Kecimen')\n",
        "print(f'Recall: {recall_kecimen}')\n",
        "\n",
        "# Mendapatkan F1 score untuk kelas 'Kecimen'\n",
        "f1_kecimen = f1_score(y_rO_mmx_test, y_rO_mmx_pred, pos_label='Kecimen')\n",
        "print(f'F1 Score: {f1_kecimen}')\n",
        "\n",
        "print('')\n",
        "print('---Presisi, Recall, dan F1 Score Untuk Kelas Besni---')\n",
        "\n",
        "# Mendapatkan presisi untuk kelas 'Besni'\n",
        "precision_besni = precision_score(y_rO_mmx_test, y_rO_mmx_pred, pos_label='Besni')\n",
        "print(f'Presisi: {precision_besni}')\n",
        "\n",
        "# Mendapatkan recall untuk kelas 'Besni'\n",
        "recall_besni = recall_score(y_rO_mmx_test, y_rO_mmx_pred, pos_label='Besni')\n",
        "print(f'Recall: {recall_besni}')\n",
        "\n",
        "# Mendapatkan F1 score untuk kelas 'Besni'\n",
        "f1_besni = f1_score(y_rO_mmx_test, y_rO_mmx_pred, pos_label='Besni')\n",
        "print(f'F1 Score: {f1_besni}')\n"
      ]
    },
    {
      "cell_type": "code",
      "execution_count": 109,
      "metadata": {
        "colab": {
          "base_uri": "https://localhost:8080/",
          "height": 410
        },
        "id": "EJ1kvmcckIal",
        "outputId": "d5f5b5a6-eca1-4712-97f6-cc9520c27c49"
      },
      "outputs": [
        {
          "data": {
            "image/png": "[encoded data removed]",
            "text/plain": [
              "<Figure size 600x400 with 1 Axes>"
            ]
          },
          "metadata": {},
          "output_type": "display_data"
        }
      ],
      "source": [
        "# Mendapatkan confusion matrix\n",
        "conf_matrix = confusion_matrix(y_rO_mmx_test, y_rO_mmx_pred)\n",
        "# Membuat heatmap dari confusion matrix\n",
        "plt.figure(figsize=(6, 4))\n",
        "sns.heatmap(conf_matrix, annot=True, fmt='d', cmap='Blues', cbar=False,\n",
        "            xticklabels=['Kecimen', 'Besni'],\n",
        "            yticklabels=['Kecimen', 'Besni'])\n",
        "plt.xlabel('Predicted')\n",
        "plt.ylabel('Actual')\n",
        "plt.title('Confusion Matrix')\n",
        "plt.show()"
      ]
    },
    {
      "cell_type": "code",
      "execution_count": 110,
      "metadata": {
        "colab": {
          "base_uri": "https://localhost:8080/"
        },
        "id": "F7qSsamekPkU",
        "outputId": "c80af4dd-9c4e-4dec-a2ba-87413cf7937e"
      },
      "outputs": [
        {
          "name": "stdout",
          "output_type": "stream",
          "text": [
            "Akurasi Pelatihan: 0.8472222222222222\n",
            "Akurasi Pengujian: 0.8388888888888889\n",
            "\n",
            "---Presisi, Recall, dan F1 Score Untuk Kelas Kecimen---\n",
            "Presisi: 0.8735632183908046\n",
            "Recall: 0.8085106382978723\n",
            "F1 Score: 0.839779005524862\n",
            "\n",
            "---Presisi, Recall, dan F1 Score Untuk Kelas Besni---\n",
            "Presisi: 0.8064516129032258\n",
            "Recall: 0.872093023255814\n",
            "F1 Score: 0.8379888268156425\n"
          ]
        }
      ],
      "source": [
        "# Mendapatkan akurasi pelatihan\n",
        "accuracy_training = accuracy_score(y_dEx_rO_mmx_train,y_dEx_rO_mmx_trainPred)\n",
        "print(f'Akurasi Pelatihan: {accuracy_training}')\n",
        "\n",
        "# Mendapatkan akurasi pengujian\n",
        "accuracy = accuracy_score(y_dEx_rO_mmx_test, y_dEx_rO_mmx_pred)\n",
        "print(f'Akurasi Pengujian: {accuracy}')\n",
        "\n",
        "print('')\n",
        "print('---Presisi, Recall, dan F1 Score Untuk Kelas Kecimen---')\n",
        "\n",
        "# Mendapatkan presisi untuk kelas 'Kecimen'\n",
        "precision_kecimen = precision_score(y_dEx_rO_mmx_test, y_dEx_rO_mmx_pred, pos_label='Kecimen')\n",
        "print(f'Presisi: {precision_kecimen}')\n",
        "\n",
        "# Mendapatkan recall untuk kelas 'Kecimen'\n",
        "recall_kecimen = recall_score(y_dEx_rO_mmx_test, y_dEx_rO_mmx_pred, pos_label='Kecimen')\n",
        "print(f'Recall: {recall_kecimen}')\n",
        "\n",
        "# Mendapatkan F1 score untuk kelas 'Kecimen'\n",
        "f1_kecimen = f1_score(y_dEx_rO_mmx_test, y_dEx_rO_mmx_pred, pos_label='Kecimen')\n",
        "print(f'F1 Score: {f1_kecimen}')\n",
        "\n",
        "print('')\n",
        "print('---Presisi, Recall, dan F1 Score Untuk Kelas Besni---')\n",
        "\n",
        "# Mendapatkan presisi untuk kelas 'Besni'\n",
        "precision_besni = precision_score(y_dEx_rO_mmx_test, y_dEx_rO_mmx_pred, pos_label='Besni')\n",
        "print(f'Presisi: {precision_besni}')\n",
        "\n",
        "# Mendapatkan recall untuk kelas 'Besni'\n",
        "recall_besni = recall_score(y_dEx_rO_mmx_test, y_dEx_rO_mmx_pred, pos_label='Besni')\n",
        "print(f'Recall: {recall_besni}')\n",
        "\n",
        "# Mendapatkan F1 score untuk kelas 'Besni'\n",
        "f1_besni = f1_score(y_dEx_rO_mmx_test, y_dEx_rO_mmx_pred, pos_label='Besni')\n",
        "print(f'F1 Score: {f1_besni}')\n"
      ]
    },
    {
      "cell_type": "code",
      "execution_count": 111,
      "metadata": {
        "colab": {
          "base_uri": "https://localhost:8080/",
          "height": 410
        },
        "id": "rkJY5AKYkQlM",
        "outputId": "ba9e2626-5502-47d5-c3ce-239ef4e84dac"
      },
      "outputs": [
        {
          "data": {
            "image/png": "[encoded data removed]",
            "text/plain": [
              "<Figure size 600x400 with 1 Axes>"
            ]
          },
          "metadata": {},
          "output_type": "display_data"
        }
      ],
      "source": [
        "# Mendapatkan confusion matrix\n",
        "conf_matrix = confusion_matrix(y_dEx_rO_mmx_test, y_dEx_rO_mmx_pred)\n",
        "# Membuat heatmap dari confusion matrix\n",
        "plt.figure(figsize=(6, 4))\n",
        "sns.heatmap(conf_matrix, annot=True, fmt='d', cmap='Blues', cbar=False,\n",
        "            xticklabels=['Kecimen', 'Besni'],\n",
        "            yticklabels=['Kecimen', 'Besni'])\n",
        "plt.xlabel('Predicted')\n",
        "plt.ylabel('Actual')\n",
        "plt.title('Confusion Matrix')\n",
        "plt.show()"
      ]
    },
    {
      "cell_type": "code",
      "execution_count": 112,
      "metadata": {
        "colab": {
          "base_uri": "https://localhost:8080/"
        },
        "id": "4tlARl6RkU7q",
        "outputId": "e9af2f50-2576-445b-9d97-8109752d213f"
      },
      "outputs": [
        {
          "name": "stdout",
          "output_type": "stream",
          "text": [
            "Akurasi Pelatihan: 0.8333333333333334\n",
            "Akurasi Pengujian: 0.8388888888888889\n",
            "\n",
            "---Presisi, Recall, dan F1 Score Untuk Kelas Kecimen---\n",
            "Presisi: 0.8421052631578947\n",
            "Recall: 0.851063829787234\n",
            "F1 Score: 0.8465608465608466\n",
            "\n",
            "---Presisi, Recall, dan F1 Score Untuk Kelas Besni---\n",
            "Presisi: 0.8352941176470589\n",
            "Recall: 0.8255813953488372\n",
            "F1 Score: 0.8304093567251463\n"
          ]
        }
      ],
      "source": [
        "# Mendapatkan akurasi pelatihan\n",
        "accuracy_training = accuracy_score(y_dEc_rO_mmx_train,y_dEc_rO_mmx_trainPred)\n",
        "print(f'Akurasi Pelatihan: {accuracy_training}')\n",
        "\n",
        "# Mendapatkan akurasi pengujian\n",
        "accuracy = accuracy_score(y_dEc_rO_mmx_test, y_dEc_rO_mmx_pred)\n",
        "print(f'Akurasi Pengujian: {accuracy}')\n",
        "\n",
        "print('')\n",
        "print('---Presisi, Recall, dan F1 Score Untuk Kelas Kecimen---')\n",
        "\n",
        "# Mendapatkan presisi untuk kelas 'Kecimen'\n",
        "precision_kecimen = precision_score(y_dEc_rO_mmx_test, y_dEc_rO_mmx_pred, pos_label='Kecimen')\n",
        "print(f'Presisi: {precision_kecimen}')\n",
        "\n",
        "# Mendapatkan recall untuk kelas 'Kecimen'\n",
        "recall_kecimen = recall_score(y_dEc_rO_mmx_test, y_dEc_rO_mmx_pred, pos_label='Kecimen')\n",
        "print(f'Recall: {recall_kecimen}')\n",
        "\n",
        "# Mendapatkan F1 score untuk kelas 'Kecimen'\n",
        "f1_kecimen = f1_score(y_dEc_rO_mmx_test, y_dEc_rO_mmx_pred, pos_label='Kecimen')\n",
        "print(f'F1 Score: {f1_kecimen}')\n",
        "\n",
        "print('')\n",
        "print('---Presisi, Recall, dan F1 Score Untuk Kelas Besni---')\n",
        "\n",
        "# Mendapatkan presisi untuk kelas 'Besni'\n",
        "precision_besni = precision_score(y_dEc_rO_mmx_test, y_dEc_rO_mmx_pred, pos_label='Besni')\n",
        "print(f'Presisi: {precision_besni}')\n",
        "\n",
        "# Mendapatkan recall untuk kelas 'Besni'\n",
        "recall_besni = recall_score(y_dEc_rO_mmx_test, y_dEc_rO_mmx_pred, pos_label='Besni')\n",
        "print(f'Recall: {recall_besni}')\n",
        "\n",
        "# Mendapatkan F1 score untuk kelas 'Besni'\n",
        "f1_besni = f1_score(y_dEc_rO_mmx_test, y_dEc_rO_mmx_pred, pos_label='Besni')\n",
        "print(f'F1 Score: {f1_besni}')\n"
      ]
    },
    {
      "cell_type": "code",
      "execution_count": 113,
      "metadata": {
        "colab": {
          "base_uri": "https://localhost:8080/",
          "height": 410
        },
        "id": "TaefCVtSkV0S",
        "outputId": "b8a2337b-b52e-444c-dc18-b2a262e6e95b"
      },
      "outputs": [
        {
          "data": {
            "image/png": "[encoded data removed]",
            "text/plain": [
              "<Figure size 600x400 with 1 Axes>"
            ]
          },
          "metadata": {},
          "output_type": "display_data"
        }
      ],
      "source": [
        "# Mendapatkan confusion matrix\n",
        "conf_matrix = confusion_matrix(y_dEc_rO_mmx_test, y_dEc_rO_mmx_pred)\n",
        "# Membuat heatmap dari confusion matrix\n",
        "plt.figure(figsize=(6, 4))\n",
        "sns.heatmap(conf_matrix, annot=True, fmt='d', cmap='Blues', cbar=False,\n",
        "            xticklabels=['Kecimen', 'Besni'],\n",
        "            yticklabels=['Kecimen', 'Besni'])\n",
        "plt.xlabel('Predicted')\n",
        "plt.ylabel('Actual')\n",
        "plt.title('Confusion Matrix')\n",
        "plt.show()"
      ]
    },
    {
      "cell_type": "code",
      "execution_count": 114,
      "metadata": {
        "colab": {
          "base_uri": "https://localhost:8080/"
        },
        "id": "wRKBjgRKkZWm",
        "outputId": "207963bb-be1c-4d84-d097-763dd9942ec2"
      },
      "outputs": [
        {
          "name": "stdout",
          "output_type": "stream",
          "text": [
            "Akurasi Pelatihan: 0.8319444444444445\n",
            "Akurasi Pengujian: 0.8333333333333334\n",
            "\n",
            "---Presisi, Recall, dan F1 Score Untuk Kelas Kecimen---\n",
            "Presisi: 0.8333333333333334\n",
            "Recall: 0.851063829787234\n",
            "F1 Score: 0.8421052631578947\n",
            "\n",
            "---Presisi, Recall, dan F1 Score Untuk Kelas Besni---\n",
            "Presisi: 0.8333333333333334\n",
            "Recall: 0.813953488372093\n",
            "F1 Score: 0.8235294117647058\n"
          ]
        }
      ],
      "source": [
        "# Mendapatkan akurasi pelatihan\n",
        "accuracy_training = accuracy_score(y_dMi_rO_mmx_train,y_dMi_rO_mmx_trainPred)\n",
        "print(f'Akurasi Pelatihan: {accuracy_training}')\n",
        "\n",
        "# Mendapatkan akurasi pengujian\n",
        "accuracy = accuracy_score(y_dMi_rO_mmx_test, y_dMi_rO_mmx_pred)\n",
        "print(f'Akurasi Pengujian: {accuracy}')\n",
        "\n",
        "print('')\n",
        "print('---Presisi, Recall, dan F1 Score Untuk Kelas Kecimen---')\n",
        "\n",
        "# Mendapatkan presisi untuk kelas 'Kecimen'\n",
        "precision_kecimen = precision_score(y_dMi_rO_mmx_test, y_dMi_rO_mmx_pred, pos_label='Kecimen')\n",
        "print(f'Presisi: {precision_kecimen}')\n",
        "\n",
        "# Mendapatkan recall untuk kelas 'Kecimen'\n",
        "recall_kecimen = recall_score(y_dMi_rO_mmx_test, y_dMi_rO_mmx_pred, pos_label='Kecimen')\n",
        "print(f'Recall: {recall_kecimen}')\n",
        "\n",
        "# Mendapatkan F1 score untuk kelas 'Kecimen'\n",
        "f1_kecimen = f1_score(y_dMi_rO_mmx_test, y_dMi_rO_mmx_pred, pos_label='Kecimen')\n",
        "print(f'F1 Score: {f1_kecimen}')\n",
        "\n",
        "print('')\n",
        "print('---Presisi, Recall, dan F1 Score Untuk Kelas Besni---')\n",
        "\n",
        "# Mendapatkan presisi untuk kelas 'Besni'\n",
        "precision_besni = precision_score(y_dMi_rO_mmx_test, y_dMi_rO_mmx_pred, pos_label='Besni')\n",
        "print(f'Presisi: {precision_besni}')\n",
        "\n",
        "# Mendapatkan recall untuk kelas 'Besni'\n",
        "recall_besni = recall_score(y_dMi_rO_mmx_test, y_dMi_rO_mmx_pred, pos_label='Besni')\n",
        "print(f'Recall: {recall_besni}')\n",
        "\n",
        "# Mendapatkan F1 score untuk kelas 'Besni'\n",
        "f1_besni = f1_score(y_dMi_rO_mmx_test, y_dMi_rO_mmx_pred, pos_label='Besni')\n",
        "print(f'F1 Score: {f1_besni}')\n"
      ]
    },
    {
      "cell_type": "code",
      "execution_count": 115,
      "metadata": {
        "colab": {
          "base_uri": "https://localhost:8080/",
          "height": 410
        },
        "id": "PzDjYYd1kabL",
        "outputId": "3f69ef36-42e3-4a0e-88f1-800f03ada254"
      },
      "outputs": [
        {
          "data": {
            "image/png": "[encoded data removed]",
            "text/plain": [
              "<Figure size 600x400 with 1 Axes>"
            ]
          },
          "metadata": {},
          "output_type": "display_data"
        }
      ],
      "source": [
        "# Mendapatkan confusion matrix\n",
        "conf_matrix = confusion_matrix(y_dMi_rO_mmx_test, y_dMi_rO_mmx_pred)\n",
        "# Membuat heatmap dari confusion matrix\n",
        "plt.figure(figsize=(6, 4))\n",
        "sns.heatmap(conf_matrix, annot=True, fmt='d', cmap='Blues', cbar=False,\n",
        "            xticklabels=['Kecimen', 'Besni'],\n",
        "            yticklabels=['Kecimen', 'Besni'])\n",
        "plt.xlabel('Predicted')\n",
        "plt.ylabel('Actual')\n",
        "plt.title('Confusion Matrix')\n",
        "plt.show()"
      ]
    },
    {
      "cell_type": "markdown",
      "metadata": {
        "id": "UmqcNTpe7P2Z"
      },
      "source": [
        "### **Assessment of Data Mining Results**"
      ]
    },
    {
      "cell_type": "markdown",
      "metadata": {
        "id": "BrWUckWhIsrC"
      },
      "source": [
        "*   Model Logistic Regression terbaik yang berhasil mencapai akurasi 84%, memenuhi target minimal 80% sesuai dengan kriteria keberhasilan bisnis adalah model dengan menggunakan data fitur lengkap sebanyak 7 fitur atau data tanpa pembuangan fitur  yang telah melalui proses penggantian nilai outlier menjadi nilai median serta melalui normalisasi Min-Max Scaling.\n",
        "*   Temuan tambahan termasuk identifikasi faktor-faktor yang paling berpengaruh dalam prediksi."
      ]
    },
    {
      "cell_type": "markdown",
      "metadata": {
        "id": "TaWSolcz7Uvs"
      },
      "source": [
        "### **Approved Models**"
      ]
    },
    {
      "cell_type": "markdown",
      "metadata": {
        "id": "vF15Kqe-I2H8"
      },
      "source": [
        "Model yang memenuhi kriteria keberhasilan bisnis dianggap sebagai model yang disetujui. Sehingga, model Logistic Regression dengan parameter hasil terbaik dianggap disetujui."
      ]
    },
    {
      "cell_type": "code",
      "execution_count": null,
      "metadata": {
        "id": "t5yUKDdUlfGM"
      },
      "outputs": [],
      "source": [
        "import joblib\n",
        "# Menyimpan scaler ke dalam file\n",
        "joblib.dump(scaler_minmax_rO, '/content/drive/MyDrive/psd/raisin/scaler.pkl')"
      ]
    },
    {
      "cell_type": "code",
      "execution_count": null,
      "metadata": {
        "id": "HrwJYB6NlhJx"
      },
      "outputs": [],
      "source": [
        "import joblib\n",
        "# Simpan model ke dalam file\n",
        "joblib.dump(LR_rO_mmx, '/content/drive/MyDrive/psd/raisin/LR_model.pkl')"
      ]
    },
    {
      "cell_type": "markdown",
      "metadata": {
        "id": "HglyY8VA4JXC"
      },
      "source": [
        "## **Review Process**"
      ]
    },
    {
      "cell_type": "markdown",
      "metadata": {
        "id": "lS37Dy-L7YjZ"
      },
      "source": [
        "### **Review of Process**"
      ]
    },
    {
      "cell_type": "markdown",
      "metadata": {
        "id": "G29CI7QxI4Zr"
      },
      "source": [
        "Proses pemodelan dan evaluasi telah dilaksanakan sesuai rencana proyek.\n",
        "Semua aktivitas dilakukan sesuai dengan pedoman data mining yang berlaku.\n",
        "Tidak ada isu kualitas yang signifikan yang terlewat selama proses."
      ]
    },
    {
      "cell_type": "markdown",
      "metadata": {
        "id": "nxxozNo64Lqy"
      },
      "source": [
        "## **Determine Next Steps**"
      ]
    },
    {
      "cell_type": "markdown",
      "metadata": {
        "id": "_2PCMFxRJgGx"
      },
      "source": [
        "*   Berdasarkan evaluasi hasil dan tinjauan proses, maka diputuskan untuk melanjutkan ke tahap implementasi model ke dalam Streamlit.\n",
        "*   Menyiapkan laporan final proyek untuk disajikan pada web statis menggunakan posit cloud."
      ]
    },
    {
      "cell_type": "markdown",
      "metadata": {
        "id": "s7MhB20P2S78"
      },
      "source": [
        "# **Deployment**"
      ]
    },
    {
      "cell_type": "markdown",
      "metadata": {
        "id": "mRVWpixB4N4j"
      },
      "source": [
        "## **Plan Deployment**"
      ]
    },
    {
      "cell_type": "markdown",
      "metadata": {
        "id": "t0cFRHciKaOU"
      },
      "source": [
        "Implementasi model Logistic Regression pada antarmuka web akan menggunakan Streamlit dengan menggunakan model terbaik yang disimmpan dalam file `pickle`. Setelah model disiapkan, lalu dibuatlah skrip menggunakan Streamlit yang  memuat model Logistic Regression yang sudah disimpan, dan mendefinisikan fungsi untuk melakukan prediksi berdasarkan input dari pengguna.\n",
        "\n",
        "Antarmuka web dibangun dengan judul \"Aplikasi Klasifikasi Jenis Kismis\". Fitur-fitur yang diperlukan untuk prediksi dimasukkan melalui field masukan dan hasil prediksi ditampilkan secara langsung di halaman antarmuka web.\n",
        "\n",
        "Terakhir, aplikasi akan dideploy sehingga pengguna dapat mengakses antarmuka web melalui browser dan berinteraksi dengan model Logistic Regression untuk melakukan klasifikasi varietas Kecimen dan Besni. Seluruh proses ini dirancang untuk memberikan pengalaman pengguna yang mudah dan efisien dalam menggunakan model untuk tujuan klasifikasi yang diinginkan."
      ]
    },
    {
      "cell_type": "markdown",
      "metadata": {
        "id": "Si9SK2uC4Tkq"
      },
      "source": [
        "## **Produce Final Report**"
      ]
    },
    {
      "cell_type": "markdown",
      "metadata": {
        "id": "SLilkJk47njZ"
      },
      "source": [
        "### **Final Report**"
      ]
    },
    {
      "cell_type": "markdown",
      "metadata": {
        "id": "hMF9xHjnKEuD"
      },
      "source": [
        "Laporan akhir berisi rangkuman menyeluruh tentang proyek, metode yang diterapkan, dan hasil evaluasi model yang akan disajikan melalui website statis memanfaatkan POSIT dengan penjelasan mendalam pada setiap tahapan proses data mining.\n",
        "\n",
        "**Link Website Statis Final Report**: [RPubs](https://rpubs.com/swandaaa/1120471)"
      ]
    },
    {
      "cell_type": "markdown",
      "metadata": {
        "id": "RvHlhsLb4WC9"
      },
      "source": [
        "## **Review Project**"
      ]
    },
    {
      "cell_type": "markdown",
      "metadata": {
        "id": "FtCAX2Zp88T4"
      },
      "source": [
        "* **Link Deployment**: [Streamlit](https://klasifikasilogistic-regressionraisin-dataset-b5p8khmqviw2htkwa.streamlit.app/)\n",
        "* **Evaluasi Proyek**:\n",
        "\n",
        "  Klasifikasi varietas kismis yang dimodelkan menggunakan Logistic Regression ini mencapai akurasi 84% tanpa adanya pengurangan fitur.\n",
        "  \n",
        "* **Kesalahan yang ditemui**:\n",
        "\n",
        "  Meskipun terdapat fitur yang memberikan pengaruh kecil terhadap klasifikasi, tetapi pengurangan fitur belum tentu jawaban yang tepat untuk meningkatkan akurasi, karena bisa saja dengan menghilangkan fitur yang dianggap tidak sebegitu berpengaruhnya dapat menghilangkan informasi sehingga akurasi malah menurun.  "
      ]
    }
  ],
  "metadata": {
    "colab": {
      "provenance": []
    },
    "kernelspec": {
      "display_name": "Python 3",
      "name": "python3"
    },
    "language_info": {
      "name": "python"
    }
  },
  "nbformat": 4,
  "nbformat_minor": 0
}
